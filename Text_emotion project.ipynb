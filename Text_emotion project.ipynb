{
  "cells": [
    {
      "cell_type": "code",
      "execution_count": null,
      "metadata": {
        "colab": {
          "base_uri": "https://localhost:8080/"
        },
        "id": "5FXiL0ZvHKGg",
        "outputId": "c6c39fc8-06a9-47aa-e1ca-5d5be2377ad9"
      },
      "outputs": [
        {
          "name": "stdout",
          "output_type": "stream",
          "text": [
            "Collecting tzdata\n",
            "  Downloading tzdata-2023.3-py2.py3-none-any.whl (341 kB)\n",
            "\u001b[?25l     \u001b[90m━━━━━━━━━━━━━━━━━━━━━━━━━━━━━━━━━━━━━━━━\u001b[0m \u001b[32m0.0/341.8 kB\u001b[0m \u001b[31m?\u001b[0m eta \u001b[36m-:--:--\u001b[0m\r\u001b[2K     \u001b[91m━━━━━━━━━\u001b[0m\u001b[91m╸\u001b[0m\u001b[90m━━━━━━━━━━━━━━━━━━━━━━━━━━━━━━\u001b[0m \u001b[32m81.9/341.8 kB\u001b[0m \u001b[31m2.9 MB/s\u001b[0m eta \u001b[36m0:00:01\u001b[0m\r\u001b[2K     \u001b[91m━━━━━━━━━━━━━━━━━━━━━━━━━━━━━━━━━━━━━━━\u001b[0m\u001b[91m╸\u001b[0m \u001b[32m337.9/341.8 kB\u001b[0m \u001b[31m5.9 MB/s\u001b[0m eta \u001b[36m0:00:01\u001b[0m\r\u001b[2K     \u001b[90m━━━━━━━━━━━━━━━━━━━━━━━━━━━━━━━━━━━━━━━━\u001b[0m \u001b[32m341.8/341.8 kB\u001b[0m \u001b[31m4.8 MB/s\u001b[0m eta \u001b[36m0:00:00\u001b[0m\n",
            "\u001b[?25hInstalling collected packages: tzdata\n",
            "Successfully installed tzdata-2023.3\n",
            "Requirement already satisfied: transformers in /usr/local/lib/python3.10/dist-packages (4.35.2)\n",
            "Requirement already satisfied: torch in /usr/local/lib/python3.10/dist-packages (2.1.0+cu118)\n",
            "Requirement already satisfied: filelock in /usr/local/lib/python3.10/dist-packages (from transformers) (3.13.1)\n",
            "Requirement already satisfied: huggingface-hub<1.0,>=0.16.4 in /usr/local/lib/python3.10/dist-packages (from transformers) (0.19.4)\n",
            "Requirement already satisfied: numpy>=1.17 in /usr/local/lib/python3.10/dist-packages (from transformers) (1.23.5)\n",
            "Requirement already satisfied: packaging>=20.0 in /usr/local/lib/python3.10/dist-packages (from transformers) (23.2)\n",
            "Requirement already satisfied: pyyaml>=5.1 in /usr/local/lib/python3.10/dist-packages (from transformers) (6.0.1)\n",
            "Requirement already satisfied: regex!=2019.12.17 in /usr/local/lib/python3.10/dist-packages (from transformers) (2023.6.3)\n",
            "Requirement already satisfied: requests in /usr/local/lib/python3.10/dist-packages (from transformers) (2.31.0)\n",
            "Requirement already satisfied: tokenizers<0.19,>=0.14 in /usr/local/lib/python3.10/dist-packages (from transformers) (0.15.0)\n",
            "Requirement already satisfied: safetensors>=0.3.1 in /usr/local/lib/python3.10/dist-packages (from transformers) (0.4.1)\n",
            "Requirement already satisfied: tqdm>=4.27 in /usr/local/lib/python3.10/dist-packages (from transformers) (4.66.1)\n",
            "Requirement already satisfied: typing-extensions in /usr/local/lib/python3.10/dist-packages (from torch) (4.5.0)\n",
            "Requirement already satisfied: sympy in /usr/local/lib/python3.10/dist-packages (from torch) (1.12)\n",
            "Requirement already satisfied: networkx in /usr/local/lib/python3.10/dist-packages (from torch) (3.2.1)\n",
            "Requirement already satisfied: jinja2 in /usr/local/lib/python3.10/dist-packages (from torch) (3.1.2)\n",
            "Requirement already satisfied: fsspec in /usr/local/lib/python3.10/dist-packages (from torch) (2023.6.0)\n",
            "Requirement already satisfied: triton==2.1.0 in /usr/local/lib/python3.10/dist-packages (from torch) (2.1.0)\n",
            "Requirement already satisfied: MarkupSafe>=2.0 in /usr/local/lib/python3.10/dist-packages (from jinja2->torch) (2.1.3)\n",
            "Requirement already satisfied: charset-normalizer<4,>=2 in /usr/local/lib/python3.10/dist-packages (from requests->transformers) (3.3.2)\n",
            "Requirement already satisfied: idna<4,>=2.5 in /usr/local/lib/python3.10/dist-packages (from requests->transformers) (3.6)\n",
            "Requirement already satisfied: urllib3<3,>=1.21.1 in /usr/local/lib/python3.10/dist-packages (from requests->transformers) (2.0.7)\n",
            "Requirement already satisfied: certifi>=2017.4.17 in /usr/local/lib/python3.10/dist-packages (from requests->transformers) (2023.11.17)\n",
            "Requirement already satisfied: mpmath>=0.19 in /usr/local/lib/python3.10/dist-packages (from sympy->torch) (1.3.0)\n",
            "Collecting funcy\n",
            "  Downloading funcy-2.0-py2.py3-none-any.whl (30 kB)\n",
            "Installing collected packages: funcy\n",
            "Successfully installed funcy-2.0\n",
            "Collecting pyLDAvis\n",
            "  Downloading pyLDAvis-3.4.1-py3-none-any.whl (2.6 MB)\n",
            "\u001b[2K     \u001b[90m━━━━━━━━━━━━━━━━━━━━━━━━━━━━━━━━━━━━━━━━\u001b[0m \u001b[32m2.6/2.6 MB\u001b[0m \u001b[31m37.9 MB/s\u001b[0m eta \u001b[36m0:00:00\u001b[0m\n",
            "\u001b[?25hInstalling collected packages: pyLDAvis\n",
            "Successfully installed pyLDAvis-3.4.1\n"
          ]
        },
        {
          "name": "stderr",
          "output_type": "stream",
          "text": [
            "/usr/local/lib/python3.10/dist-packages/google/rpc/__init__.py:20: DeprecationWarning: Deprecated call to `pkg_resources.declare_namespace('google.rpc')`.\n",
            "Implementing implicit namespace packages (as specified in PEP 420) is preferred to `pkg_resources.declare_namespace`. See https://setuptools.pypa.io/en/latest/references/keywords.html#keyword-namespace-packages\n",
            "  pkg_resources.declare_namespace(__name__)\n",
            "/usr/local/lib/python3.10/dist-packages/pkg_resources/__init__.py:2349: DeprecationWarning: Deprecated call to `pkg_resources.declare_namespace('google')`.\n",
            "Implementing implicit namespace packages (as specified in PEP 420) is preferred to `pkg_resources.declare_namespace`. See https://setuptools.pypa.io/en/latest/references/keywords.html#keyword-namespace-packages\n",
            "  declare_namespace(parent)\n",
            "/usr/local/lib/python3.10/dist-packages/tensorflow/python/framework/dtypes.py:35: DeprecationWarning: ml_dtypes.float8_e4m3b11 is deprecated. Use ml_dtypes.float8_e4m3b11fnuz\n",
            "  from tensorflow.tsl.python.lib.core import pywrap_ml_dtypes\n",
            "/usr/local/lib/python3.10/dist-packages/tensorflow_probability/python/__init__.py:57: DeprecationWarning: distutils Version classes are deprecated. Use packaging.version instead.\n",
            "  if (distutils.version.LooseVersion(tf.__version__) <\n",
            "/usr/local/lib/python3.10/dist-packages/tensorflow_probability/python/__init__.py:58: DeprecationWarning: distutils Version classes are deprecated. Use packaging.version instead.\n",
            "  distutils.version.LooseVersion(required_tensorflow_version)):\n",
            "[nltk_data] Downloading package punkt to /root/nltk_data...\n",
            "[nltk_data]   Unzipping tokenizers/punkt.zip.\n",
            "[nltk_data] Downloading package stopwords to /root/nltk_data...\n",
            "[nltk_data]   Unzipping corpora/stopwords.zip.\n",
            "[nltk_data] Downloading package wordnet to /root/nltk_data...\n"
          ]
        },
        {
          "data": {
            "text/plain": [
              "True"
            ]
          },
          "execution_count": 1,
          "metadata": {},
          "output_type": "execute_result"
        }
      ],
      "source": [
        "# Import the necassary packages\n",
        "!pip install tzdata\n",
        "!pip install transformers torch\n",
        "!pip install funcy\n",
        "!pip install --no-deps pyLDAvis\n",
        "\n",
        "import pandas as pd\n",
        "import numpy as np\n",
        "import nltk\n",
        "from nltk.corpus import stopwords\n",
        "from nltk import word_tokenize\n",
        "from sklearn.model_selection import cross_val_score\n",
        "import string\n",
        "import re\n",
        "from sklearn.feature_extraction.text import TfidfVectorizer\n",
        "from sklearn.model_selection import train_test_split\n",
        "from sklearn.metrics import accuracy_score, classification_report, confusion_matrix\n",
        "from sklearn.naive_bayes import MultinomialNB\n",
        "from nltk.stem import PorterStemmer\n",
        "from nltk.stem import WordNetLemmatizer\n",
        "from sklearn import metrics\n",
        "from sklearn.feature_extraction.text import TfidfVectorizer\n",
        "from sklearn.decomposition import LatentDirichletAllocation\n",
        "import pyLDAvis.gensim_models\n",
        "from IPython.display import IFrame\n",
        "import gensim\n",
        "from gensim import corpora\n",
        "import pyLDAvis\n",
        "import multiprocessing\n",
        "import torch\n",
        "from transformers import pipeline\n",
        "import seaborn as sns\n",
        "\n",
        "nltk.download('punkt')\n",
        "nltk.download('stopwords')\n",
        "nltk.download('wordnet')\n",
        "\n"
      ]
    },
    {
      "cell_type": "code",
      "execution_count": null,
      "metadata": {
        "colab": {
          "base_uri": "https://localhost:8080/"
        },
        "id": "GB8TlODi_rRH",
        "outputId": "d8656b3c-5c8f-424a-fdbc-d9620a6238ce"
      },
      "outputs": [
        {
          "name": "stderr",
          "output_type": "stream",
          "text": [
            "/usr/local/lib/python3.10/dist-packages/ipykernel/ipkernel.py:283: DeprecationWarning: `should_run_async` will not call `transform_cell` automatically in the future. Please pass the result to `transformed_cell` argument and any exception that happen during thetransform in `preprocessing_exc_tuple` in IPython 7.17 and above.\n",
            "  and should_run_async(code)\n"
          ]
        }
      ],
      "source": [
        "import matplotlib.pyplot as plt\n",
        "from sklearn.feature_extraction.text import TfidfVectorizer\n",
        "from sklearn.model_selection import train_test_split\n",
        "from sklearn.svm import SVC"
      ]
    },
    {
      "cell_type": "code",
      "execution_count": null,
      "metadata": {
        "colab": {
          "base_uri": "https://localhost:8080/"
        },
        "id": "QshR-3yeEmlM",
        "outputId": "a5090c77-cf30-4497-aba2-e64fdbb15c89"
      },
      "outputs": [
        {
          "name": "stderr",
          "output_type": "stream",
          "text": [
            "/usr/local/lib/python3.10/dist-packages/ipykernel/ipkernel.py:283: DeprecationWarning: `should_run_async` will not call `transform_cell` automatically in the future. Please pass the result to `transformed_cell` argument and any exception that happen during thetransform in `preprocessing_exc_tuple` in IPython 7.17 and above.\n",
            "  and should_run_async(code)\n"
          ]
        },
        {
          "name": "stdout",
          "output_type": "stream",
          "text": [
            "Mounted at /content/drive\n"
          ]
        }
      ],
      "source": [
        "# Mount the google drive\n",
        "from google.colab import drive\n",
        "drive.mount('/content/drive')"
      ]
    },
    {
      "cell_type": "code",
      "execution_count": null,
      "metadata": {
        "colab": {
          "base_uri": "https://localhost:8080/"
        },
        "id": "hIxtLYr2KFbT",
        "outputId": "81a462ec-e40b-4135-ad6a-de314c117359"
      },
      "outputs": [
        {
          "name": "stderr",
          "output_type": "stream",
          "text": [
            "/usr/local/lib/python3.10/dist-packages/ipykernel/ipkernel.py:283: DeprecationWarning: `should_run_async` will not call `transform_cell` automatically in the future. Please pass the result to `transformed_cell` argument and any exception that happen during thetransform in `preprocessing_exc_tuple` in IPython 7.17 and above.\n",
            "  and should_run_async(code)\n"
          ]
        }
      ],
      "source": [
        "# Load the dataset\n",
        "\n",
        "df = pd.read_csv(\"/content/drive/MyDrive/eng_dataset.csv\")"
      ]
    },
    {
      "cell_type": "code",
      "execution_count": null,
      "metadata": {
        "colab": {
          "base_uri": "https://localhost:8080/"
        },
        "id": "u8diB9WEAIJ-",
        "outputId": "a010fadd-354b-4f98-cc1c-4ea37d868552"
      },
      "outputs": [
        {
          "name": "stdout",
          "output_type": "stream",
          "text": [
            "<class 'pandas.core.frame.DataFrame'>\n",
            "RangeIndex: 7102 entries, 0 to 7101\n",
            "Data columns (total 3 columns):\n",
            " #   Column     Non-Null Count  Dtype \n",
            "---  ------     --------------  ----- \n",
            " 0   ID         7102 non-null   int64 \n",
            " 1   sentiment  7102 non-null   object\n",
            " 2   content    7102 non-null   object\n",
            "dtypes: int64(1), object(2)\n",
            "memory usage: 166.6+ KB\n"
          ]
        },
        {
          "name": "stderr",
          "output_type": "stream",
          "text": [
            "/usr/local/lib/python3.10/dist-packages/ipykernel/ipkernel.py:283: DeprecationWarning: `should_run_async` will not call `transform_cell` automatically in the future. Please pass the result to `transformed_cell` argument and any exception that happen during thetransform in `preprocessing_exc_tuple` in IPython 7.17 and above.\n",
            "  and should_run_async(code)\n"
          ]
        }
      ],
      "source": [
        "# Info about the data\n",
        "df.info()"
      ]
    },
    {
      "cell_type": "code",
      "execution_count": null,
      "metadata": {
        "colab": {
          "base_uri": "https://localhost:8080/"
        },
        "id": "H5ku_WfDMFBg",
        "outputId": "2f42af24-0251-4769-f811-dfb8ce389bb9"
      },
      "outputs": [
        {
          "name": "stderr",
          "output_type": "stream",
          "text": [
            "/usr/local/lib/python3.10/dist-packages/ipykernel/ipkernel.py:283: DeprecationWarning: `should_run_async` will not call `transform_cell` automatically in the future. Please pass the result to `transformed_cell` argument and any exception that happen during thetransform in `preprocessing_exc_tuple` in IPython 7.17 and above.\n",
            "  and should_run_async(code)\n"
          ]
        },
        {
          "data": {
            "text/plain": [
              "<bound method NDFrame.head of          ID sentiment                                            content\n",
              "0     10941     anger  At the point today where if someone says somet...\n",
              "1     10942     anger  @CorningFootball  IT'S GAME DAY!!!!      T MIN...\n",
              "2     10943     anger  This game has pissed me off more than any othe...\n",
              "3     10944     anger  @spamvicious I've just found out it's Candice ...\n",
              "4     10945     anger  @moocowward @mrsajhargreaves @Melly77 @GaryBar...\n",
              "...     ...       ...                                                ...\n",
              "7097  40781   sadness  @VivienLloyd Thank you so much! Just home - st...\n",
              "7098  40782   sadness              Just put the winter duvet on ☃️❄️🌬☔️ \n",
              "7099  40783   sadness  @SilkInSide @TommyJoeRatliff that's so pretty!...\n",
              "7100  40784   sadness  @BluesfestByron second artist announcement loo...\n",
              "7101  40785   sadness  I can literally eat creamy pesto pasta topped ...\n",
              "\n",
              "[7102 rows x 3 columns]>"
            ]
          },
          "execution_count": 6,
          "metadata": {},
          "output_type": "execute_result"
        }
      ],
      "source": [
        "df.head"
      ]
    },
    {
      "cell_type": "code",
      "execution_count": null,
      "metadata": {
        "colab": {
          "base_uri": "https://localhost:8080/"
        },
        "id": "q39Dr1_wMQBQ",
        "outputId": "eaa08562-3e6b-4641-b1c2-6a452e1605c7"
      },
      "outputs": [
        {
          "name": "stderr",
          "output_type": "stream",
          "text": [
            "/usr/local/lib/python3.10/dist-packages/ipykernel/ipkernel.py:283: DeprecationWarning: `should_run_async` will not call `transform_cell` automatically in the future. Please pass the result to `transformed_cell` argument and any exception that happen during thetransform in `preprocessing_exc_tuple` in IPython 7.17 and above.\n",
            "  and should_run_async(code)\n"
          ]
        }
      ],
      "source": [
        "# renaming column name and checking for the null values\n",
        "\n",
        "df['Emotion']=df['sentiment']\n",
        "df['Text']=df['content']"
      ]
    },
    {
      "cell_type": "code",
      "execution_count": null,
      "metadata": {
        "colab": {
          "base_uri": "https://localhost:8080/"
        },
        "id": "vbtBAMwkAgLh",
        "outputId": "391084ab-9715-4f00-a328-b19408d2b490"
      },
      "outputs": [
        {
          "name": "stderr",
          "output_type": "stream",
          "text": [
            "/usr/local/lib/python3.10/dist-packages/ipykernel/ipkernel.py:283: DeprecationWarning: `should_run_async` will not call `transform_cell` automatically in the future. Please pass the result to `transformed_cell` argument and any exception that happen during thetransform in `preprocessing_exc_tuple` in IPython 7.17 and above.\n",
            "  and should_run_async(code)\n"
          ]
        }
      ],
      "source": [
        "# Dropping the column\n",
        "df.drop(columns=['content','sentiment'],inplace=True)"
      ]
    },
    {
      "cell_type": "code",
      "execution_count": null,
      "metadata": {
        "colab": {
          "base_uri": "https://localhost:8080/",
          "height": 529
        },
        "id": "R4lMsJdBNHgZ",
        "outputId": "d073d3e7-4ec9-4421-9d53-d19eb89beb8e"
      },
      "outputs": [
        {
          "name": "stderr",
          "output_type": "stream",
          "text": [
            "/usr/local/lib/python3.10/dist-packages/ipykernel/ipkernel.py:283: DeprecationWarning: `should_run_async` will not call `transform_cell` automatically in the future. Please pass the result to `transformed_cell` argument and any exception that happen during thetransform in `preprocessing_exc_tuple` in IPython 7.17 and above.\n",
            "  and should_run_async(code)\n"
          ]
        },
        {
          "data": {
            "image/png": "[encoded data removed]",
            "text/plain": [
              "<Figure size 640x480 with 1 Axes>"
            ]
          },
          "metadata": {},
          "output_type": "display_data"
        }
      ],
      "source": [
        "#Emotion distribution\n",
        "\n",
        "emotion_count = df['Emotion'].value_counts().reset_index()\n",
        "\n",
        "sns.barplot(data=emotion_count,x='index',y='Emotion')\n",
        "plt.title(\"Counts for each emotion\")\n",
        "plt.show()"
      ]
    },
    {
      "cell_type": "code",
      "execution_count": null,
      "metadata": {
        "colab": {
          "base_uri": "https://localhost:8080/"
        },
        "id": "v_PnIBUBNZJs",
        "outputId": "ce00abb2-a8fa-41c2-a407-9d4a382e5e4a"
      },
      "outputs": [
        {
          "name": "stderr",
          "output_type": "stream",
          "text": [
            "/usr/local/lib/python3.10/dist-packages/ipykernel/ipkernel.py:283: DeprecationWarning: `should_run_async` will not call `transform_cell` automatically in the future. Please pass the result to `transformed_cell` argument and any exception that happen during thetransform in `preprocessing_exc_tuple` in IPython 7.17 and above.\n",
            "  and should_run_async(code)\n"
          ]
        }
      ],
      "source": [
        "# Text preprocessing\n",
        "def preprocess_and_tokenize(text):\n",
        "    # Convert to lowercase\n",
        "    text = text.lower()\n",
        "\n",
        "\n",
        "    text = re.sub(r'\\W', ' ', text)\n",
        "\n",
        "    text = ''.join([char for char in text if char not in string.punctuation])\n",
        "\n",
        "    tokens = word_tokenize(text)\n",
        "\n",
        "    stop_words = set(stopwords.words('english'))\n",
        "    tokens = [token for token in tokens if token not in stop_words]\n",
        "\n",
        "    stemmer = PorterStemmer()\n",
        "    tokens = [stemmer.stem(token) for token in tokens]\n",
        "\n",
        "    return tokens\n",
        "\n",
        "\n",
        "df['Tokenized_Text'] = df['Text'].apply(preprocess_and_tokenize)"
      ]
    },
    {
      "cell_type": "code",
      "execution_count": null,
      "metadata": {
        "colab": {
          "base_uri": "https://localhost:8080/"
        },
        "id": "RN4q1n6pHyEe",
        "outputId": "10478e28-1d8a-4c17-97ae-aafd02e23ed9"
      },
      "outputs": [
        {
          "name": "stdout",
          "output_type": "stream",
          "text": [
            "         ID  Emotion                                               Text  \\\n",
            "0     10941    anger  At the point today where if someone says somet...   \n",
            "1     10942    anger  @CorningFootball  IT'S GAME DAY!!!!      T MIN...   \n",
            "2     10943    anger  This game has pissed me off more than any othe...   \n",
            "3     10944    anger  @spamvicious I've just found out it's Candice ...   \n",
            "4     10945    anger  @moocowward @mrsajhargreaves @Melly77 @GaryBar...   \n",
            "...     ...      ...                                                ...   \n",
            "7097  40781  sadness  @VivienLloyd Thank you so much! Just home - st...   \n",
            "7098  40782  sadness              Just put the winter duvet on ☃️❄️🌬☔️    \n",
            "7099  40783  sadness  @SilkInSide @TommyJoeRatliff that's so pretty!...   \n",
            "7100  40784  sadness  @BluesfestByron second artist announcement loo...   \n",
            "7101  40785  sadness  I can literally eat creamy pesto pasta topped ...   \n",
            "\n",
            "                                         Tokenized_Text  \n",
            "0     [point, today, someon, say, someth, remot, kin...  \n",
            "1     [corningfootbal, game, day, minu, 14, 30, rele...  \n",
            "2     [game, piss, game, year, blood, boil, time, tu...  \n",
            "3     [spamvici, found, candic, candac, pout, like, ðÿ]  \n",
            "4     [moocowward, mrsajhargreav, melly77, garybarlo...  \n",
            "...                                                 ...  \n",
            "7097  [vivienlloyd, thank, much, home, stun, happi, ...  \n",
            "7098                               [put, winter, duvet]  \n",
            "7099  [silkinsid, tommyjoeratliff, pretti, love, sky...  \n",
            "7100  [bluesfestbyron, second, artist, announc, look...  \n",
            "7101  [liter, eat, creami, pesto, pasta, top, grill,...  \n",
            "\n",
            "[7102 rows x 4 columns]\n"
          ]
        },
        {
          "name": "stderr",
          "output_type": "stream",
          "text": [
            "/usr/local/lib/python3.10/dist-packages/ipykernel/ipkernel.py:283: DeprecationWarning: `should_run_async` will not call `transform_cell` automatically in the future. Please pass the result to `transformed_cell` argument and any exception that happen during thetransform in `preprocessing_exc_tuple` in IPython 7.17 and above.\n",
            "  and should_run_async(code)\n"
          ]
        }
      ],
      "source": [
        "print(df)"
      ]
    },
    {
      "cell_type": "code",
      "execution_count": null,
      "metadata": {
        "colab": {
          "base_uri": "https://localhost:8080/"
        },
        "id": "6emk4zXMwgk4",
        "outputId": "9ce07f09-fc40-43a5-f706-352fd95bb2ca"
      },
      "outputs": [
        {
          "name": "stdout",
          "output_type": "stream",
          "text": [
            "49\n"
          ]
        },
        {
          "name": "stderr",
          "output_type": "stream",
          "text": [
            "/usr/local/lib/python3.10/dist-packages/ipykernel/ipkernel.py:283: DeprecationWarning: `should_run_async` will not call `transform_cell` automatically in the future. Please pass the result to `transformed_cell` argument and any exception that happen during thetransform in `preprocessing_exc_tuple` in IPython 7.17 and above.\n",
            "  and should_run_async(code)\n"
          ]
        }
      ],
      "source": [
        "max_lengths = [max(len(tokens) for tokens in text) for text in df['Tokenized_Text']]\n",
        "print(max(max_lengths))"
      ]
    },
    {
      "cell_type": "code",
      "execution_count": null,
      "metadata": {
        "colab": {
          "base_uri": "https://localhost:8080/",
          "height": 769
        },
        "id": "YPTBZfZBQQKV",
        "outputId": "c201d2b9-b162-4218-b96a-0ecd37d63134"
      },
      "outputs": [
        {
          "name": "stderr",
          "output_type": "stream",
          "text": [
            "/usr/local/lib/python3.10/dist-packages/ipykernel/ipkernel.py:283: DeprecationWarning: `should_run_async` will not call `transform_cell` automatically in the future. Please pass the result to `transformed_cell` argument and any exception that happen during thetransform in `preprocessing_exc_tuple` in IPython 7.17 and above.\n",
            "  and should_run_async(code)\n"
          ]
        },
        {
          "name": "stdout",
          "output_type": "stream",
          "text": [
            "Accuracy Naive Bayes: 0.788881069669247\n",
            "Classification Report:\n",
            "              precision    recall  f1-score   support\n",
            "\n",
            "       anger       0.85      0.79      0.82       375\n",
            "        fear       0.71      0.91      0.80       434\n",
            "         joy       0.89      0.79      0.84       319\n",
            "     sadness       0.76      0.61      0.68       293\n",
            "\n",
            "    accuracy                           0.79      1421\n",
            "   macro avg       0.80      0.77      0.78      1421\n",
            "weighted avg       0.80      0.79      0.79      1421\n",
            "\n"
          ]
        },
        {
          "data": {
            "image/png": "[encoded data removed]",
            "text/plain": [
              "<Figure size 640x480 with 2 Axes>"
            ]
          },
          "metadata": {},
          "output_type": "display_data"
        }
      ],
      "source": [
        "# Text to numerical data :\n",
        "tfidf_vectorizer = TfidfVectorizer()\n",
        "X = tfidf_vectorizer.fit_transform(df['Tokenized_Text'].apply(lambda x: ' '.join(x)))\n",
        "\n",
        "y = df['Emotion']\n",
        "\n",
        "X_train, X_test, y_train, y_test = train_test_split(X, y, test_size=0.2, random_state=42)\n",
        "\n",
        "curAlpha = 0.32\n",
        "NBClassifier = MultinomialNB(alpha=curAlpha)\n",
        "NBClassifier.fit(X_train, y_train)\n",
        "\n",
        "myPredTest = NBClassifier.predict(X_test)\n",
        "\n",
        "accuracy = np.sum(myPredTest == y_test) / len(y_test)\n",
        "print(f'Accuracy Naive Bayes: {accuracy}')\n",
        "\n",
        "print('Classification Report:')\n",
        "print(classification_report(y_test, myPredTest))\n",
        "\n",
        "conf_matrix = confusion_matrix(y_test, myPredTest)\n",
        "sns.heatmap(conf_matrix, annot=True, fmt='d', cmap='Blues', xticklabels=emotion_count['index'], yticklabels=emotion_count['index'])\n",
        "plt.title('Confusion Matrix')\n",
        "plt.xlabel('Predicted')\n",
        "plt.ylabel('True')\n",
        "plt.show()"
      ]
    },
    {
      "cell_type": "code",
      "execution_count": null,
      "metadata": {
        "colab": {
          "base_uri": "https://localhost:8080/"
        },
        "id": "aICGEBA9Ro_R",
        "outputId": "7d139c06-4e1b-4a24-e0a7-ef8870a9d9ac"
      },
      "outputs": [
        {
          "name": "stdout",
          "output_type": "stream",
          "text": [
            "Cross-Validation Scores: [0.63859649 0.66197183 0.67253521 0.71126761 0.6584507 ]\n",
            "Average Cross-Validation Score: 0.6685643686681493\n"
          ]
        },
        {
          "name": "stderr",
          "output_type": "stream",
          "text": [
            "/usr/local/lib/python3.10/dist-packages/ipykernel/ipkernel.py:283: DeprecationWarning: `should_run_async` will not call `transform_cell` automatically in the future. Please pass the result to `transformed_cell` argument and any exception that happen during thetransform in `preprocessing_exc_tuple` in IPython 7.17 and above.\n",
            "  and should_run_async(code)\n"
          ]
        }
      ],
      "source": [
        "# Cross validation for Naivebayes\n",
        "cv_scores = cross_val_score(NBClassifier, X_test, y_test, cv=5)\n",
        "\n",
        "print(\"Cross-Validation Scores:\", cv_scores)\n",
        "\n",
        "average_cv_score = np.mean(cv_scores)\n",
        "print(\"Average Cross-Validation Score:\", average_cv_score)\n"
      ]
    },
    {
      "cell_type": "code",
      "execution_count": null,
      "metadata": {
        "colab": {
          "base_uri": "https://localhost:8080/"
        },
        "id": "jGO8Z6uAAYTL",
        "outputId": "233fd883-bcb5-4a69-d1ba-34444e44abac"
      },
      "outputs": [
        {
          "name": "stderr",
          "output_type": "stream",
          "text": [
            "/usr/local/lib/python3.10/dist-packages/ipykernel/ipkernel.py:283: DeprecationWarning: `should_run_async` will not call `transform_cell` automatically in the future. Please pass the result to `transformed_cell` argument and any exception that happen during thetransform in `preprocessing_exc_tuple` in IPython 7.17 and above.\n",
            "  and should_run_async(code)\n"
          ]
        }
      ],
      "source": [
        "from sklearn.feature_extraction.text import TfidfVectorizer\n",
        "from sklearn.model_selection import train_test_split\n",
        "from sklearn import svm"
      ]
    },
    {
      "cell_type": "code",
      "execution_count": null,
      "metadata": {
        "colab": {
          "base_uri": "https://localhost:8080/",
          "height": 769
        },
        "id": "V0KAbYHYW3s2",
        "outputId": "a7c740da-a7b2-4851-8765-7d1489b33f30"
      },
      "outputs": [
        {
          "name": "stderr",
          "output_type": "stream",
          "text": [
            "/usr/local/lib/python3.10/dist-packages/ipykernel/ipkernel.py:283: DeprecationWarning: `should_run_async` will not call `transform_cell` automatically in the future. Please pass the result to `transformed_cell` argument and any exception that happen during thetransform in `preprocessing_exc_tuple` in IPython 7.17 and above.\n",
            "  and should_run_async(code)\n"
          ]
        },
        {
          "name": "stdout",
          "output_type": "stream",
          "text": [
            "Accuracy SVM: 0.8761435608726249\n",
            "Classification Report:\n",
            "              precision    recall  f1-score   support\n",
            "\n",
            "       anger       0.93      0.84      0.89       375\n",
            "        fear       0.79      0.96      0.87       434\n",
            "         joy       0.96      0.91      0.93       319\n",
            "     sadness       0.87      0.77      0.82       293\n",
            "\n",
            "    accuracy                           0.88      1421\n",
            "   macro avg       0.89      0.87      0.88      1421\n",
            "weighted avg       0.88      0.88      0.88      1421\n",
            "\n"
          ]
        },
        {
          "data": {
            "image/png": "[encoded data removed]",
            "text/plain": [
              "<Figure size 640x480 with 2 Axes>"
            ]
          },
          "metadata": {},
          "output_type": "display_data"
        }
      ],
      "source": [
        "import pickle\n",
        "# Support vector Machine\n",
        "\n",
        "tfidf_vectorizer = TfidfVectorizer()\n",
        "X = tfidf_vectorizer.fit_transform(df['Tokenized_Text'].apply(lambda x: ' '.join(x)))\n",
        "\n",
        "with open(\"vector.pkl\",'wb') as vect:\n",
        "  pickle.dump(tfidf_vectorizer,vect)\n",
        "\n",
        "\n",
        "y = df['Emotion']\n",
        "\n",
        "X_train, X_test, y_train, y_test = train_test_split(X, y, test_size=0.2, random_state=42)\n",
        "\n",
        "svm_classifier = svm.SVC()\n",
        "svm_classifier.fit(X_train, y_train)\n",
        "\n",
        "with open(\"model.pkl\",'wb') as model:\n",
        "  pickle.dump(svm_classifier,model)\n",
        "\n",
        "y_pred = svm_classifier.predict(X_test)\n",
        "\n",
        "accuracy = accuracy_score(y_test, y_pred)\n",
        "print(f'Accuracy SVM: {accuracy}')\n",
        "\n",
        "print('Classification Report:')\n",
        "print(classification_report(y_test, y_pred))\n",
        "\n",
        "conf_matrix = confusion_matrix(y_test, y_pred)\n",
        "sns.heatmap(conf_matrix, annot=True, fmt='d', cmap='Blues', xticklabels=emotion_count['index'], yticklabels=emotion_count['index'])\n",
        "plt.title('Confusion Matrix')\n",
        "plt.xlabel('Predicted')\n",
        "plt.ylabel('True')\n",
        "plt.show()\n"
      ]
    },
    {
      "cell_type": "code",
      "execution_count": null,
      "metadata": {
        "colab": {
          "base_uri": "https://localhost:8080/"
        },
        "id": "NUrHE52nX2jD",
        "outputId": "e36669d1-640d-4cd5-d790-89ddfb71f5c9"
      },
      "outputs": [
        {
          "name": "stderr",
          "output_type": "stream",
          "text": [
            "/usr/local/lib/python3.10/dist-packages/ipykernel/ipkernel.py:283: DeprecationWarning: `should_run_async` will not call `transform_cell` automatically in the future. Please pass the result to `transformed_cell` argument and any exception that happen during thetransform in `preprocessing_exc_tuple` in IPython 7.17 and above.\n",
            "  and should_run_async(code)\n"
          ]
        },
        {
          "name": "stdout",
          "output_type": "stream",
          "text": [
            "Cross-Validation Scores: [0.58596491 0.61971831 0.6056338  0.6443662  0.59859155]\n",
            "Average Cross-Validation Score: 0.6108549542871262\n"
          ]
        }
      ],
      "source": [
        "# Cross validation for svm\n",
        "cv_scores = cross_val_score(svm_classifier, X_test, y_test, cv=5)\n",
        "\n",
        "print(\"Cross-Validation Scores:\", cv_scores)\n",
        "\n",
        "average_cv_score = np.mean(cv_scores)\n",
        "print(\"Average Cross-Validation Score:\", average_cv_score)\n"
      ]
    },
    {
      "cell_type": "code",
      "execution_count": null,
      "metadata": {
        "colab": {
          "base_uri": "https://localhost:8080/"
        },
        "id": "qI6g9qCPS1Av",
        "outputId": "51b507e3-8b12-40c1-dd6d-77e00a36cb6d"
      },
      "outputs": [
        {
          "name": "stdout",
          "output_type": "stream",
          "text": [
            "Predicted Emotion(Naivebayes): fear\n",
            "Predicted Emotion(SVM): fear\n"
          ]
        },
        {
          "name": "stderr",
          "output_type": "stream",
          "text": [
            "/usr/local/lib/python3.10/dist-packages/ipykernel/ipkernel.py:283: DeprecationWarning: `should_run_async` will not call `transform_cell` automatically in the future. Please pass the result to `transformed_cell` argument and any exception that happen during thetransform in `preprocessing_exc_tuple` in IPython 7.17 and above.\n",
            "  and should_run_async(code)\n"
          ]
        }
      ],
      "source": [
        "curAlpha = 0.32\n",
        "NBClassifier = MultinomialNB(alpha=curAlpha)\n",
        "NBClassifier.fit(X_train, y_train)\n",
        "\n",
        "def preprocess_and_tokenize_input(text):\n",
        "    # Convert to lowercase\n",
        "    text = text.lower()\n",
        "\n",
        "    # Remove emojis\n",
        "    text = re.sub(r'\\W', ' ', text)\n",
        "\n",
        "    # Remove punctuation\n",
        "    text = ''.join([char for char in text if char not in string.punctuation])\n",
        "\n",
        "    # Tokenize\n",
        "    tokens = word_tokenize(text)\n",
        "\n",
        "    stop_words = set(stopwords.words('english'))\n",
        "    tokens = [token for token in tokens if token not in stop_words]\n",
        "\n",
        "    stemmer = PorterStemmer()\n",
        "    tokens = [stemmer.stem(token) for token in tokens]\n",
        "\n",
        "    return ' '.join(tokens)\n",
        "\n",
        "random_input = \"The wicked woman heaved in the evening, the seven dwarfs came home, but how shocked they were seven dwarfs1 then he and said beware of your stepmother. All rolled and all before.\"\n",
        "\n",
        "\n",
        "preprocessed_input = preprocess_and_tokenize_input(random_input)\n",
        "\n",
        "\n",
        "input_vectorized = tfidf_vectorizer.transform([preprocessed_input])\n",
        "\n",
        "predicted_emotion_naive_bayes = NBClassifier.predict(input_vectorized)[0]\n",
        "predicted_emotion_svm = svm_classifier.predict(input_vectorized)[0]\n",
        "\n",
        "print(f\"Predicted Emotion(Naivebayes): {predicted_emotion_naive_bayes}\")\n",
        "print(f\"Predicted Emotion(SVM): {predicted_emotion_svm}\")\n"
      ]
    },
    {
      "cell_type": "code",
      "execution_count": null,
      "metadata": {
        "colab": {
          "base_uri": "https://localhost:8080/",
          "height": 257,
          "referenced_widgets": [
            "532e1d0a1e3e4d93a635e76669a2254c",
            "9f5f5277848a4ebb9d71f4755f50674f",
            "c8177ab732b84930965018990c066e60",
            "ef0184402efd415c9640b73108372b79",
            "86f9221bcc844faba9de15403b1f60a7",
            "02d655aaa7304265b651d0d6112fa59e",
            "b301304ce7b54b4f8e012e7f86e72a44",
            "02c27c882b264d8e9949336b829e855f",
            "a99c43fbbc5a407186bb509ee6518ec1",
            "6e4d92297aa149b8a2f1d9be4bb06098",
            "172ebb72fb954958b0a97b0d41dd2037",
            "1ebc0b7526874eda8a01544394f8e404",
            "41cdce7158d6492d81aa6ec54a089d44",
            "79847b8abb6a409dbf4656b773be802a",
            "5fccab8a353f4d06a81d00919efcc471",
            "a3db563bb65049f49548f91d15927a1b",
            "8dcb979b06eb42a59dc5da01cd30beca",
            "39732814a5104ff2915e9cd2575ab58e",
            "83e14bf4f9624256bc5bf3f565babec7",
            "638b82cfc6ad451caa589a7a25926fff",
            "a07ea061239e4f299f26f5c710981353",
            "c003f65c801c4cb4aa9b0df58d1e01da",
            "56756195983845ab94e2b707e2e3b63d",
            "50ba0575415746869110099b9d905133",
            "bdbba221a8e74f2db8da73ce1ed37df4",
            "319c7aacd93440c681c2811b8bdf94dd",
            "0ea86b8985e24dfb9a7c365bed5f6da9",
            "e54c45dd4403481989dbcd90dfb79c9d",
            "7f50ff6e363b4eefa3f77d53a6caab8d",
            "d8fddd4f685b47d29f1ad5811654341a",
            "658fac1e05b44ca5a535dc8e501adda1",
            "41002be6ead14cf9b7824d37607b0369",
            "dbdad4f1b74d45e586c350746813a9e5",
            "eae7b29b1ef14383ba5cb646485d5ddb",
            "d9b4862fa31948edb0a474aabe9ea6a2",
            "6c235689dd9d49f190d07be16727ab05",
            "f18d6f67ca4b41bbb41ca1b1ee64e422",
            "fbd9471fdab74134a09028773e4021ad",
            "9694555c6aa64399abd2d8dc8e4e456e",
            "d5a990bdf3924069b60827fbdaac788b",
            "ca6e457a9cee4ab7b90fb09819906c1b",
            "777e521306f84c4daebfcb613d92fa93",
            "2fc9fe98de4a41ab9b0501f1c0485425",
            "e94f24ad944b44f5af57e8908aa7371b"
          ]
        },
        "id": "tMPRd72Pazf9",
        "outputId": "494aedb4-f213-4895-d945-2b219674c224"
      },
      "outputs": [
        {
          "name": "stderr",
          "output_type": "stream",
          "text": [
            "/usr/local/lib/python3.10/dist-packages/ipykernel/ipkernel.py:283: DeprecationWarning: `should_run_async` will not call `transform_cell` automatically in the future. Please pass the result to `transformed_cell` argument and any exception that happen during thetransform in `preprocessing_exc_tuple` in IPython 7.17 and above.\n",
            "  and should_run_async(code)\n",
            "No model was supplied, defaulted to distilbert-base-uncased-finetuned-sst-2-english and revision af0f99b (https://huggingface.co/distilbert-base-uncased-finetuned-sst-2-english).\n",
            "Using a pipeline without specifying a model name and revision in production is not recommended.\n"
          ]
        },
        {
          "data": {
            "application/vnd.jupyter.widget-view+json": {
              "model_id": "532e1d0a1e3e4d93a635e76669a2254c",
              "version_major": 2,
              "version_minor": 0
            },
            "text/plain": [
              "config.json:   0%|          | 0.00/629 [00:00<?, ?B/s]"
            ]
          },
          "metadata": {},
          "output_type": "display_data"
        },
        {
          "data": {
            "application/vnd.jupyter.widget-view+json": {
              "model_id": "1ebc0b7526874eda8a01544394f8e404",
              "version_major": 2,
              "version_minor": 0
            },
            "text/plain": [
              "model.safetensors:   0%|          | 0.00/268M [00:00<?, ?B/s]"
            ]
          },
          "metadata": {},
          "output_type": "display_data"
        },
        {
          "data": {
            "application/vnd.jupyter.widget-view+json": {
              "model_id": "56756195983845ab94e2b707e2e3b63d",
              "version_major": 2,
              "version_minor": 0
            },
            "text/plain": [
              "tokenizer_config.json:   0%|          | 0.00/48.0 [00:00<?, ?B/s]"
            ]
          },
          "metadata": {},
          "output_type": "display_data"
        },
        {
          "data": {
            "application/vnd.jupyter.widget-view+json": {
              "model_id": "eae7b29b1ef14383ba5cb646485d5ddb",
              "version_major": 2,
              "version_minor": 0
            },
            "text/plain": [
              "vocab.txt:   0%|          | 0.00/232k [00:00<?, ?B/s]"
            ]
          },
          "metadata": {},
          "output_type": "display_data"
        },
        {
          "name": "stdout",
          "output_type": "stream",
          "text": [
            "Predicted Sentiment: NEGATIVE with confidence: 0.9904654026031494\n"
          ]
        }
      ],
      "source": [
        "sentiment_analysis = pipeline(\"sentiment-analysis\")\n",
        "\n",
        "# input\n",
        "random_input = \"The wicked woman heaved in the evening, the seven dwarfs came home, but how shocked they were seven dwarfs1 then he and said beware of your stepmother. All rolled and all before.\"\n",
        "\n",
        "# pre-trained model to predict sentiment\n",
        "result = sentiment_analysis(random_input)\n",
        "\n",
        "# predicted label and score\n",
        "predicted_label = result[0]['label']\n",
        "predicted_score = result[0]['score']\n",
        "\n",
        "print(f\"Predicted Sentiment: {predicted_label} with confidence: {predicted_score}\")\n"
      ]
    },
    {
      "cell_type": "code",
      "execution_count": null,
      "metadata": {
        "colab": {
          "base_uri": "https://localhost:8080/"
        },
        "id": "mxxyI6IDJR8u",
        "outputId": "c1baf562-c8dd-4890-fb5c-b4600dc67c03"
      },
      "outputs": [
        {
          "name": "stderr",
          "output_type": "stream",
          "text": [
            "/usr/local/lib/python3.10/dist-packages/ipykernel/ipkernel.py:283: DeprecationWarning: `should_run_async` will not call `transform_cell` automatically in the future. Please pass the result to `transformed_cell` argument and any exception that happen during thetransform in `preprocessing_exc_tuple` in IPython 7.17 and above.\n",
            "  and should_run_async(code)\n"
          ]
        }
      ],
      "source": []
    },
    {
      "cell_type": "code",
      "execution_count": null,
      "metadata": {
        "id": "VuGhobbZJRyU"
      },
      "outputs": [],
      "source": []
    },
    {
      "cell_type": "code",
      "execution_count": null,
      "metadata": {
        "colab": {
          "base_uri": "https://localhost:8080/"
        },
        "id": "uW7mVqENJRu4",
        "outputId": "a256f9cf-4def-4b52-d045-5b72dc33ecb1"
      },
      "outputs": [
        {
          "name": "stderr",
          "output_type": "stream",
          "text": [
            "/usr/local/lib/python3.10/dist-packages/ipykernel/ipkernel.py:283: DeprecationWarning: `should_run_async` will not call `transform_cell` automatically in the future. Please pass the result to `transformed_cell` argument and any exception that happen during thetransform in `preprocessing_exc_tuple` in IPython 7.17 and above.\n",
            "  and should_run_async(code)\n"
          ]
        }
      ],
      "source": []
    },
    {
      "cell_type": "code",
      "execution_count": null,
      "metadata": {
        "colab": {
          "base_uri": "https://localhost:8080/"
        },
        "id": "pvUKk5POJRsv",
        "outputId": "57939ab6-334e-4610-a818-3e5e72c8265e"
      },
      "outputs": [
        {
          "name": "stderr",
          "output_type": "stream",
          "text": [
            "/usr/local/lib/python3.10/dist-packages/ipykernel/ipkernel.py:283: DeprecationWarning: `should_run_async` will not call `transform_cell` automatically in the future. Please pass the result to `transformed_cell` argument and any exception that happen during thetransform in `preprocessing_exc_tuple` in IPython 7.17 and above.\n",
            "  and should_run_async(code)\n"
          ]
        }
      ],
      "source": []
    },
    {
      "cell_type": "code",
      "execution_count": null,
      "metadata": {
        "colab": {
          "base_uri": "https://localhost:8080/"
        },
        "id": "3qhRpfdLzmRK",
        "outputId": "9bccf077-df86-4f8b-c9ff-80bcc0a07f99"
      },
      "outputs": [
        {
          "name": "stderr",
          "output_type": "stream",
          "text": [
            "/usr/local/lib/python3.10/dist-packages/ipykernel/ipkernel.py:283: DeprecationWarning: `should_run_async` will not call `transform_cell` automatically in the future. Please pass the result to `transformed_cell` argument and any exception that happen during thetransform in `preprocessing_exc_tuple` in IPython 7.17 and above.\n",
            "  and should_run_async(code)\n"
          ]
        }
      ],
      "source": [
        "# Step 1: Read the data\n",
        "df = pd.read_excel('/content/drive/MyDrive/Papers- Abstract.xlsx')"
      ]
    },
    {
      "cell_type": "code",
      "execution_count": null,
      "metadata": {
        "colab": {
          "base_uri": "https://localhost:8080/"
        },
        "id": "ybqIVVlKBEVp",
        "outputId": "0ace03c3-4628-4144-c6dc-57602e350425"
      },
      "outputs": [
        {
          "name": "stderr",
          "output_type": "stream",
          "text": [
            "/usr/local/lib/python3.10/dist-packages/ipykernel/ipkernel.py:283: DeprecationWarning: `should_run_async` will not call `transform_cell` automatically in the future. Please pass the result to `transformed_cell` argument and any exception that happen during thetransform in `preprocessing_exc_tuple` in IPython 7.17 and above.\n",
            "  and should_run_async(code)\n"
          ]
        },
        {
          "name": "stdout",
          "output_type": "stream",
          "text": [
            "Drive already mounted at /content/drive; to attempt to forcibly remount, call drive.mount(\"/content/drive\", force_remount=True).\n"
          ]
        }
      ],
      "source": [
        "from google.colab import drive\n",
        "drive.mount('/content/drive')"
      ]
    },
    {
      "cell_type": "code",
      "execution_count": null,
      "metadata": {
        "colab": {
          "base_uri": "https://localhost:8080/"
        },
        "id": "-dl9hkc_hPM7",
        "outputId": "f0c1a9d4-1d07-433d-e468-ba109e9383d8"
      },
      "outputs": [
        {
          "name": "stderr",
          "output_type": "stream",
          "text": [
            "/usr/local/lib/python3.10/dist-packages/ipykernel/ipkernel.py:283: DeprecationWarning: `should_run_async` will not call `transform_cell` automatically in the future. Please pass the result to `transformed_cell` argument and any exception that happen during thetransform in `preprocessing_exc_tuple` in IPython 7.17 and above.\n",
            "  and should_run_async(code)\n"
          ]
        },
        {
          "name": "stdout",
          "output_type": "stream",
          "text": [
            "Topic: 0 \n",
            "Words: 0.023*\"emotion\" + 0.021*\"recognition\" + 0.019*\"feature\" + 0.017*\"facial\" + 0.016*\"expression\" + 0.012*\"method\" + 0.009*\"used\" + 0.008*\"proposed\" + 0.008*\"paper\" + 0.007*\"result\"\n",
            "Topic: 1 \n",
            "Words: 0.018*\"emotion\" + 0.011*\"learning\" + 0.010*\"algorithm\" + 0.010*\"model\" + 0.008*\"cognitive\" + 0.008*\"task\" + 0.008*\"detection\" + 0.007*\"student\" + 0.007*\"computational\" + 0.006*\"framework\"\n",
            "Topic: 2 \n",
            "Words: 0.014*\"emotion\" + 0.012*\"ASD\" + 0.011*\"model\" + 0.011*\"learning\" + 0.010*\"accuracy\" + 0.010*\"study\" + 0.009*\"FER\" + 0.008*\"using\" + 0.006*\"dataset\" + 0.006*\"facial\"\n",
            "Topic: 3 \n",
            "Words: 0.019*\"emotion\" + 0.010*\"learning\" + 0.010*\"emotional\" + 0.009*\"intelligence\" + 0.009*\"network\" + 0.008*\"feature\" + 0.008*\"research\" + 0.007*\"detection\" + 0.007*\"text\" + 0.006*\"using\"\n",
            "Topic: 4 \n",
            "Words: 0.028*\"emotion\" + 0.018*\"text\" + 0.016*\"analysis\" + 0.012*\"detection\" + 0.010*\"sentiment\" + 0.008*\"model\" + 0.008*\"data\" + 0.007*\"approach\" + 0.007*\"Emotion\" + 0.007*\"emotional\"\n"
          ]
        }
      ],
      "source": [
        "# Create a function for preprocessing the text\n",
        "def preprocess_text(text):\n",
        "    # Tokenize\n",
        "    tokens = word_tokenize(text)\n",
        "\n",
        "    # Remove stop words\n",
        "    stop_words = set(stopwords.words('english'))\n",
        "    tokens = [word for word in tokens if word.lower() not in stop_words]\n",
        "\n",
        "    # Lemmatize\n",
        "    lemmatizer = WordNetLemmatizer()\n",
        "    tokens = [lemmatizer.lemmatize(word) for word in tokens]\n",
        "\n",
        "    # Remove non-alphabetic characters\n",
        "    tokens = [word for word in tokens if word.isalpha()]\n",
        "\n",
        "    return tokens\n",
        "\n",
        "# Apply the preprocess function\n",
        "df['Preprocessed_Abstract'] = df['ABSTRACT'].apply(preprocess_text)\n",
        "\n",
        "# Create a dictionary from the tokenized text\n",
        "dictionary = corpora.Dictionary(df['Preprocessed_Abstract'])\n",
        "\n",
        "# Create a bag of words from the dictionary\n",
        "bow_corpus = [dictionary.doc2bow(tokens) for tokens in df['Preprocessed_Abstract']]\n",
        "\n",
        "# Train the LDA model\n",
        "num_topics = 5\n",
        "lda_model = gensim.models.LdaModel(bow_corpus, num_topics=num_topics, id2word=dictionary, passes=10)\n",
        "\n",
        "# Print the top words for each topic\n",
        "for idx, topic in lda_model.print_topics(num_topics=num_topics, num_words=10):\n",
        "    print(\"Topic: {} \\nWords: {}\".format(idx, topic))\n"
      ]
    },
    {
      "cell_type": "code",
      "execution_count": null,
      "metadata": {
        "colab": {
          "base_uri": "https://localhost:8080/"
        },
        "id": "bWp6JRi1hGbs",
        "outputId": "2458c411-a291-4350-ee42-5bbc683c0cbf"
      },
      "outputs": [
        {
          "name": "stderr",
          "output_type": "stream",
          "text": [
            "/usr/local/lib/python3.10/dist-packages/ipykernel/ipkernel.py:283: DeprecationWarning: `should_run_async` will not call `transform_cell` automatically in the future. Please pass the result to `transformed_cell` argument and any exception that happen during thetransform in `preprocessing_exc_tuple` in IPython 7.17 and above.\n",
            "  and should_run_async(code)\n"
          ]
        }
      ],
      "source": [
        "from IPython.display import display\n",
        "\n",
        "def visualize_topics(lda, corpus, diction):\n",
        "    # Visualize the topics\n",
        "    pyLDAvis.enable_notebook()\n",
        "    vis = pyLDAvis.gensim_models.prepare(lda, corpus, diction)\n",
        "    display(pyLDAvis.display(vis))"
      ]
    },
    {
      "cell_type": "code",
      "execution_count": null,
      "metadata": {
        "colab": {
          "base_uri": "https://localhost:8080/",
          "height": 919
        },
        "id": "9N7EL_th1HQb",
        "outputId": "821dd8c7-0071-4f8b-aa9c-4e2cfdd06a08"
      },
      "outputs": [
        {
          "name": "stderr",
          "output_type": "stream",
          "text": [
            "/usr/local/lib/python3.10/dist-packages/ipykernel/ipkernel.py:283: DeprecationWarning: `should_run_async` will not call `transform_cell` automatically in the future. Please pass the result to `transformed_cell` argument and any exception that happen during thetransform in `preprocessing_exc_tuple` in IPython 7.17 and above.\n",
            "  and should_run_async(code)\n"
          ]
        },
        {
          "data": {
            "text/html": [
              "\n",
              "<link rel=\"stylesheet\" type=\"text/css\" href=\"https://cdn.jsdelivr.net/gh/bmabey/pyLDAvis@3.4.0/pyLDAvis/js/ldavis.v1.0.0.css\">\n",
              "\n",
              "\n",
              "<div id=\"ldavis_el1631377778149254083341442933\" style=\"background-color:white;\"></div>\n",
              "<script type=\"text/javascript\">\n",
              "\n",
              "var ldavis_el1631377778149254083341442933_data = {\"mdsDat\": {\"x\": [0.00047842050659108724, -0.08197593594844618, 0.08708893010349092, -0.07519736522904993, 0.06960595056741405], \"y\": [0.008118048635296771, 0.07116522205368174, 0.07282246108817303, -0.06957979941204927, -0.08252593236510226], \"topics\": [1, 2, 3, 4, 5], \"cluster\": [1, 1, 1, 1, 1], \"Freq\": [32.56068806858727, 21.71331738003636, 19.18408527620268, 17.4638702052388, 9.078039069934892]}, \"tinfo\": {\"Term\": [\"recognition\", \"ASD\", \"facial\", \"feature\", \"expression\", \"algorithm\", \"text\", \"analysis\", \"FER\", \"emotion\", \"learning\", \"model\", \"sentiment\", \"computational\", \"intelligence\", \"student\", \"cognitive\", \"task\", \"framework\", \"accuracy\", \"method\", \"child\", \"study\", \"autism\", \"disorder\", \"work\", \"author\", \"dataset\", \"ED\", \"way\", \"LSTM\", \"cytokine\", \"secondary\", \"TED\", \"curriculum\", \"subject\", \"modality\", \"cryptocurrency\", \"dependence\", \"healthcare\", \"representation\", \"marker\", \"personality\", \"learn\", \"vocabulary\", \"association\", \"Interactions\", \"structure\", \"combine\", \"TBED\", \"Mask\", \"trait\", \"multiple\", \"label\", \"RPN\", \"Additionally\", \"closely\", \"arithmetic\", \"whereas\", \"share\", \"intelligence\", \"past\", \"object\", \"recurrent\", \"semantic\", \"network\", \"architecture\", \"review\", \"emotional\", \"convolutional\", \"neural\", \"school\", \"learning\", \"use\", \"region\", \"provide\", \"research\", \"language\", \"emotion\", \"level\", \"image\", \"feature\", \"using\", \"stress\", \"human\", \"paper\", \"detection\", \"text\", \"student\", \"application\", \"model\", \"also\", \"used\", \"approach\", \"method\", \"analysis\", \"machine\", \"social\", \"deep\", \"data\", \"result\", \"study\", \"recognition\", \"sensor\", \"course\", \"Support\", \"explicit\", \"Vector\", \"salient\", \"Recognition\", \"canthus\", \"performing\", \"exist\", \"DNNs\", \"physiological\", \"likelihood\", \"real\", \"stable\", \"recognized\", \"perform\", \"localization\", \"combining\", \"SVMs\", \"receptive\", \"System\", \"questioned\", \"timely\", \"gave\", \"e\", \"Experiment\", \"close\", \"leadership\", \"robustly\", \"fully\", \"expression\", \"step\", \"JAFFE\", \"database\", \"recognition\", \"tracking\", \"facial\", \"basic\", \"muscle\", \"online\", \"feature\", \"automatic\", \"method\", \"landmark\", \"signal\", \"proposed\", \"Neural\", \"face\", \"point\", \"used\", \"result\", \"effective\", \"emotion\", \"classification\", \"algorithm\", \"system\", \"paper\", \"speech\", \"image\", \"FER\", \"field\", \"approach\", \"detection\", \"human\", \"accuracy\", \"different\", \"using\", \"work\", \"emotional\", \"research\", \"analysis\", \"ED\", \"transform\", \"generated\", \"networking\", \"web\", \"precisely\", \"item\", \"mining\", \"unstructured\", \"ERC\", \"Chatbot\", \"subbands\", \"nomination\", \"peer\", \"discrete\", \"applying\", \"IMFs\", \"resource\", \"methodology\", \"Utterance\", \"SAPBERT\", \"product\", \"SED\", \"automation\", \"communicated\", \"friendship\", \"reaction\", \"category\", \"organizational\", \"processed\", \"attitude\", \"Social\", \"psychology\", \"increase\", \"sentiment\", \"analysis\", \"text\", \"individual\", \"via\", \"Internet\", \"discus\", \"service\", \"Emotion\", \"emotion\", \"feeling\", \"state\", \"detection\", \"data\", \"way\", \"due\", \"work\", \"approach\", \"platform\", \"model\", \"human\", \"field\", \"various\", \"emotional\", \"paper\", \"article\", \"based\", \"research\", \"used\", \"machine\", \"technique\", \"using\", \"interaction\", \"system\", \"also\", \"learning\", \"ASD\", \"autism\", \"adult\", \"APIs\", \"diagnosis\", \"loss\", \"DCNN\", \"faster\", \"profile\", \"KDEF\", \"aggression\", \"deficit\", \"imaging\", \"LIRIS\", \"circle\", \"frontal\", \"FL\", \"diferent\", \"repetitive\", \"spectrum\", \"disorder\", \"child\", \"connectivity\", \"contemporary\", \"activation\", \"logistic\", \"anticorrelation\", \"straightforward\", \"deployment\", \"rather\", \"Autism\", \"explored\", \"reported\", \"Fast\", \"dataset\", \"author\", \"patient\", \"FER\", \"accuracy\", \"study\", \"model\", \"pattern\", \"social\", \"learning\", \"datasets\", \"brain\", \"using\", \"machine\", \"emotion\", \"result\", \"ability\", \"classification\", \"facial\", \"achieved\", \"CNN\", \"EI\", \"detection\", \"different\", \"research\", \"two\", \"feature\", \"used\", \"neural\", \"proposed\", \"data\", \"ANN\", \"attribute\", \"message\", \"examine\", \"Student\", \"Cognition\", \"Task\", \"Within\", \"Evolutionary\", \"Algorithm\", \"multimedia\", \"Multiobjective\", \"science\", \"taking\", \"crime\", \"measurement\", \"Piagetian\", \"retraining\", \"computational\", \"emoticon\", \"fluctuation\", \"pandemic\", \"modeling\", \"stream\", \"value\", \"premeditation\", \"Even\", \"emerge\", \"legal\", \"describing\", \"le\", \"framework\", \"teaching\", \"Model\", \"reason\", \"task\", \"algorithm\", \"cognitive\", \"within\", \"student\", \"emotion\", \"learning\", \"model\", \"detection\", \"work\", \"data\", \"paper\", \"way\", \"research\", \"develop\", \"intelligence\", \"text\", \"educational\", \"system\", \"provides\", \"machine\", \"based\", \"analysis\", \"study\"], \"Freq\": [73.0, 22.0, 60.0, 81.0, 52.0, 37.0, 77.0, 62.0, 34.0, 215.0, 80.0, 75.0, 31.0, 9.0, 39.0, 29.0, 26.0, 25.0, 11.0, 44.0, 55.0, 12.0, 42.0, 9.0, 14.0, 35.0, 13.0, 21.0, 8.0, 15.0, 7.816406771224794, 6.981380703406909, 6.97856857873785, 6.119600704628856, 6.110234811572686, 6.109078405192441, 5.284586620296777, 5.256693459286017, 4.436031995903366, 4.4243920366908105, 4.424019350282255, 4.367843564972051, 4.359125978497967, 5.804456198765159, 3.5779409135058184, 3.5778310648859333, 3.576873983819589, 3.5766211322690893, 3.566813847485745, 3.5627282777250717, 3.5394639378315076, 3.4788730369009753, 6.131130016322472, 2.729672694423163, 2.7282546486028276, 2.7255961122768437, 2.7250684394518685, 2.72486052597314, 2.7248974750543744, 2.724264747003836, 30.281658272002854, 5.25693432735071, 9.51827186607835, 5.265825274919449, 5.264798290185905, 29.841017509938535, 6.907572017632744, 13.655217227097593, 33.593289781000166, 11.14112744231809, 19.081488195120322, 8.685478721115587, 35.6519887304867, 11.143171824996534, 6.132768957731159, 12.858473603034442, 27.376538557495373, 9.458493445485441, 64.49349085194372, 10.324591893098326, 17.06274218730983, 27.719279033921847, 21.72991045908401, 9.552504690529828, 17.605942414293235, 21.26999545844988, 25.177674366833518, 24.00900169051754, 13.308352034856812, 13.431511111875809, 21.471504962363383, 13.574429359190217, 17.618267828893874, 16.50934481280487, 17.000253901126737, 17.44891880528652, 13.784515843344352, 11.951032928291117, 11.034049404351224, 12.358193428812557, 11.922374821436428, 11.663585054270968, 11.722165925182365, 5.879760802303216, 5.06536094693701, 4.224859741039567, 3.4330320252563244, 3.429643460649715, 3.4236023273494003, 3.378797144382215, 2.6174545231543407, 2.6167073394642584, 2.613293202795528, 2.613232469147992, 3.2693492512578883, 2.6011941545291326, 2.6022111767497154, 3.2166939779710124, 2.5048868384513168, 2.482560829966262, 2.4897513741837622, 2.4143481533868436, 1.802483824776424, 1.8004436536953754, 1.7994973542090942, 1.7992433650295956, 1.7989992317490393, 1.798881227337379, 1.79882488888802, 1.7985364040622234, 1.798507901867985, 1.7983727162270877, 1.7983418166520255, 3.5906939105036244, 37.59818525871555, 7.15284780142692, 5.831569718485892, 9.859656969894425, 48.85754290030767, 3.414559406882048, 39.0437781923962, 6.812862973524889, 2.9248533517724185, 10.80690688448425, 44.15414596866524, 6.535178081963859, 28.212311473250413, 4.453797356432153, 8.471791368196866, 17.50958303883979, 5.099774549535635, 8.324551163766246, 6.554521748704113, 20.307247613016155, 17.07364224433845, 6.503929022052642, 51.61443282143295, 11.799698510705458, 14.34416131179597, 13.35719265722011, 17.491693250381342, 8.760295905791326, 12.263370075571272, 11.31536045763595, 9.08609143572426, 12.310492993043772, 14.614215073819217, 11.330747380514357, 11.086743025771165, 9.691500416903143, 11.403914377753969, 9.203658991323131, 10.224351868322952, 8.913552470587081, 8.513315602318865, 8.210014574683955, 5.763305186639286, 4.18449681834666, 4.184291124705435, 3.379632427122922, 3.377151865362619, 3.2756368757752545, 6.5298119500281615, 3.2642745378980567, 2.5822393749544568, 2.5742945168990197, 2.5733441840348736, 2.570806668199998, 2.569202540215347, 2.5635586738421186, 2.562473016214009, 2.537905570195555, 2.524570314933479, 5.713194544217348, 1.7748054606473236, 1.7746795497799837, 1.7732231022986142, 1.7726094339124672, 1.7717500628244456, 1.7716787525575224, 1.7716319184218203, 1.771052728432057, 1.771248184460703, 1.7712868991105675, 1.7708583314667807, 4.116773246036909, 3.383153930502373, 4.039567526353098, 3.3658935510431114, 19.774309717536223, 31.35561671297689, 37.27698969643238, 9.54906511681994, 3.2568161429506413, 4.2041125547411315, 4.994412471151174, 4.189610917687398, 14.06605323279275, 56.553306165362635, 7.730322411808981, 7.710424729210635, 23.519892078317266, 15.830984692619058, 7.3701490804664775, 8.087913511307647, 12.099692626912548, 14.667303747903684, 5.798016576964436, 16.81171691174221, 12.034444909414788, 8.391406241774645, 8.383184144463645, 13.981775323270504, 13.470352209741394, 7.355150389671022, 8.937267271931992, 11.025898391327726, 10.391465773398137, 8.950190669216788, 6.958368297138894, 8.01921089374905, 6.687083331190016, 6.780678644895412, 6.7261425296707475, 6.743260288596162, 21.986785096459432, 8.564168039810502, 4.828461272827058, 4.055095844037962, 4.047506461714187, 3.2832361226498237, 3.277606216690469, 3.2765097154841376, 3.2760306657191207, 3.275130626335026, 3.2743158560951513, 2.4985952421241096, 2.4976266446341087, 2.4989159655133, 2.494765629177026, 2.494820689905832, 2.4935838588264745, 2.4933096264028514, 2.44042304653077, 5.457342635860426, 10.598127644440243, 9.489155718644605, 1.718774746297859, 1.7191466740223982, 1.7185490401585721, 1.718615562945709, 1.7181933949841857, 1.718766926388904, 1.7180740610310934, 1.7179425151653864, 4.015798337732741, 3.281328707597075, 3.277528874577244, 5.622405702568273, 11.880489875882317, 7.9898473598978015, 4.05616020863215, 15.784125866888633, 18.8755616900155, 18.15151781959138, 21.14964606058041, 4.827307782695192, 11.14633625576606, 19.661642076521154, 9.55536742337581, 7.963305946172683, 14.4275494858035, 11.151601518299628, 25.767843478987743, 11.222719412484716, 6.320256520142907, 7.958308060252149, 11.393086305660704, 5.633262307126624, 6.38958204834672, 5.6146869168196005, 11.36037209147509, 7.229837907115486, 8.632047420467863, 6.403067856266559, 8.002036134151535, 7.404118611162373, 6.432792508546517, 6.44236750501259, 6.431453483040544, 3.3958583919777645, 2.7427036126632793, 2.71594812106682, 2.0899194660223803, 2.0881542833672304, 2.0864385481000225, 2.086324284541399, 2.0849600266533495, 2.0847455319029504, 2.0846067673863375, 2.0847025438584783, 2.083487964550146, 4.042484334196002, 2.0202396324442686, 1.4400874620832305, 1.4374827875129685, 1.4340157905894684, 1.433454273179546, 6.655758295240206, 1.410815722101253, 1.4106347491161035, 2.730963199066691, 2.0877771913501744, 2.0731389826313777, 3.1697579832514373, 0.7854975948385078, 0.7854911354950379, 0.785455330685976, 0.7854489270265015, 0.7854472008226431, 3.395962186945247, 5.346880590741977, 3.3852169577149946, 2.0865087099342654, 2.0951624482961444, 7.272554766578234, 9.467796500709929, 7.341797592160207, 3.394459610012548, 6.672051432303201, 17.439168927479578, 10.240030167836867, 9.28299067478699, 7.252846641443472, 5.097700947797518, 4.964563187554728, 5.075275443685743, 3.4019925409144, 4.837003627238195, 2.7327466460723424, 3.997775877000753, 4.687539319535152, 2.7427203178619086, 3.846882049767016, 2.7562285869454275, 3.3953485493156017, 3.1190084807599128, 2.836600861326124, 2.755052763697915], \"Total\": [73.0, 22.0, 60.0, 81.0, 52.0, 37.0, 77.0, 62.0, 34.0, 215.0, 80.0, 75.0, 31.0, 9.0, 39.0, 29.0, 26.0, 25.0, 11.0, 44.0, 55.0, 12.0, 42.0, 9.0, 14.0, 35.0, 13.0, 21.0, 8.0, 15.0, 8.459308862573675, 7.606535588854196, 7.608134517601627, 6.753430343340788, 6.7528319552336065, 6.75164954724238, 5.902234106938252, 5.899715439058869, 5.049439535976805, 5.0485481471352065, 5.0484996615079085, 5.045268515115352, 5.044801775778387, 6.741596337512001, 4.195412181058041, 4.195416751670173, 4.19534984250373, 4.195494461631779, 4.194948636611888, 4.193456623470847, 4.193797376362457, 4.190175758582959, 7.409378033051074, 3.3430769580118893, 3.343025267546396, 3.3425017223154345, 3.3422409427392417, 3.342195308493957, 3.3423330216991, 3.3424067323809576, 39.42501106729929, 6.683756197566929, 12.577174790120571, 6.720730958737269, 6.7211206090732185, 43.39382089193154, 9.245393187972983, 20.04060803224271, 62.10240407719453, 16.47862624867202, 32.20347321078007, 12.921538762374679, 80.61208162014468, 18.080269449002465, 8.381766686833403, 22.122148340846152, 60.78504046711625, 14.974600897201366, 215.86824224520663, 17.14907047323062, 36.29241951407227, 81.63461417960248, 57.73606523674505, 16.49429252281564, 44.18344339094544, 60.69846230087171, 81.92500025188856, 77.67046732618675, 29.048758453803174, 30.08280083652123, 75.16761849379469, 32.39014659873996, 55.907947779399905, 50.467238128005256, 55.086755697908465, 62.54181319690887, 43.312095963762815, 31.500004124622542, 24.389090065721234, 47.08186163242003, 44.130901183572, 42.33583785841272, 73.03750577249782, 6.524823123375143, 5.704468596419214, 4.880111338242975, 4.064159758192852, 4.064583793848635, 4.063299436196111, 4.066535016720918, 3.2443427124676543, 3.2440246950682967, 3.2443787833584246, 3.2444211890553456, 4.061126226284521, 3.2424028155072397, 3.2446890937438115, 4.072613508556999, 3.242630299371839, 3.2189455351087597, 3.242904387987455, 3.203211149088684, 2.4240297326148115, 2.4242577563953804, 2.4238591325445547, 2.424044163298085, 2.4240202953890533, 2.4238815294677387, 2.4238572230691755, 2.4239565965104957, 2.423966351530444, 2.423853756751462, 2.4239776590858635, 4.859450667694714, 52.24803091662911, 9.814641504281477, 8.091444549696032, 13.967546318262984, 73.03750577249782, 4.720811980647724, 60.34768993036782, 9.85229051033064, 4.056787596222294, 16.690107283031878, 81.63461417960248, 9.853080538721404, 55.086755697908465, 6.508558406792622, 14.613792975511, 38.68939257684754, 7.939370337482225, 15.682151713474358, 11.307469374295302, 55.907947779399905, 44.130901183572, 11.604138404072481, 215.86824224520663, 26.941828760329905, 37.13134177913188, 38.51265781829208, 60.69846230087171, 19.80477468530135, 36.29241951407227, 34.774725124184855, 23.400303977472042, 50.467238128005256, 81.92500025188856, 44.18344339094544, 44.15723245284914, 31.366375272578676, 57.73606523674505, 35.247806188716744, 62.10240407719453, 60.78504046711625, 62.54181319690887, 8.867925605031004, 6.441163679512393, 4.824807021961278, 4.8247551945376115, 4.015975894367651, 4.016706239173381, 4.022282651529865, 8.036569284043976, 4.022964629958814, 3.209125703810013, 3.207563202325253, 3.2090912938224228, 3.2085120784231393, 3.2084920233456176, 3.2076862385008265, 3.207977342950887, 3.2073208010416594, 3.2092946687093216, 7.26583987557889, 2.4006827855180495, 2.4006884834466273, 2.4005901246410795, 2.4005973309565163, 2.3998369635130077, 2.4002269400133467, 2.4004142373108275, 2.3999006913413368, 2.4003151041992017, 2.4005770576182726, 2.4001767055403387, 5.645714924948356, 4.673126978507784, 5.61596371301048, 4.672888463436817, 31.47962931789869, 62.54181319690887, 77.67046732618675, 16.778995624629587, 4.84262532216881, 6.52775848408057, 7.9943475667747395, 6.530894375363907, 29.514035838510097, 215.86824224520663, 14.756366489659328, 15.56762346381653, 81.92500025188856, 47.08186163242003, 15.327343290860016, 17.869792393376, 35.247806188716744, 50.467238128005256, 11.239256691222746, 75.16761849379469, 44.18344339094544, 23.400303977472042, 23.48864589681709, 62.10240407719453, 60.69846230087171, 19.154550257534776, 30.299168620799495, 60.78504046711625, 55.907947779399905, 43.312095963762815, 26.85078176366428, 57.73606523674505, 25.456173232932482, 38.51265781829208, 32.39014659873996, 80.61208162014468, 22.71835475129364, 9.411915220541841, 5.48511376895771, 4.70170767432867, 4.702342131943157, 3.9182381317958206, 3.9185468659148075, 3.9188017647773, 3.918644264793921, 3.9187578541490544, 3.9191403571204235, 3.1339324770641004, 3.133035969745465, 3.134674735963737, 3.134598208479538, 3.13505119623714, 3.134272309950169, 3.1344208354700105, 3.1362710437301557, 7.095511074223248, 14.09497609933572, 12.744443580551337, 2.3502236686238684, 2.350871004648343, 2.3504549690064613, 2.3506900875032377, 2.3501212982844826, 2.351063836817799, 2.350734569111452, 2.3507510079016662, 5.553050469221009, 4.770136587947915, 4.7704942430487405, 8.828829755202436, 21.447819995983327, 13.674147153037563, 6.404702942883626, 34.774725124184855, 44.15723245284914, 42.33583785841272, 75.16761849379469, 8.453174234724726, 31.500004124622542, 80.61208162014468, 25.9456454820193, 21.094365373074588, 57.73606523674505, 43.312095963762815, 215.86824224520663, 44.130901183572, 15.821642686533687, 26.941828760329905, 60.34768993036782, 12.834743363486044, 17.48027682922008, 13.094432784331314, 81.92500025188856, 31.366375272578676, 60.78504046711625, 21.837009218252586, 81.63461417960248, 55.907947779399905, 32.20347321078007, 38.68939257684754, 47.08186163242003, 4.060515966842436, 3.4052011825921773, 3.4134413969797466, 2.7497513128375273, 2.7501800369116327, 2.750610105157274, 2.7506900465308575, 2.7509535538127015, 2.7509500732710097, 2.751010950816918, 2.751202251928259, 2.751359471483781, 5.527050478718385, 2.767303194255081, 2.0936454905972415, 2.0943622055530864, 2.0951673535025437, 2.095327420157785, 9.851789117813825, 2.1010023685257178, 2.101042038291673, 4.191249509172602, 3.533734919716492, 3.575173576475958, 5.727069107888893, 1.4387344949606502, 1.4387360158428262, 1.438744182096787, 1.4387464032323292, 1.438746010780004, 6.461566454501268, 11.834152012012826, 7.339035190106973, 4.317979868592738, 4.351616992443349, 25.230016712452706, 37.13134177913188, 26.273347010502185, 8.98674275312651, 29.048758453803174, 215.86824224520663, 80.61208162014468, 75.16761849379469, 81.92500025188856, 35.247806188716744, 47.08186163242003, 60.69846230087171, 15.327343290860016, 60.78504046711625, 7.482618493021413, 39.42501106729929, 77.67046732618675, 8.453136597253785, 38.51265781829208, 12.30445208775378, 43.312095963762815, 30.299168620799495, 62.54181319690887, 42.33583785841272], \"Category\": [\"Default\", \"Default\", \"Default\", \"Default\", \"Default\", \"Default\", \"Default\", \"Default\", \"Default\", \"Default\", \"Default\", \"Default\", \"Default\", \"Default\", \"Default\", \"Default\", \"Default\", \"Default\", \"Default\", \"Default\", \"Default\", \"Default\", \"Default\", \"Default\", \"Default\", \"Default\", \"Default\", \"Default\", \"Default\", \"Default\", \"Topic1\", \"Topic1\", \"Topic1\", \"Topic1\", \"Topic1\", \"Topic1\", \"Topic1\", \"Topic1\", \"Topic1\", \"Topic1\", \"Topic1\", \"Topic1\", \"Topic1\", \"Topic1\", \"Topic1\", \"Topic1\", \"Topic1\", \"Topic1\", \"Topic1\", \"Topic1\", \"Topic1\", \"Topic1\", \"Topic1\", \"Topic1\", \"Topic1\", \"Topic1\", \"Topic1\", \"Topic1\", \"Topic1\", \"Topic1\", \"Topic1\", \"Topic1\", \"Topic1\", \"Topic1\", \"Topic1\", \"Topic1\", \"Topic1\", \"Topic1\", \"Topic1\", \"Topic1\", \"Topic1\", \"Topic1\", \"Topic1\", \"Topic1\", \"Topic1\", \"Topic1\", \"Topic1\", \"Topic1\", \"Topic1\", \"Topic1\", \"Topic1\", \"Topic1\", \"Topic1\", \"Topic1\", \"Topic1\", \"Topic1\", \"Topic1\", \"Topic1\", \"Topic1\", \"Topic1\", \"Topic1\", \"Topic1\", \"Topic1\", \"Topic1\", \"Topic1\", \"Topic1\", \"Topic1\", \"Topic1\", \"Topic1\", \"Topic1\", \"Topic1\", \"Topic1\", \"Topic1\", \"Topic2\", \"Topic2\", \"Topic2\", \"Topic2\", \"Topic2\", \"Topic2\", \"Topic2\", \"Topic2\", \"Topic2\", \"Topic2\", \"Topic2\", \"Topic2\", \"Topic2\", \"Topic2\", \"Topic2\", \"Topic2\", \"Topic2\", \"Topic2\", \"Topic2\", \"Topic2\", \"Topic2\", \"Topic2\", \"Topic2\", \"Topic2\", \"Topic2\", \"Topic2\", \"Topic2\", \"Topic2\", \"Topic2\", \"Topic2\", \"Topic2\", \"Topic2\", \"Topic2\", \"Topic2\", \"Topic2\", \"Topic2\", \"Topic2\", \"Topic2\", \"Topic2\", \"Topic2\", \"Topic2\", \"Topic2\", \"Topic2\", \"Topic2\", \"Topic2\", \"Topic2\", \"Topic2\", \"Topic2\", \"Topic2\", \"Topic2\", \"Topic2\", \"Topic2\", \"Topic2\", \"Topic2\", \"Topic2\", \"Topic2\", \"Topic2\", \"Topic2\", \"Topic2\", \"Topic2\", \"Topic2\", \"Topic2\", \"Topic2\", \"Topic2\", \"Topic2\", \"Topic2\", \"Topic2\", \"Topic2\", \"Topic2\", \"Topic2\", \"Topic2\", \"Topic2\", \"Topic3\", \"Topic3\", \"Topic3\", \"Topic3\", \"Topic3\", \"Topic3\", \"Topic3\", \"Topic3\", \"Topic3\", \"Topic3\", \"Topic3\", \"Topic3\", \"Topic3\", \"Topic3\", \"Topic3\", \"Topic3\", \"Topic3\", \"Topic3\", \"Topic3\", \"Topic3\", \"Topic3\", \"Topic3\", \"Topic3\", \"Topic3\", \"Topic3\", \"Topic3\", \"Topic3\", \"Topic3\", \"Topic3\", \"Topic3\", \"Topic3\", \"Topic3\", \"Topic3\", \"Topic3\", \"Topic3\", \"Topic3\", \"Topic3\", \"Topic3\", \"Topic3\", \"Topic3\", \"Topic3\", \"Topic3\", \"Topic3\", \"Topic3\", \"Topic3\", \"Topic3\", \"Topic3\", \"Topic3\", \"Topic3\", \"Topic3\", \"Topic3\", \"Topic3\", \"Topic3\", \"Topic3\", \"Topic3\", \"Topic3\", \"Topic3\", \"Topic3\", \"Topic3\", \"Topic3\", \"Topic3\", \"Topic3\", \"Topic3\", \"Topic3\", \"Topic3\", \"Topic3\", \"Topic3\", \"Topic3\", \"Topic3\", \"Topic3\", \"Topic4\", \"Topic4\", \"Topic4\", \"Topic4\", \"Topic4\", \"Topic4\", \"Topic4\", \"Topic4\", \"Topic4\", \"Topic4\", \"Topic4\", \"Topic4\", \"Topic4\", \"Topic4\", \"Topic4\", \"Topic4\", \"Topic4\", \"Topic4\", \"Topic4\", \"Topic4\", \"Topic4\", \"Topic4\", \"Topic4\", \"Topic4\", \"Topic4\", \"Topic4\", \"Topic4\", \"Topic4\", \"Topic4\", \"Topic4\", \"Topic4\", \"Topic4\", \"Topic4\", \"Topic4\", \"Topic4\", \"Topic4\", \"Topic4\", \"Topic4\", \"Topic4\", \"Topic4\", \"Topic4\", \"Topic4\", \"Topic4\", \"Topic4\", \"Topic4\", \"Topic4\", \"Topic4\", \"Topic4\", \"Topic4\", \"Topic4\", \"Topic4\", \"Topic4\", \"Topic4\", \"Topic4\", \"Topic4\", \"Topic4\", \"Topic4\", \"Topic4\", \"Topic4\", \"Topic4\", \"Topic4\", \"Topic4\", \"Topic4\", \"Topic4\", \"Topic4\", \"Topic5\", \"Topic5\", \"Topic5\", \"Topic5\", \"Topic5\", \"Topic5\", \"Topic5\", \"Topic5\", \"Topic5\", \"Topic5\", \"Topic5\", \"Topic5\", \"Topic5\", \"Topic5\", \"Topic5\", \"Topic5\", \"Topic5\", \"Topic5\", \"Topic5\", \"Topic5\", \"Topic5\", \"Topic5\", \"Topic5\", \"Topic5\", \"Topic5\", \"Topic5\", \"Topic5\", \"Topic5\", \"Topic5\", \"Topic5\", \"Topic5\", \"Topic5\", \"Topic5\", \"Topic5\", \"Topic5\", \"Topic5\", \"Topic5\", \"Topic5\", \"Topic5\", \"Topic5\", \"Topic5\", \"Topic5\", \"Topic5\", \"Topic5\", \"Topic5\", \"Topic5\", \"Topic5\", \"Topic5\", \"Topic5\", \"Topic5\", \"Topic5\", \"Topic5\", \"Topic5\", \"Topic5\", \"Topic5\", \"Topic5\", \"Topic5\", \"Topic5\", \"Topic5\"], \"logprob\": [30.0, 29.0, 28.0, 27.0, 26.0, 25.0, 24.0, 23.0, 22.0, 21.0, 20.0, 19.0, 18.0, 17.0, 16.0, 15.0, 14.0, 13.0, 12.0, 11.0, 10.0, 9.0, 8.0, 7.0, 6.0, 5.0, 4.0, 3.0, 2.0, 1.0, -6.0845, -6.1974, -6.1978, -6.3292, -6.3307, -6.3309, -6.4759, -6.4812, -6.6509, -6.6535, -6.6536, -6.6664, -6.6684, -6.3821, -6.8659, -6.8659, -6.8662, -6.8663, -6.869, -6.8702, -6.8767, -6.894, -6.3273, -7.1365, -7.137, -7.138, -7.1382, -7.1383, -7.1382, -7.1385, -4.7301, -6.4811, -5.8875, -6.4794, -6.4796, -4.7448, -6.2081, -5.5266, -4.6264, -5.73, -5.192, -5.979, -4.5669, -5.7299, -6.327, -5.5867, -4.831, -5.8938, -3.9741, -5.8061, -5.3038, -4.8186, -5.062, -5.8839, -5.2724, -5.0834, -4.9147, -4.9622, -5.5523, -5.5431, -5.074, -5.5325, -5.2717, -5.3368, -5.3075, -5.2814, -5.5171, -5.6599, -5.7397, -5.6264, -5.6623, -5.6842, -5.6792, -5.964, -6.1131, -6.2945, -6.5021, -6.503, -6.5048, -6.518, -6.7733, -6.7736, -6.7749, -6.7749, -6.5509, -6.7795, -6.7791, -6.5671, -6.8173, -6.8262, -6.8233, -6.8541, -7.1463, -7.1475, -7.148, -7.1481, -7.1483, -7.1483, -7.1484, -7.1485, -7.1485, -7.1486, -7.1486, -6.4572, -4.1085, -5.768, -5.9722, -5.447, -3.8466, -6.5075, -4.0708, -5.8167, -6.6623, -5.3553, -3.9478, -5.8583, -4.3957, -6.2417, -5.5988, -4.8728, -6.1063, -5.6163, -5.8553, -4.7245, -4.898, -5.8631, -3.7917, -5.2674, -5.0722, -5.1434, -4.8738, -5.5653, -5.2289, -5.3093, -5.5288, -5.225, -5.0535, -5.308, -5.3297, -5.4642, -5.3015, -5.5159, -5.4107, -5.5479, -5.5939, -5.5063, -5.8601, -6.1803, -6.1803, -6.3939, -6.3946, -6.4251, -5.7353, -6.4286, -6.663, -6.6661, -6.6664, -6.6674, -6.6681, -6.6703, -6.6707, -6.6803, -6.6856, -5.8689, -7.038, -7.038, -7.0389, -7.0392, -7.0397, -7.0397, -7.0398, -7.0401, -7.04, -7.0399, -7.0402, -6.1966, -6.3928, -6.2155, -6.398, -4.6273, -4.1663, -3.9933, -5.3552, -6.4309, -6.1756, -6.0033, -6.179, -4.9679, -3.5765, -5.5665, -5.5691, -4.4538, -4.8497, -5.6142, -5.5213, -5.1185, -4.926, -5.8541, -4.7896, -5.1239, -5.4844, -5.4854, -4.9739, -5.0112, -5.6163, -5.4214, -5.2114, -5.2707, -5.42, -5.6717, -5.5298, -5.7115, -5.6976, -5.7057, -5.7031, -4.4273, -5.3701, -5.9432, -6.1177, -6.1196, -6.3289, -6.3306, -6.3309, -6.3311, -6.3313, -6.3316, -6.602, -6.6024, -6.6019, -6.6035, -6.6035, -6.604, -6.6041, -6.6255, -5.8207, -5.157, -5.2676, -6.9761, -6.9759, -6.9762, -6.9762, -6.9764, -6.9761, -6.9765, -6.9766, -6.1275, -6.3295, -6.3306, -5.7909, -5.0428, -5.4395, -6.1175, -4.7587, -4.5798, -4.619, -4.4661, -5.9434, -5.1066, -4.539, -5.2606, -5.4429, -4.8486, -5.1061, -4.2686, -5.0998, -5.6739, -5.4435, -5.0847, -5.789, -5.663, -5.7923, -5.0876, -5.5395, -5.3622, -5.6609, -5.438, -5.5157, -5.6563, -5.6548, -5.6565, -5.6409, -5.8545, -5.8643, -6.1263, -6.1272, -6.128, -6.128, -6.1287, -6.1288, -6.1289, -6.1288, -6.1294, -5.4666, -6.1602, -6.4987, -6.5005, -6.503, -6.5033, -4.9679, -6.5193, -6.5194, -5.8588, -6.1273, -6.1344, -5.7098, -7.1049, -7.1049, -7.1049, -7.1049, -7.1049, -5.6408, -5.1869, -5.644, -6.1279, -6.1238, -4.8793, -4.6155, -4.8698, -5.6413, -4.9655, -4.0047, -4.5371, -4.6352, -4.882, -5.2346, -5.2611, -5.2391, -5.6391, -5.2871, -5.8581, -5.4777, -5.3185, -5.8545, -5.5162, -5.8496, -5.641, -5.7259, -5.8208, -5.85], \"loglift\": [30.0, 29.0, 28.0, 27.0, 26.0, 25.0, 24.0, 23.0, 22.0, 21.0, 20.0, 19.0, 18.0, 17.0, 16.0, 15.0, 14.0, 13.0, 12.0, 11.0, 10.0, 9.0, 8.0, 7.0, 6.0, 5.0, 4.0, 3.0, 2.0, 1.0, 1.043, 1.0363, 1.0357, 1.0235, 1.0221, 1.0221, 1.0115, 1.0067, 0.9925, 0.9901, 0.99, 0.9779, 0.976, 0.9724, 0.9629, 0.9628, 0.9626, 0.9625, 0.9599, 0.9591, 0.9524, 0.936, 0.9327, 0.9194, 0.9189, 0.918, 0.9179, 0.9179, 0.9178, 0.9176, 0.8582, 0.8819, 0.8434, 0.8781, 0.8779, 0.7476, 0.8306, 0.7384, 0.5076, 0.7306, 0.5987, 0.7248, 0.3062, 0.6381, 0.8097, 0.5795, 0.3244, 0.6626, -0.086, 0.6146, 0.3674, 0.0419, 0.1449, 0.5759, 0.202, 0.0734, -0.0578, -0.052, 0.3415, 0.3157, -0.1309, 0.2524, -0.0327, 0.0047, -0.0536, -0.1545, -0.0228, 0.1529, 0.3289, -0.2155, -0.1867, -0.1671, -0.7074, 1.4231, 1.4084, 1.3831, 1.3585, 1.3574, 1.3559, 1.342, 1.3125, 1.3123, 1.3109, 1.3109, 1.3104, 1.3069, 1.3066, 1.2913, 1.2691, 1.2675, 1.263, 1.2445, 1.231, 1.2298, 1.2294, 1.2292, 1.229, 1.229, 1.229, 1.2288, 1.2288, 1.2288, 1.2287, 1.2247, 1.1982, 1.2109, 1.1997, 1.179, 1.1252, 1.2033, 1.0918, 1.1584, 1.2001, 1.0926, 0.9127, 1.1167, 0.8581, 1.1479, 0.982, 0.7344, 1.0846, 0.8939, 0.9819, 0.5145, 0.5776, 0.9483, 0.0964, 0.7016, 0.5761, 0.4683, 0.2831, 0.7116, 0.4423, 0.4045, 0.5812, 0.1164, -0.1966, 0.1664, 0.1452, 0.3528, -0.0947, 0.1844, -0.2768, -0.3925, -0.467, 1.574, 1.5399, 1.5087, 1.5087, 1.4786, 1.4777, 1.4458, 1.4435, 1.4421, 1.4337, 1.4312, 1.4303, 1.4295, 1.4289, 1.4269, 1.4264, 1.417, 1.4111, 1.4107, 1.349, 1.349, 1.3482, 1.3478, 1.3477, 1.3475, 1.3473, 1.3472, 1.3472, 1.3471, 1.347, 1.3353, 1.3281, 1.3216, 1.323, 1.1861, 0.9606, 0.917, 1.0874, 1.2544, 1.2111, 1.1807, 1.2072, 0.91, 0.3116, 1.0046, 0.9485, 0.4031, 0.5612, 0.9189, 0.8583, 0.5819, 0.4154, 0.9892, 0.1534, 0.3505, 0.6255, 0.6208, 0.1601, 0.1457, 0.6939, 0.4302, -0.056, -0.0316, 0.0743, 0.3007, -0.323, 0.3143, -0.0858, 0.0792, -0.83, 1.7123, 1.6506, 1.6175, 1.5971, 1.5951, 1.5682, 1.5664, 1.566, 1.5659, 1.5656, 1.5653, 1.5185, 1.5184, 1.5184, 1.5167, 1.5166, 1.5164, 1.5162, 1.4942, 1.4825, 1.4599, 1.4501, 1.4321, 1.4321, 1.4319, 1.4318, 1.4318, 1.4318, 1.4315, 1.4314, 1.4209, 1.3709, 1.3697, 1.2938, 1.1543, 1.2077, 1.2882, 0.9551, 0.8951, 0.8982, 0.4769, 1.1848, 0.7062, 0.3341, 0.7461, 0.7709, 0.3583, 0.3882, -0.3805, 0.3758, 0.8274, 0.5256, 0.0779, 0.9216, 0.7386, 0.8982, -0.2306, 0.2775, -0.2068, 0.5182, -0.5775, -0.2766, 0.1344, -0.0476, -0.2457, 2.2206, 2.183, 2.1707, 2.1249, 2.1239, 2.1229, 2.1229, 2.1221, 2.122, 2.1219, 2.1219, 2.1213, 2.0865, 2.0847, 2.0251, 2.023, 2.0202, 2.0197, 2.0071, 2.0011, 2.0009, 1.971, 1.8731, 1.8544, 1.8078, 1.7941, 1.7941, 1.794, 1.794, 1.794, 1.756, 1.6048, 1.6255, 1.672, 1.6684, 1.1554, 1.0327, 1.1243, 1.4257, 0.9283, -0.1166, 0.336, 0.3078, -0.0251, 0.4657, 0.1497, -0.0822, 0.894, -0.1317, 1.392, 0.1106, -0.4083, 1.2737, 0.0956, 0.9032, -0.1467, 0.1257, -0.6939, -0.3329]}, \"token.table\": {\"Topic\": [5, 4, 4, 1, 5, 1, 4, 1, 2, 4, 5, 3, 5, 4, 2, 3, 1, 4, 3, 1, 2, 3, 4, 5, 5, 2, 1, 2, 4, 4, 1, 4, 3, 1, 1, 3, 2, 4, 4, 4, 1, 1, 4, 5, 5, 2, 4, 5, 5, 1, 2, 3, 3, 2, 3, 5, 5, 2, 2, 1, 1, 5, 3, 2, 5, 1, 3, 4, 5, 1, 2, 3, 4, 5, 1, 2, 3, 4, 4, 4, 4, 1, 2, 4, 5, 1, 2, 3, 4, 5, 1, 2, 3, 4, 5, 4, 1, 2, 3, 4, 5, 3, 1, 2, 3, 4, 5, 1, 2, 1, 1, 2, 3, 4, 5, 1, 2, 3, 5, 3, 4, 5, 4, 1, 2, 3, 3, 1, 2, 3, 4, 5, 1, 2, 3, 1, 3, 4, 2, 3, 1, 4, 4, 1, 2, 3, 4, 5, 2, 1, 1, 2, 3, 4, 5, 1, 2, 3, 1, 3, 5, 4, 4, 1, 2, 4, 5, 2, 5, 1, 1, 1, 1, 2, 3, 4, 5, 1, 2, 4, 1, 2, 3, 4, 5, 1, 2, 3, 4, 1, 2, 3, 4, 5, 4, 1, 4, 5, 1, 2, 3, 4, 5, 1, 2, 3, 4, 5, 4, 4, 1, 2, 3, 4, 5, 3, 1, 3, 5, 1, 2, 3, 4, 5, 1, 2, 3, 4, 2, 1, 4, 5, 1, 2, 5, 5, 1, 2, 3, 4, 5, 1, 2, 3, 4, 5, 5, 2, 2, 1, 4, 1, 2, 3, 4, 5, 1, 2, 3, 4, 1, 2, 3, 4, 4, 1, 2, 3, 4, 5, 1, 2, 3, 1, 2, 3, 4, 5, 5, 1, 2, 5, 3, 4, 2, 4, 2, 3, 1, 1, 2, 3, 4, 5, 1, 2, 3, 4, 5, 4, 3, 5, 1, 3, 4, 5, 1, 2, 3, 4, 5, 1, 2, 3, 4, 5, 3, 1, 1, 2, 4, 1, 2, 3, 4, 3, 4, 5, 2, 1, 1, 2, 3, 4, 5, 5, 1, 2, 3, 4, 5, 2, 2, 4, 4, 1, 2, 3, 4, 5, 1, 5, 5, 1, 2, 3, 4, 5, 2, 3, 3, 4, 1, 1, 2, 3, 4, 5, 4, 5, 5, 1, 5, 2, 3, 1, 2, 3, 4, 5, 3, 1, 2, 3, 4, 5, 3, 1, 2, 3, 4, 1, 2, 4, 5, 3, 4, 5, 1, 2, 3, 4, 5, 1, 4, 1, 4, 1, 3, 4, 5, 3, 2, 2, 1, 2, 2, 3, 4, 2, 3, 4, 3, 5, 3, 3, 4, 1, 2, 3, 4, 5, 1, 2, 3, 4, 5, 1, 2, 3, 4, 5, 3, 4, 2, 4, 3, 2, 2, 4, 5, 2, 1, 2, 3, 4, 2, 1, 2, 1, 2, 3, 4, 1, 4, 1, 1, 2, 3, 4, 5, 3, 1, 2, 3, 4, 5, 1, 2, 3, 4, 2, 2, 1, 2, 5, 3, 5, 1, 1, 2, 2, 1, 2, 3, 4, 5, 1, 3, 1, 1, 2, 3, 4, 1, 2, 3, 4, 5, 2, 4, 1, 2, 3, 2, 1, 2, 3, 4, 1, 2, 4, 4, 2, 5, 1, 2, 3, 4, 1, 1, 2, 3, 4, 5, 1, 2, 3, 4, 5, 3, 1, 1, 2, 3, 4, 5, 5, 1, 2, 3, 4, 5, 1, 2, 4, 5, 1, 2, 3, 4, 5, 1, 2, 3, 4, 5, 2, 2, 5, 1, 3, 1, 2, 4, 5, 3, 1, 2, 3, 5, 1, 2, 3, 4, 1, 2, 3, 4, 5, 2, 4, 5, 1, 2, 3, 4, 5, 2, 3, 1, 2, 3, 4, 5, 3, 1, 1, 2, 3, 4, 5, 1, 2, 3, 4, 5], \"Freq\": [0.738822362600603, 0.8507547208517461, 0.968379983534999, 0.8975313251063413, 0.7270054666289482, 0.18008120141221795, 0.7203248056488718, 0.3432439919927574, 0.1716219959963787, 0.3432439919927574, 0.11441466399758579, 0.9352894427225052, 0.7271114129371107, 0.7655899246976678, 0.9246641620145157, 0.9021275500395936, 0.5345783292252368, 0.4582099964787744, 0.9348340566523368, 0.3049396581763564, 0.1355287369672695, 0.4743505793854432, 0.10164655272545212, 0.6950545402272353, 0.7270215550011438, 0.8250972822199789, 0.20129562419263222, 0.3163216951598506, 0.46010428386887364, 0.6381066487588621, 0.33979588271392747, 0.6795917654278549, 0.9353601295591241, 0.9534365786317481, 0.30638388428086866, 0.6127677685617373, 0.7415239594301366, 0.24717465314337886, 0.7655487048845584, 0.6380247293456787, 0.9457037365539654, 0.9537895232004391, 0.46317955638172414, 0.46317955638172414, 0.7269133752709601, 0.6297728645299127, 0.25190914581196505, 0.12595457290598253, 0.47728884202413474, 0.8973907643246267, 0.7377288004811214, 0.8330943451391221, 0.8331259783593533, 0.825072387970502, 0.6419684322290672, 0.21398947740968907, 0.7272251173221148, 0.8196534305793424, 0.8251304595826121, 0.9538670264554385, 0.8884373858858696, 0.727090281408616, 0.8330963224566194, 0.7380829507169265, 0.7270206351641552, 0.4424319357153683, 0.06320456224505262, 0.3792273734703157, 0.12640912449010525, 0.1585244276229169, 0.24910981483601227, 0.13587808081964306, 0.43028058926220303, 0.02264634680327384, 0.07791351737074313, 0.31165406948297253, 0.15582703474148626, 0.46748110422445877, 0.8508990924618314, 0.9115581208719592, 0.7654739883325437, 0.24238283802224658, 0.377039970256828, 0.10772570578766515, 0.24238283802224658, 0.43223021412767015, 0.18524152034043007, 0.21611510706383508, 0.12349434689362004, 0.09262076017021503, 0.2718181506263113, 0.14390372680216482, 0.4956683923185677, 0.031978605956036625, 0.04796790893405494, 0.8510199032960296, 0.4321406131910993, 0.16620792815042282, 0.23269109941059193, 0.09972475689025369, 0.06648317126016913, 0.9351686995521056, 0.33685219620858087, 0.23777802085311592, 0.2972225260663949, 0.09907417535546496, 0.039629670142185984, 0.7571338349466913, 0.21632395284191178, 0.8976136111422659, 0.20882766476996922, 0.052206916192492306, 0.36544841334744615, 0.2610345809624615, 0.052206916192492306, 0.9534213730751829, 0.17712548601790187, 0.7085019440716075, 0.8810052150035607, 0.1462614068443546, 0.5850456273774184, 0.21939211026653188, 0.9562347077199738, 0.2029822036002085, 0.7104377126007297, 0.10149110180010425, 0.8333899470705272, 0.19802523544758832, 0.2640336472634511, 0.2970378531713825, 0.13201682363172554, 0.09901261772379416, 0.20299848019127084, 0.7104946806694479, 0.10149924009563542, 0.3318421709398751, 0.28443614651989296, 0.37924819535985727, 0.9246865284827426, 0.8332239365161368, 0.23539670296615783, 0.7061901088984734, 0.6380403059600152, 0.03711700526700827, 0.44540406320409925, 0.18558502633504134, 0.29693604213606617, 0.07423401053401654, 0.825093961695153, 0.8976013553173856, 0.3806138592088295, 0.1522455436835318, 0.11418415776264886, 0.0761227718417659, 0.26642970144618067, 0.9535277655343736, 0.6243734511753937, 0.8332545421679497, 0.20300881150446437, 0.10150440575223219, 0.7105308402656253, 0.8509828348257017, 0.8507485081254688, 0.6675313727008324, 0.06068467024553022, 0.18205401073659064, 0.06068467024553022, 0.8765058331881396, 0.4776357814592269, 0.8474985025375406, 0.8885161129102075, 0.9202612566826154, 0.2548752233649346, 0.1486772136295452, 0.33983363115324616, 0.1274376116824673, 0.10619800973538943, 0.2147836084908779, 0.7159453616362597, 0.07159453616362597, 0.09324957037006805, 0.23312392592517014, 0.046624785185034025, 0.5594974222204083, 0.046624785185034025, 0.2697947909930049, 0.15416845199600282, 0.19271056499500352, 0.38542112999000705, 0.4510213366041259, 0.20500969845642086, 0.04100193969128417, 0.24601163814770505, 0.04100193969128417, 0.6381758428546681, 0.7921671249849331, 0.850797885171687, 0.6950497116984938, 0.3051571549970632, 0.18309429299823793, 0.2929508687971807, 0.1342691481987078, 0.0854440033991777, 0.13364305569402474, 0.2672861113880495, 0.13364305569402474, 0.13364305569402474, 0.40092916708207416, 0.8506399338380496, 0.6380764118740607, 0.25505019086454067, 0.3188127385806758, 0.12752509543227034, 0.2231689170064731, 0.06376254771613517, 0.9352535681301882, 0.25017676343122586, 0.6254419085780646, 0.12508838171561293, 0.07094726468157182, 0.07094726468157182, 0.07094726468157182, 0.7804199114972901, 0.07094726468157182, 0.16788107740479652, 0.27980179567466085, 0.44768287307945737, 0.16788107740479652, 0.8251311096069956, 0.4731971326832103, 0.11829928317080257, 0.3548978495124077, 0.34470460974476114, 0.603233067053332, 0.6950505951256929, 0.4759632901802506, 0.29647714427257826, 0.24088767972146985, 0.26404995661776504, 0.12044383986073492, 0.0787517414474036, 0.5474828310629862, 0.1610243620773489, 0.22543410690828847, 0.04830730862320467, 0.01610243620773489, 0.7273385017266005, 0.924676247849995, 0.7381599588826115, 0.20963760294130154, 0.6289128088239047, 0.09569738633745598, 0.7273001361646654, 0.07655790906996478, 0.07655790906996478, 0.019139477267491194, 0.31883379853441407, 0.5101340776550626, 0.06376675970688282, 0.06376675970688282, 0.11599449801768634, 0.6462550603842525, 0.033141285147910385, 0.1822770683135071, 0.765540126822538, 0.34299176006880894, 0.5389870515366997, 0.012249705716743175, 0.0979976457339454, 0.012249705716743175, 0.2710694399466861, 0.20330207996001456, 0.5421388798933722, 0.17093795037239187, 0.3846103883378817, 0.34187590074478375, 0.04273448759309797, 0.04273448759309797, 0.47595430351935536, 0.16900239222631278, 0.33800478445262555, 0.4225059805657819, 0.8331895257547673, 0.6379481146593425, 0.823138307914456, 0.205784576978614, 0.8251228352893885, 0.8290487022160743, 0.7923069927083485, 0.4073924216528755, 0.24896203545453502, 0.27159494776858367, 0.02263291231404864, 0.04526582462809728, 0.4684173782739479, 0.33064756113455146, 0.02755396342787929, 0.13776981713939646, 0.02755396342787929, 0.6383584546469425, 0.6420011997875847, 0.21400039992919492, 0.11919664589841336, 0.5959832294920668, 0.23839329179682672, 0.05959832294920668, 0.760938277196407, 0.05072921847976047, 0.025364609239880233, 0.05072921847976047, 0.10145843695952093, 0.43211522404983377, 0.1964160109317426, 0.2749824153044397, 0.07856640437269705, 0.03928320218634852, 0.7458451481173153, 0.8973768889197468, 0.153643854368174, 0.614575417472696, 0.153643854368174, 0.6010176873349612, 0.06677974303721791, 0.13355948607443582, 0.13355948607443582, 0.3095224685968766, 0.1547612342984383, 0.4642837028953149, 0.8251322896148955, 0.8899969235200919, 0.44658318302257716, 0.09924070733835048, 0.08683561892105666, 0.24810176834587622, 0.12405088417293811, 0.6950495221071421, 0.5831219841104399, 0.11662439682208799, 0.11662439682208799, 0.11662439682208799, 0.05831219841104399, 0.9252397591231063, 0.6167311029608243, 0.8508139846389876, 0.7656502486807839, 0.32323533850019953, 0.1385294307857998, 0.2077941461786997, 0.2539706231072996, 0.0692647153928999, 0.7928220248369766, 0.47747232897373476, 0.8788784253493953, 0.30860412425132994, 0.5082891458257198, 0.07261273511795997, 0.09076591889744998, 0.018153183779489993, 0.13763033828492224, 0.8257820297095335, 0.8710184349306851, 0.12443120499009787, 0.8471368484219138, 0.27937561972558184, 0.07982160563588053, 0.22616121596832817, 0.27937561972558184, 0.1197324084538208, 0.28298670463947223, 0.5659734092789445, 0.7269549152913941, 0.8097845693978294, 0.13496409489963823, 0.7395013736468774, 0.24650045788229247, 0.6913426700707536, 0.16131328968317582, 0.02304475566902512, 0.09217902267610048, 0.02304475566902512, 0.8290576078406289, 0.589998472389611, 0.1552627558920029, 0.031052551178400577, 0.18631530707040347, 0.031052551178400577, 0.9350128429232484, 0.7950911207702263, 0.07950911207702263, 0.07950911207702263, 0.07950911207702263, 0.11983146459659459, 0.6590730552812702, 0.11983146459659459, 0.11983146459659459, 0.8331330142696173, 0.2385923333391361, 0.7157770000174083, 0.3459725206201544, 0.2800729928829821, 0.21417346514580984, 0.0494246458028792, 0.08237440967146532, 0.7480823435510915, 0.1496164687102183, 0.31227053273754624, 0.6245410654750925, 0.11829875644726547, 0.11829875644726547, 0.5914937822363273, 0.11829875644726547, 0.9350186873370454, 0.6213214787843327, 0.9247771771160456, 0.7928953758312576, 0.738711340854989, 0.266921566293867, 0.533843132587734, 0.17794771086257796, 0.6190598239348537, 0.2653113531149373, 0.1768742354099582, 0.7468806084801924, 0.6950552749674291, 0.8332719817600892, 0.8331284793146547, 0.7655708957694245, 0.23262189971381897, 0.46524379942763794, 0.07754063323793965, 0.1550812664758793, 0.07754063323793965, 0.5876463623560876, 0.04520356633508366, 0.2260178316754183, 0.09040713267016733, 0.04520356633508366, 0.16254279229471214, 0.08127139614735607, 0.24381418844206823, 0.24381418844206823, 0.24381418844206823, 0.7122553143876654, 0.17806382859691636, 0.8250674761960018, 0.8507919355462684, 0.8333678169333637, 0.9245878151421028, 0.22979963579894916, 0.22979963579894916, 0.4595992715978983, 0.8249947823096965, 0.1642991484043611, 0.6708881893178078, 0.08214957420218055, 0.08214957420218055, 0.925174849745023, 0.7439666950958308, 0.14879333901916617, 0.7158395388677629, 0.11930658981129381, 0.11930658981129381, 0.6376999857835245, 0.20962188592033962, 0.6288656577610189, 0.7923146019990546, 0.4441882376405849, 0.14806274588019497, 0.18096557829801607, 0.14806274588019497, 0.08225708104455276, 0.9347848389398618, 0.27191830844521875, 0.38521760363072655, 0.09063943614840625, 0.24925844940811717, 0.4772523808831255, 0.6985815987955972, 0.049898685628256945, 0.14969605688477083, 0.09979737125651389, 0.8250901127340609, 0.7383162494193323, 0.6965114732470151, 0.15478032738822559, 0.15478032738822559, 0.180928327658748, 0.723713310634992, 0.920067854190184, 0.7439235643607137, 0.14878471287214276, 0.9195651570239557, 0.15883287409477528, 0.12706629927582025, 0.6353314963791011, 0.03176657481895506, 0.03176657481895506, 0.3062367701955918, 0.6124735403911836, 0.8975568326069506, 0.1368570092207746, 0.5474280368830984, 0.0684285046103873, 0.2052855138311619, 0.38095233107033105, 0.09523808276758276, 0.126984110356777, 0.3492063034811368, 0.03174602758919425, 0.1409341750776523, 0.7046708753882615, 0.30295724618634834, 0.45443586927952245, 0.2524643718219569, 0.736627719202099, 0.32117940234239256, 0.12847176093695703, 0.5138870437478281, 0.06423588046847852, 0.10188859160711743, 0.7132201412498219, 0.10188859160711743, 0.8506787304878249, 0.27970669915996027, 0.5594133983199205, 0.606270319637387, 0.06062703196373869, 0.06062703196373869, 0.3031351598186935, 0.953403713574265, 0.44752342929472055, 0.20654927505910178, 0.034424879176516966, 0.10327463752955089, 0.24097415423561874, 0.28344779758776956, 0.1653445485928656, 0.07086194939694239, 0.42517169638165436, 0.07086194939694239, 0.9348440805579672, 0.8886717176324146, 0.2596548918327411, 0.3375513593825634, 0.18175842428291877, 0.10386195673309644, 0.10386195673309644, 0.722725288704179, 0.2378119708909506, 0.1981766424091255, 0.1189059854454753, 0.1585413139273004, 0.2774472993727757, 0.13625769247543615, 0.2725153849508723, 0.13625769247543615, 0.4087730774263085, 0.29794290797245876, 0.22345718097934406, 0.2607000444759014, 0.18621431748278672, 0.037242863496557345, 0.30899775456749895, 0.07724943864187474, 0.47637153829156087, 0.07724943864187474, 0.06437453220156228, 0.825075600152515, 0.6354838981721915, 0.21182796605739718, 0.7159604209572692, 0.9315086991321745, 0.41214435136462274, 0.22896908409145708, 0.27476290090974853, 0.045793816818291415, 0.745718711434635, 0.608398012597478, 0.11061782047226874, 0.1659267307084031, 0.05530891023613437, 0.3219578023329335, 0.35773089148103715, 0.17886544574051857, 0.125205812018363, 0.3810443248910303, 0.19052216244551515, 0.13856157268764738, 0.24248275220338292, 0.034640393171911844, 0.17460938241910254, 0.17460938241910254, 0.5238281472573075, 0.3831638502932847, 0.1277212834310949, 0.34059008914958644, 0.08514752228739661, 0.08514752228739661, 0.20649956035668307, 0.6194986810700492, 0.9534224117619929, 0.13048575751497898, 0.4567001513024264, 0.19572863627246848, 0.19572863627246848, 0.7470164360815654, 0.8975766270217226, 0.2225500445424673, 0.11127502227123365, 0.2225500445424673, 0.11127502227123365, 0.33382506681370094, 0.08511167997060586, 0.25533503991181755, 0.3404467198824234, 0.1702233599412117, 0.14185279995100974], \"Term\": [\"ANN\", \"APIs\", \"ASD\", \"Additionally\", \"Algorithm\", \"Autism\", \"Autism\", \"CNN\", \"CNN\", \"CNN\", \"CNN\", \"Chatbot\", \"Cognition\", \"DCNN\", \"DNNs\", \"ED\", \"EI\", \"EI\", \"ERC\", \"Emotion\", \"Emotion\", \"Emotion\", \"Emotion\", \"Even\", \"Evolutionary\", \"Experiment\", \"FER\", \"FER\", \"FER\", \"FL\", \"Fast\", \"Fast\", \"IMFs\", \"Interactions\", \"Internet\", \"Internet\", \"JAFFE\", \"JAFFE\", \"KDEF\", \"LIRIS\", \"LSTM\", \"Mask\", \"Model\", \"Model\", \"Multiobjective\", \"Neural\", \"Neural\", \"Neural\", \"Piagetian\", \"RPN\", \"Recognition\", \"SAPBERT\", \"SED\", \"SVMs\", \"Social\", \"Social\", \"Student\", \"Support\", \"System\", \"TBED\", \"TED\", \"Task\", \"Utterance\", \"Vector\", \"Within\", \"ability\", \"ability\", \"ability\", \"ability\", \"accuracy\", \"accuracy\", \"accuracy\", \"accuracy\", \"accuracy\", \"achieved\", \"achieved\", \"achieved\", \"achieved\", \"activation\", \"adult\", \"aggression\", \"algorithm\", \"algorithm\", \"algorithm\", \"algorithm\", \"also\", \"also\", \"also\", \"also\", \"also\", \"analysis\", \"analysis\", \"analysis\", \"analysis\", \"analysis\", \"anticorrelation\", \"application\", \"application\", \"application\", \"application\", \"application\", \"applying\", \"approach\", \"approach\", \"approach\", \"approach\", \"approach\", \"architecture\", \"architecture\", \"arithmetic\", \"article\", \"article\", \"article\", \"article\", \"article\", \"association\", \"attitude\", \"attitude\", \"attribute\", \"author\", \"author\", \"author\", \"autism\", \"automatic\", \"automatic\", \"automatic\", \"automation\", \"based\", \"based\", \"based\", \"based\", \"based\", \"basic\", \"basic\", \"basic\", \"brain\", \"brain\", \"brain\", \"canthus\", \"category\", \"child\", \"child\", \"circle\", \"classification\", \"classification\", \"classification\", \"classification\", \"classification\", \"close\", \"closely\", \"cognitive\", \"cognitive\", \"cognitive\", \"cognitive\", \"cognitive\", \"combine\", \"combining\", \"communicated\", \"computational\", \"computational\", \"computational\", \"connectivity\", \"contemporary\", \"convolutional\", \"convolutional\", \"convolutional\", \"convolutional\", \"course\", \"crime\", \"cryptocurrency\", \"curriculum\", \"cytokine\", \"data\", \"data\", \"data\", \"data\", \"data\", \"database\", \"database\", \"database\", \"dataset\", \"dataset\", \"dataset\", \"dataset\", \"dataset\", \"datasets\", \"datasets\", \"datasets\", \"datasets\", \"deep\", \"deep\", \"deep\", \"deep\", \"deep\", \"deficit\", \"dependence\", \"deployment\", \"describing\", \"detection\", \"detection\", \"detection\", \"detection\", \"detection\", \"develop\", \"develop\", \"develop\", \"develop\", \"develop\", \"diagnosis\", \"diferent\", \"different\", \"different\", \"different\", \"different\", \"different\", \"discrete\", \"discus\", \"discus\", \"discus\", \"disorder\", \"disorder\", \"disorder\", \"disorder\", \"disorder\", \"due\", \"due\", \"due\", \"due\", \"e\", \"educational\", \"educational\", \"educational\", \"effective\", \"effective\", \"emerge\", \"emoticon\", \"emotion\", \"emotion\", \"emotion\", \"emotion\", \"emotion\", \"emotional\", \"emotional\", \"emotional\", \"emotional\", \"emotional\", \"examine\", \"exist\", \"explicit\", \"explored\", \"explored\", \"expression\", \"expression\", \"expression\", \"expression\", \"expression\", \"face\", \"face\", \"face\", \"face\", \"facial\", \"facial\", \"facial\", \"facial\", \"faster\", \"feature\", \"feature\", \"feature\", \"feature\", \"feature\", \"feeling\", \"feeling\", \"feeling\", \"field\", \"field\", \"field\", \"field\", \"field\", \"fluctuation\", \"framework\", \"framework\", \"framework\", \"friendship\", \"frontal\", \"fully\", \"fully\", \"gave\", \"generated\", \"healthcare\", \"human\", \"human\", \"human\", \"human\", \"human\", \"image\", \"image\", \"image\", \"image\", \"image\", \"imaging\", \"increase\", \"increase\", \"individual\", \"individual\", \"individual\", \"individual\", \"intelligence\", \"intelligence\", \"intelligence\", \"intelligence\", \"intelligence\", \"interaction\", \"interaction\", \"interaction\", \"interaction\", \"interaction\", \"item\", \"label\", \"landmark\", \"landmark\", \"landmark\", \"language\", \"language\", \"language\", \"language\", \"le\", \"le\", \"le\", \"leadership\", \"learn\", \"learning\", \"learning\", \"learning\", \"learning\", \"learning\", \"legal\", \"level\", \"level\", \"level\", \"level\", \"level\", \"likelihood\", \"localization\", \"logistic\", \"loss\", \"machine\", \"machine\", \"machine\", \"machine\", \"machine\", \"marker\", \"measurement\", \"message\", \"method\", \"method\", \"method\", \"method\", \"method\", \"methodology\", \"methodology\", \"mining\", \"mining\", \"modality\", \"model\", \"model\", \"model\", \"model\", \"model\", \"modeling\", \"modeling\", \"multimedia\", \"multiple\", \"multiple\", \"muscle\", \"muscle\", \"network\", \"network\", \"network\", \"network\", \"network\", \"networking\", \"neural\", \"neural\", \"neural\", \"neural\", \"neural\", \"nomination\", \"object\", \"object\", \"object\", \"object\", \"online\", \"online\", \"online\", \"online\", \"organizational\", \"pandemic\", \"pandemic\", \"paper\", \"paper\", \"paper\", \"paper\", \"paper\", \"past\", \"past\", \"patient\", \"patient\", \"pattern\", \"pattern\", \"pattern\", \"pattern\", \"peer\", \"perform\", \"performing\", \"personality\", \"physiological\", \"platform\", \"platform\", \"platform\", \"point\", \"point\", \"point\", \"precisely\", \"premeditation\", \"processed\", \"product\", \"profile\", \"proposed\", \"proposed\", \"proposed\", \"proposed\", \"proposed\", \"provide\", \"provide\", \"provide\", \"provide\", \"provide\", \"provides\", \"provides\", \"provides\", \"provides\", \"provides\", \"psychology\", \"psychology\", \"questioned\", \"rather\", \"reaction\", \"real\", \"reason\", \"reason\", \"reason\", \"receptive\", \"recognition\", \"recognition\", \"recognition\", \"recognition\", \"recognized\", \"recurrent\", \"recurrent\", \"region\", \"region\", \"region\", \"repetitive\", \"reported\", \"reported\", \"representation\", \"research\", \"research\", \"research\", \"research\", \"research\", \"resource\", \"result\", \"result\", \"result\", \"result\", \"retraining\", \"review\", \"review\", \"review\", \"review\", \"robustly\", \"salient\", \"school\", \"school\", \"school\", \"science\", \"science\", \"secondary\", \"semantic\", \"semantic\", \"sensor\", \"sentiment\", \"sentiment\", \"sentiment\", \"sentiment\", \"sentiment\", \"service\", \"service\", \"share\", \"signal\", \"signal\", \"signal\", \"signal\", \"social\", \"social\", \"social\", \"social\", \"social\", \"spectrum\", \"spectrum\", \"speech\", \"speech\", \"speech\", \"stable\", \"state\", \"state\", \"state\", \"state\", \"step\", \"step\", \"step\", \"straightforward\", \"stream\", \"stream\", \"stress\", \"stress\", \"stress\", \"stress\", \"structure\", \"student\", \"student\", \"student\", \"student\", \"student\", \"study\", \"study\", \"study\", \"study\", \"study\", \"subbands\", \"subject\", \"system\", \"system\", \"system\", \"system\", \"system\", \"taking\", \"task\", \"task\", \"task\", \"task\", \"task\", \"teaching\", \"teaching\", \"teaching\", \"teaching\", \"technique\", \"technique\", \"technique\", \"technique\", \"technique\", \"text\", \"text\", \"text\", \"text\", \"text\", \"timely\", \"tracking\", \"tracking\", \"trait\", \"transform\", \"two\", \"two\", \"two\", \"two\", \"unstructured\", \"use\", \"use\", \"use\", \"use\", \"used\", \"used\", \"used\", \"used\", \"using\", \"using\", \"using\", \"using\", \"using\", \"value\", \"value\", \"value\", \"various\", \"various\", \"various\", \"various\", \"various\", \"via\", \"via\", \"vocabulary\", \"way\", \"way\", \"way\", \"way\", \"web\", \"whereas\", \"within\", \"within\", \"within\", \"within\", \"within\", \"work\", \"work\", \"work\", \"work\", \"work\"]}, \"R\": 30, \"lambda.step\": 0.01, \"plot.opts\": {\"xlab\": \"PC1\", \"ylab\": \"PC2\"}, \"topic.order\": [4, 1, 5, 3, 2]};\n",
              "\n",
              "function LDAvis_load_lib(url, callback){\n",
              "  var s = document.createElement('script');\n",
              "  s.src = url;\n",
              "  s.async = true;\n",
              "  s.onreadystatechange = s.onload = callback;\n",
              "  s.onerror = function(){console.warn(\"failed to load library \" + url);};\n",
              "  document.getElementsByTagName(\"head\")[0].appendChild(s);\n",
              "}\n",
              "\n",
              "if(typeof(LDAvis) !== \"undefined\"){\n",
              "   // already loaded: just create the visualization\n",
              "   !function(LDAvis){\n",
              "       new LDAvis(\"#\" + \"ldavis_el1631377778149254083341442933\", ldavis_el1631377778149254083341442933_data);\n",
              "   }(LDAvis);\n",
              "}else if(typeof define === \"function\" && define.amd){\n",
              "   // require.js is available: use it to load d3/LDAvis\n",
              "   require.config({paths: {d3: \"https://d3js.org/d3.v5\"}});\n",
              "   require([\"d3\"], function(d3){\n",
              "      window.d3 = d3;\n",
              "      LDAvis_load_lib(\"https://cdn.jsdelivr.net/gh/bmabey/pyLDAvis@3.4.0/pyLDAvis/js/ldavis.v3.0.0.js\", function(){\n",
              "        new LDAvis(\"#\" + \"ldavis_el1631377778149254083341442933\", ldavis_el1631377778149254083341442933_data);\n",
              "      });\n",
              "    });\n",
              "}else{\n",
              "    // require.js not available: dynamically load d3 & LDAvis\n",
              "    LDAvis_load_lib(\"https://d3js.org/d3.v5.js\", function(){\n",
              "         LDAvis_load_lib(\"https://cdn.jsdelivr.net/gh/bmabey/pyLDAvis@3.4.0/pyLDAvis/js/ldavis.v3.0.0.js\", function(){\n",
              "                 new LDAvis(\"#\" + \"ldavis_el1631377778149254083341442933\", ldavis_el1631377778149254083341442933_data);\n",
              "            })\n",
              "         });\n",
              "}\n",
              "</script>"
            ],
            "text/plain": [
              "<IPython.core.display.HTML object>"
            ]
          },
          "metadata": {},
          "output_type": "display_data"
        }
      ],
      "source": [
        "visualize_topics(lda_model, bow_corpus, dictionary)"
      ]
    },
    {
      "cell_type": "code",
      "execution_count": null,
      "metadata": {
        "colab": {
          "base_uri": "https://localhost:8080/"
        },
        "id": "cUy5tDHkJUX0",
        "outputId": "68435bb0-0f64-4c52-9430-83c2f2a83009"
      },
      "outputs": [
        {
          "name": "stderr",
          "output_type": "stream",
          "text": [
            "/usr/local/lib/python3.10/dist-packages/ipykernel/ipkernel.py:283: DeprecationWarning: `should_run_async` will not call `transform_cell` automatically in the future. Please pass the result to `transformed_cell` argument and any exception that happen during thetransform in `preprocessing_exc_tuple` in IPython 7.17 and above.\n",
            "  and should_run_async(code)\n"
          ]
        }
      ],
      "source": []
    },
    {
      "cell_type": "code",
      "execution_count": null,
      "metadata": {
        "colab": {
          "base_uri": "https://localhost:8080/"
        },
        "id": "Vm1vtV06JUUf",
        "outputId": "ed1a9371-6fce-4302-f3be-119463ba1c38"
      },
      "outputs": [
        {
          "name": "stderr",
          "output_type": "stream",
          "text": [
            "/usr/local/lib/python3.10/dist-packages/ipykernel/ipkernel.py:283: DeprecationWarning: `should_run_async` will not call `transform_cell` automatically in the future. Please pass the result to `transformed_cell` argument and any exception that happen during thetransform in `preprocessing_exc_tuple` in IPython 7.17 and above.\n",
            "  and should_run_async(code)\n"
          ]
        }
      ],
      "source": []
    },
    {
      "cell_type": "code",
      "execution_count": null,
      "metadata": {
        "colab": {
          "base_uri": "https://localhost:8080/"
        },
        "id": "F5PbcjW7JUR-",
        "outputId": "d08ffe6f-b7ec-44ed-c170-e834e36c44df"
      },
      "outputs": [
        {
          "name": "stderr",
          "output_type": "stream",
          "text": [
            "/usr/local/lib/python3.10/dist-packages/ipykernel/ipkernel.py:283: DeprecationWarning: `should_run_async` will not call `transform_cell` automatically in the future. Please pass the result to `transformed_cell` argument and any exception that happen during thetransform in `preprocessing_exc_tuple` in IPython 7.17 and above.\n",
            "  and should_run_async(code)\n"
          ]
        }
      ],
      "source": []
    },
    {
      "cell_type": "code",
      "execution_count": null,
      "metadata": {
        "colab": {
          "base_uri": "https://localhost:8080/"
        },
        "id": "Whi7TlaylYFY",
        "outputId": "ca2e554d-0f20-4755-e938-51c0e8e7b572"
      },
      "outputs": [
        {
          "name": "stderr",
          "output_type": "stream",
          "text": [
            "/usr/local/lib/python3.10/dist-packages/ipykernel/ipkernel.py:283: DeprecationWarning: `should_run_async` will not call `transform_cell` automatically in the future. Please pass the result to `transformed_cell` argument and any exception that happen during thetransform in `preprocessing_exc_tuple` in IPython 7.17 and above.\n",
            "  and should_run_async(code)\n"
          ]
        },
        {
          "name": "stdout",
          "output_type": "stream",
          "text": [
            "Requirement already satisfied: transformers in /usr/local/lib/python3.10/dist-packages (4.35.2)\n",
            "Requirement already satisfied: filelock in /usr/local/lib/python3.10/dist-packages (from transformers) (3.13.1)\n",
            "Requirement already satisfied: huggingface-hub<1.0,>=0.16.4 in /usr/local/lib/python3.10/dist-packages (from transformers) (0.19.4)\n",
            "Requirement already satisfied: numpy>=1.17 in /usr/local/lib/python3.10/dist-packages (from transformers) (1.23.5)\n",
            "Requirement already satisfied: packaging>=20.0 in /usr/local/lib/python3.10/dist-packages (from transformers) (23.2)\n",
            "Requirement already satisfied: pyyaml>=5.1 in /usr/local/lib/python3.10/dist-packages (from transformers) (6.0.1)\n",
            "Requirement already satisfied: regex!=2019.12.17 in /usr/local/lib/python3.10/dist-packages (from transformers) (2023.6.3)\n",
            "Requirement already satisfied: requests in /usr/local/lib/python3.10/dist-packages (from transformers) (2.31.0)\n",
            "Requirement already satisfied: tokenizers<0.19,>=0.14 in /usr/local/lib/python3.10/dist-packages (from transformers) (0.15.0)\n",
            "Requirement already satisfied: safetensors>=0.3.1 in /usr/local/lib/python3.10/dist-packages (from transformers) (0.4.1)\n",
            "Requirement already satisfied: tqdm>=4.27 in /usr/local/lib/python3.10/dist-packages (from transformers) (4.66.1)\n",
            "Requirement already satisfied: fsspec>=2023.5.0 in /usr/local/lib/python3.10/dist-packages (from huggingface-hub<1.0,>=0.16.4->transformers) (2023.6.0)\n",
            "Requirement already satisfied: typing-extensions>=3.7.4.3 in /usr/local/lib/python3.10/dist-packages (from huggingface-hub<1.0,>=0.16.4->transformers) (4.5.0)\n",
            "Requirement already satisfied: charset-normalizer<4,>=2 in /usr/local/lib/python3.10/dist-packages (from requests->transformers) (3.3.2)\n",
            "Requirement already satisfied: idna<4,>=2.5 in /usr/local/lib/python3.10/dist-packages (from requests->transformers) (3.6)\n",
            "Requirement already satisfied: urllib3<3,>=1.21.1 in /usr/local/lib/python3.10/dist-packages (from requests->transformers) (2.0.7)\n",
            "Requirement already satisfied: certifi>=2017.4.17 in /usr/local/lib/python3.10/dist-packages (from requests->transformers) (2023.11.17)\n"
          ]
        }
      ],
      "source": [
        "pip install transformers"
      ]
    },
    {
      "cell_type": "code",
      "execution_count": null,
      "metadata": {
        "colab": {
          "base_uri": "https://localhost:8080/",
          "height": 395,
          "referenced_widgets": [
            "054bc500d3434a8294098d021cfd4794",
            "5dae399436a747d2a09ed26290124dfa",
            "cc10b384e06045d69223f20af5cf365e",
            "2f78f6ed59cb4000bdeed35e61fd823f",
            "dc5bedd8514f47d1941f75ab5abf6ff8",
            "ee3736955d544e84a45acac0beec3d35",
            "093d8aa5428a42e0aaa823cdfc17aa83",
            "1b600d6ee5584250bba0294ff91725f6",
            "642f907cbcb84ac39e1871e624c0dcc9",
            "1e6e3b1aef4a44f68ccf9f3431822839",
            "daabdfbcc8e8438ca4bcbdd9e164ed41",
            "f726555cfc874089826e034ea7c27998",
            "b85c8dcc0b85479595ae5e9ea20326ff",
            "67a609a4f37b429995e2cb04992042fc",
            "dde3a80316f54258ba7cf0f1ccb39a3c",
            "ef7aedb321ea4cf9b7cf5db1af4ec3ad",
            "8ffbad783f4b437a93b06668e141936f",
            "7ac316803b1344728ab938e8c4808b19",
            "e8d1c5d93f3149338478bcce6accc69c",
            "91510357ae864f409f30a544a13702d5",
            "38d6ff2c313e4dcdaf60eb444908597a",
            "022fc99871b84a8c9e35d906399b6b60",
            "9264f83055444fc8841be7a68227b9ac",
            "a60cd31024f046159447025de54e9f8a",
            "53f4871e45a9455aab8ac4f3069cd7d7",
            "42f406b212784f67912ce43edcd451eb",
            "3726806a691f4453a129ca435ce20368",
            "f258b9cbe49440e987466d5bf051c67e",
            "88f57c94b5f049fa81c519093c64de3c",
            "5507548a12884ae0ac159f347591d3ec",
            "11ae7c8d1f5d4743a724c28e2ba6b5c1",
            "81bf0d39200b472f8611e66de324e6f8",
            "8e689b82b3294149bd4bc3cd1f06f1ea",
            "a4b2b24f76f840358d23d3fb208eb567",
            "8236bb087a864a868d7f6f21f36c94a3",
            "20d8c697de7d43b79dec3fa2ad5447f4",
            "a7150012361840deb42e8e9aa1ed3318",
            "cd502ce677994ba4a8eace9bdab0db08",
            "8f98ce79fac74c00822e48bddd103899",
            "b880afa631014eeaa6748411ffc52c58",
            "d46e05c539a840c9b357146135400018",
            "2551eff4d0a5439a9ddda7ec6a564da1",
            "b3564890d6c0424c90500e262069debf",
            "ad56826c8ec04a1fb777a331987409b2",
            "bf22245922d448fb839dfe98d567d507",
            "2e308d06562d4e6fbf98b58bc6854f6b",
            "c18c193899844df7b1f677325c47231c",
            "71f4fc8088cd4b6c809ea2b0dbdd4021",
            "14cb47dd98784d91902d33bac56df43b",
            "18e6cedbc5b74c7e91220da5c77090c1",
            "6c8c0a2afd6d44458cc22424e67f829e",
            "5e5daa428e19455f8f011857a1169c60",
            "d2be684b54c14dae96a2d88f07c315c3",
            "fcfb36cc377a402899beb89d879d5b25",
            "67f39af129b74a8c9d60b82464733d71",
            "7b3aec79a8574b32a4c543f5182dac17",
            "8e1130713bae4cd3874e31b969c7396d",
            "0c6a850d7d614cc5b423cde0a46319ab",
            "8331121769aa456aa01155c45a12efd8",
            "13928e859fba4ae6b45b67b8afdba3a1",
            "7a9ff8bbef8b46f09fb982ca906536a0",
            "56510af6e8144d32b70cbb292e670a0c",
            "15ce4a3a62ed441c858540e52ed7861e",
            "1ea708caf06e4918873de7acf14ce188",
            "1a6796fec6054b62a92466ba88b3584c",
            "1b4d40a482ee4f75943e2dbc1a849b30"
          ]
        },
        "id": "YzDC69ohla2s",
        "outputId": "a3d5edd8-02e5-42aa-cbfd-7ec8f1e9fc6e"
      },
      "outputs": [
        {
          "data": {
            "application/vnd.jupyter.widget-view+json": {
              "model_id": "054bc500d3434a8294098d021cfd4794",
              "version_major": 2,
              "version_minor": 0
            },
            "text/plain": [
              "config.json:   0%|          | 0.00/665 [00:00<?, ?B/s]"
            ]
          },
          "metadata": {},
          "output_type": "display_data"
        },
        {
          "data": {
            "application/vnd.jupyter.widget-view+json": {
              "model_id": "f726555cfc874089826e034ea7c27998",
              "version_major": 2,
              "version_minor": 0
            },
            "text/plain": [
              "model.safetensors:   0%|          | 0.00/548M [00:00<?, ?B/s]"
            ]
          },
          "metadata": {},
          "output_type": "display_data"
        },
        {
          "data": {
            "application/vnd.jupyter.widget-view+json": {
              "model_id": "9264f83055444fc8841be7a68227b9ac",
              "version_major": 2,
              "version_minor": 0
            },
            "text/plain": [
              "generation_config.json:   0%|          | 0.00/124 [00:00<?, ?B/s]"
            ]
          },
          "metadata": {},
          "output_type": "display_data"
        },
        {
          "data": {
            "application/vnd.jupyter.widget-view+json": {
              "model_id": "a4b2b24f76f840358d23d3fb208eb567",
              "version_major": 2,
              "version_minor": 0
            },
            "text/plain": [
              "vocab.json:   0%|          | 0.00/1.04M [00:00<?, ?B/s]"
            ]
          },
          "metadata": {},
          "output_type": "display_data"
        },
        {
          "data": {
            "application/vnd.jupyter.widget-view+json": {
              "model_id": "bf22245922d448fb839dfe98d567d507",
              "version_major": 2,
              "version_minor": 0
            },
            "text/plain": [
              "merges.txt:   0%|          | 0.00/456k [00:00<?, ?B/s]"
            ]
          },
          "metadata": {},
          "output_type": "display_data"
        },
        {
          "data": {
            "application/vnd.jupyter.widget-view+json": {
              "model_id": "7b3aec79a8574b32a4c543f5182dac17",
              "version_major": 2,
              "version_minor": 0
            },
            "text/plain": [
              "tokenizer.json:   0%|          | 0.00/1.36M [00:00<?, ?B/s]"
            ]
          },
          "metadata": {},
          "output_type": "display_data"
        },
        {
          "name": "stderr",
          "output_type": "stream",
          "text": [
            "/usr/local/lib/python3.10/dist-packages/transformers/generation/configuration_utils.py:381: UserWarning: `do_sample` is set to `False`. However, `temperature` is set to `0.7` -- this flag is only used in sample-based generation modes. You should set `do_sample=True` or unset `temperature`.\n",
            "  warnings.warn(\n",
            "/usr/local/lib/python3.10/dist-packages/transformers/generation/configuration_utils.py:386: UserWarning: `do_sample` is set to `False`. However, `top_p` is set to `0.95` -- this flag is only used in sample-based generation modes. You should set `do_sample=True` or unset `top_p`.\n",
            "  warnings.warn(\n",
            "The attention mask and the pad token id were not set. As a consequence, you may observe unexpected behavior. Please pass your input's `attention_mask` to obtain reliable results.\n",
            "Setting `pad_token_id` to `eos_token_id`:50256 for open-end generation.\n"
          ]
        },
        {
          "name": "stdout",
          "output_type": "stream",
          "text": [
            "i lost the match.\n",
            "\n",
            "\"I'm not sure if I'm going to be able to play again,\" he said\n"
          ]
        }
      ],
      "source": [
        "from transformers import GPT2LMHeadModel, GPT2Tokenizer\n",
        "\n",
        "def generate_text(prompt, model_name=\"gpt2\"):\n",
        "    # Load pretrained GPT-2 model and tokenizer\n",
        "    model = GPT2LMHeadModel.from_pretrained(model_name)\n",
        "    tokenizer = GPT2Tokenizer.from_pretrained(model_name)\n",
        "\n",
        "    # Tokenize input prompt\n",
        "    input_ids = tokenizer.encode(prompt, return_tensors=\"pt\")\n",
        "\n",
        "    # Generate text\n",
        "    output = model.generate(input_ids, max_length=25, num_return_sequences=1, no_repeat_ngram_size=2, top_k=50, top_p=0.95, temperature=0.7)\n",
        "\n",
        "    # Decode the generated text\n",
        "    generated_text = tokenizer.decode(output[0], skip_special_tokens=True)\n",
        "\n",
        "    return generated_text\n",
        "\n",
        "# Example usage\n",
        "prompt = \"i lost the match\"\n",
        "generated_story = generate_text(prompt)\n",
        "print(generated_story)\n"
      ]
    }
  ],
  "metadata": {
    "accelerator": "GPU",
    "colab": {
      "gpuType": "T4",
      "provenance": []
    },
    "kernelspec": {
      "display_name": "Python 3",
      "name": "python3"
    },
    "language_info": {
      "name": "python"
    },
    "widgets": {
      "application/vnd.jupyter.widget-state+json": {
        "022fc99871b84a8c9e35d906399b6b60": {
          "model_module": "@jupyter-widgets/controls",
          "model_module_version": "1.5.0",
          "model_name": "DescriptionStyleModel",
          "state": {
            "_model_module": "@jupyter-widgets/controls",
            "_model_module_version": "1.5.0",
            "_model_name": "DescriptionStyleModel",
            "_view_count": null,
            "_view_module": "@jupyter-widgets/base",
            "_view_module_version": "1.2.0",
            "_view_name": "StyleView",
            "description_width": ""
          }
        },
        "02c27c882b264d8e9949336b829e855f": {
          "model_module": "@jupyter-widgets/base",
          "model_module_version": "1.2.0",
          "model_name": "LayoutModel",
          "state": {
            "_model_module": "@jupyter-widgets/base",
            "_model_module_version": "1.2.0",
            "_model_name": "LayoutModel",
            "_view_count": null,
            "_view_module": "@jupyter-widgets/base",
            "_view_module_version": "1.2.0",
            "_view_name": "LayoutView",
            "align_content": null,
            "align_items": null,
            "align_self": null,
            "border": null,
            "bottom": null,
            "display": null,
            "flex": null,
            "flex_flow": null,
            "grid_area": null,
            "grid_auto_columns": null,
            "grid_auto_flow": null,
            "grid_auto_rows": null,
            "grid_column": null,
            "grid_gap": null,
            "grid_row": null,
            "grid_template_areas": null,
            "grid_template_columns": null,
            "grid_template_rows": null,
            "height": null,
            "justify_content": null,
            "justify_items": null,
            "left": null,
            "margin": null,
            "max_height": null,
            "max_width": null,
            "min_height": null,
            "min_width": null,
            "object_fit": null,
            "object_position": null,
            "order": null,
            "overflow": null,
            "overflow_x": null,
            "overflow_y": null,
            "padding": null,
            "right": null,
            "top": null,
            "visibility": null,
            "width": null
          }
        },
        "02d655aaa7304265b651d0d6112fa59e": {
          "model_module": "@jupyter-widgets/base",
          "model_module_version": "1.2.0",
          "model_name": "LayoutModel",
          "state": {
            "_model_module": "@jupyter-widgets/base",
            "_model_module_version": "1.2.0",
            "_model_name": "LayoutModel",
            "_view_count": null,
            "_view_module": "@jupyter-widgets/base",
            "_view_module_version": "1.2.0",
            "_view_name": "LayoutView",
            "align_content": null,
            "align_items": null,
            "align_self": null,
            "border": null,
            "bottom": null,
            "display": null,
            "flex": null,
            "flex_flow": null,
            "grid_area": null,
            "grid_auto_columns": null,
            "grid_auto_flow": null,
            "grid_auto_rows": null,
            "grid_column": null,
            "grid_gap": null,
            "grid_row": null,
            "grid_template_areas": null,
            "grid_template_columns": null,
            "grid_template_rows": null,
            "height": null,
            "justify_content": null,
            "justify_items": null,
            "left": null,
            "margin": null,
            "max_height": null,
            "max_width": null,
            "min_height": null,
            "min_width": null,
            "object_fit": null,
            "object_position": null,
            "order": null,
            "overflow": null,
            "overflow_x": null,
            "overflow_y": null,
            "padding": null,
            "right": null,
            "top": null,
            "visibility": null,
            "width": null
          }
        },
        "054bc500d3434a8294098d021cfd4794": {
          "model_module": "@jupyter-widgets/controls",
          "model_module_version": "1.5.0",
          "model_name": "HBoxModel",
          "state": {
            "_dom_classes": [],
            "_model_module": "@jupyter-widgets/controls",
            "_model_module_version": "1.5.0",
            "_model_name": "HBoxModel",
            "_view_count": null,
            "_view_module": "@jupyter-widgets/controls",
            "_view_module_version": "1.5.0",
            "_view_name": "HBoxView",
            "box_style": "",
            "children": [
              "IPY_MODEL_5dae399436a747d2a09ed26290124dfa",
              "IPY_MODEL_cc10b384e06045d69223f20af5cf365e",
              "IPY_MODEL_2f78f6ed59cb4000bdeed35e61fd823f"
            ],
            "layout": "IPY_MODEL_dc5bedd8514f47d1941f75ab5abf6ff8"
          }
        },
        "093d8aa5428a42e0aaa823cdfc17aa83": {
          "model_module": "@jupyter-widgets/controls",
          "model_module_version": "1.5.0",
          "model_name": "DescriptionStyleModel",
          "state": {
            "_model_module": "@jupyter-widgets/controls",
            "_model_module_version": "1.5.0",
            "_model_name": "DescriptionStyleModel",
            "_view_count": null,
            "_view_module": "@jupyter-widgets/base",
            "_view_module_version": "1.2.0",
            "_view_name": "StyleView",
            "description_width": ""
          }
        },
        "0c6a850d7d614cc5b423cde0a46319ab": {
          "model_module": "@jupyter-widgets/controls",
          "model_module_version": "1.5.0",
          "model_name": "FloatProgressModel",
          "state": {
            "_dom_classes": [],
            "_model_module": "@jupyter-widgets/controls",
            "_model_module_version": "1.5.0",
            "_model_name": "FloatProgressModel",
            "_view_count": null,
            "_view_module": "@jupyter-widgets/controls",
            "_view_module_version": "1.5.0",
            "_view_name": "ProgressView",
            "bar_style": "success",
            "description": "",
            "description_tooltip": null,
            "layout": "IPY_MODEL_15ce4a3a62ed441c858540e52ed7861e",
            "max": 1355256,
            "min": 0,
            "orientation": "horizontal",
            "style": "IPY_MODEL_1ea708caf06e4918873de7acf14ce188",
            "value": 1355256
          }
        },
        "0ea86b8985e24dfb9a7c365bed5f6da9": {
          "model_module": "@jupyter-widgets/base",
          "model_module_version": "1.2.0",
          "model_name": "LayoutModel",
          "state": {
            "_model_module": "@jupyter-widgets/base",
            "_model_module_version": "1.2.0",
            "_model_name": "LayoutModel",
            "_view_count": null,
            "_view_module": "@jupyter-widgets/base",
            "_view_module_version": "1.2.0",
            "_view_name": "LayoutView",
            "align_content": null,
            "align_items": null,
            "align_self": null,
            "border": null,
            "bottom": null,
            "display": null,
            "flex": null,
            "flex_flow": null,
            "grid_area": null,
            "grid_auto_columns": null,
            "grid_auto_flow": null,
            "grid_auto_rows": null,
            "grid_column": null,
            "grid_gap": null,
            "grid_row": null,
            "grid_template_areas": null,
            "grid_template_columns": null,
            "grid_template_rows": null,
            "height": null,
            "justify_content": null,
            "justify_items": null,
            "left": null,
            "margin": null,
            "max_height": null,
            "max_width": null,
            "min_height": null,
            "min_width": null,
            "object_fit": null,
            "object_position": null,
            "order": null,
            "overflow": null,
            "overflow_x": null,
            "overflow_y": null,
            "padding": null,
            "right": null,
            "top": null,
            "visibility": null,
            "width": null
          }
        },
        "11ae7c8d1f5d4743a724c28e2ba6b5c1": {
          "model_module": "@jupyter-widgets/controls",
          "model_module_version": "1.5.0",
          "model_name": "ProgressStyleModel",
          "state": {
            "_model_module": "@jupyter-widgets/controls",
            "_model_module_version": "1.5.0",
            "_model_name": "ProgressStyleModel",
            "_view_count": null,
            "_view_module": "@jupyter-widgets/base",
            "_view_module_version": "1.2.0",
            "_view_name": "StyleView",
            "bar_color": null,
            "description_width": ""
          }
        },
        "13928e859fba4ae6b45b67b8afdba3a1": {
          "model_module": "@jupyter-widgets/base",
          "model_module_version": "1.2.0",
          "model_name": "LayoutModel",
          "state": {
            "_model_module": "@jupyter-widgets/base",
            "_model_module_version": "1.2.0",
            "_model_name": "LayoutModel",
            "_view_count": null,
            "_view_module": "@jupyter-widgets/base",
            "_view_module_version": "1.2.0",
            "_view_name": "LayoutView",
            "align_content": null,
            "align_items": null,
            "align_self": null,
            "border": null,
            "bottom": null,
            "display": null,
            "flex": null,
            "flex_flow": null,
            "grid_area": null,
            "grid_auto_columns": null,
            "grid_auto_flow": null,
            "grid_auto_rows": null,
            "grid_column": null,
            "grid_gap": null,
            "grid_row": null,
            "grid_template_areas": null,
            "grid_template_columns": null,
            "grid_template_rows": null,
            "height": null,
            "justify_content": null,
            "justify_items": null,
            "left": null,
            "margin": null,
            "max_height": null,
            "max_width": null,
            "min_height": null,
            "min_width": null,
            "object_fit": null,
            "object_position": null,
            "order": null,
            "overflow": null,
            "overflow_x": null,
            "overflow_y": null,
            "padding": null,
            "right": null,
            "top": null,
            "visibility": null,
            "width": null
          }
        },
        "14cb47dd98784d91902d33bac56df43b": {
          "model_module": "@jupyter-widgets/base",
          "model_module_version": "1.2.0",
          "model_name": "LayoutModel",
          "state": {
            "_model_module": "@jupyter-widgets/base",
            "_model_module_version": "1.2.0",
            "_model_name": "LayoutModel",
            "_view_count": null,
            "_view_module": "@jupyter-widgets/base",
            "_view_module_version": "1.2.0",
            "_view_name": "LayoutView",
            "align_content": null,
            "align_items": null,
            "align_self": null,
            "border": null,
            "bottom": null,
            "display": null,
            "flex": null,
            "flex_flow": null,
            "grid_area": null,
            "grid_auto_columns": null,
            "grid_auto_flow": null,
            "grid_auto_rows": null,
            "grid_column": null,
            "grid_gap": null,
            "grid_row": null,
            "grid_template_areas": null,
            "grid_template_columns": null,
            "grid_template_rows": null,
            "height": null,
            "justify_content": null,
            "justify_items": null,
            "left": null,
            "margin": null,
            "max_height": null,
            "max_width": null,
            "min_height": null,
            "min_width": null,
            "object_fit": null,
            "object_position": null,
            "order": null,
            "overflow": null,
            "overflow_x": null,
            "overflow_y": null,
            "padding": null,
            "right": null,
            "top": null,
            "visibility": null,
            "width": null
          }
        },
        "15ce4a3a62ed441c858540e52ed7861e": {
          "model_module": "@jupyter-widgets/base",
          "model_module_version": "1.2.0",
          "model_name": "LayoutModel",
          "state": {
            "_model_module": "@jupyter-widgets/base",
            "_model_module_version": "1.2.0",
            "_model_name": "LayoutModel",
            "_view_count": null,
            "_view_module": "@jupyter-widgets/base",
            "_view_module_version": "1.2.0",
            "_view_name": "LayoutView",
            "align_content": null,
            "align_items": null,
            "align_self": null,
            "border": null,
            "bottom": null,
            "display": null,
            "flex": null,
            "flex_flow": null,
            "grid_area": null,
            "grid_auto_columns": null,
            "grid_auto_flow": null,
            "grid_auto_rows": null,
            "grid_column": null,
            "grid_gap": null,
            "grid_row": null,
            "grid_template_areas": null,
            "grid_template_columns": null,
            "grid_template_rows": null,
            "height": null,
            "justify_content": null,
            "justify_items": null,
            "left": null,
            "margin": null,
            "max_height": null,
            "max_width": null,
            "min_height": null,
            "min_width": null,
            "object_fit": null,
            "object_position": null,
            "order": null,
            "overflow": null,
            "overflow_x": null,
            "overflow_y": null,
            "padding": null,
            "right": null,
            "top": null,
            "visibility": null,
            "width": null
          }
        },
        "172ebb72fb954958b0a97b0d41dd2037": {
          "model_module": "@jupyter-widgets/controls",
          "model_module_version": "1.5.0",
          "model_name": "DescriptionStyleModel",
          "state": {
            "_model_module": "@jupyter-widgets/controls",
            "_model_module_version": "1.5.0",
            "_model_name": "DescriptionStyleModel",
            "_view_count": null,
            "_view_module": "@jupyter-widgets/base",
            "_view_module_version": "1.2.0",
            "_view_name": "StyleView",
            "description_width": ""
          }
        },
        "18e6cedbc5b74c7e91220da5c77090c1": {
          "model_module": "@jupyter-widgets/base",
          "model_module_version": "1.2.0",
          "model_name": "LayoutModel",
          "state": {
            "_model_module": "@jupyter-widgets/base",
            "_model_module_version": "1.2.0",
            "_model_name": "LayoutModel",
            "_view_count": null,
            "_view_module": "@jupyter-widgets/base",
            "_view_module_version": "1.2.0",
            "_view_name": "LayoutView",
            "align_content": null,
            "align_items": null,
            "align_self": null,
            "border": null,
            "bottom": null,
            "display": null,
            "flex": null,
            "flex_flow": null,
            "grid_area": null,
            "grid_auto_columns": null,
            "grid_auto_flow": null,
            "grid_auto_rows": null,
            "grid_column": null,
            "grid_gap": null,
            "grid_row": null,
            "grid_template_areas": null,
            "grid_template_columns": null,
            "grid_template_rows": null,
            "height": null,
            "justify_content": null,
            "justify_items": null,
            "left": null,
            "margin": null,
            "max_height": null,
            "max_width": null,
            "min_height": null,
            "min_width": null,
            "object_fit": null,
            "object_position": null,
            "order": null,
            "overflow": null,
            "overflow_x": null,
            "overflow_y": null,
            "padding": null,
            "right": null,
            "top": null,
            "visibility": null,
            "width": null
          }
        },
        "1a6796fec6054b62a92466ba88b3584c": {
          "model_module": "@jupyter-widgets/base",
          "model_module_version": "1.2.0",
          "model_name": "LayoutModel",
          "state": {
            "_model_module": "@jupyter-widgets/base",
            "_model_module_version": "1.2.0",
            "_model_name": "LayoutModel",
            "_view_count": null,
            "_view_module": "@jupyter-widgets/base",
            "_view_module_version": "1.2.0",
            "_view_name": "LayoutView",
            "align_content": null,
            "align_items": null,
            "align_self": null,
            "border": null,
            "bottom": null,
            "display": null,
            "flex": null,
            "flex_flow": null,
            "grid_area": null,
            "grid_auto_columns": null,
            "grid_auto_flow": null,
            "grid_auto_rows": null,
            "grid_column": null,
            "grid_gap": null,
            "grid_row": null,
            "grid_template_areas": null,
            "grid_template_columns": null,
            "grid_template_rows": null,
            "height": null,
            "justify_content": null,
            "justify_items": null,
            "left": null,
            "margin": null,
            "max_height": null,
            "max_width": null,
            "min_height": null,
            "min_width": null,
            "object_fit": null,
            "object_position": null,
            "order": null,
            "overflow": null,
            "overflow_x": null,
            "overflow_y": null,
            "padding": null,
            "right": null,
            "top": null,
            "visibility": null,
            "width": null
          }
        },
        "1b4d40a482ee4f75943e2dbc1a849b30": {
          "model_module": "@jupyter-widgets/controls",
          "model_module_version": "1.5.0",
          "model_name": "DescriptionStyleModel",
          "state": {
            "_model_module": "@jupyter-widgets/controls",
            "_model_module_version": "1.5.0",
            "_model_name": "DescriptionStyleModel",
            "_view_count": null,
            "_view_module": "@jupyter-widgets/base",
            "_view_module_version": "1.2.0",
            "_view_name": "StyleView",
            "description_width": ""
          }
        },
        "1b600d6ee5584250bba0294ff91725f6": {
          "model_module": "@jupyter-widgets/base",
          "model_module_version": "1.2.0",
          "model_name": "LayoutModel",
          "state": {
            "_model_module": "@jupyter-widgets/base",
            "_model_module_version": "1.2.0",
            "_model_name": "LayoutModel",
            "_view_count": null,
            "_view_module": "@jupyter-widgets/base",
            "_view_module_version": "1.2.0",
            "_view_name": "LayoutView",
            "align_content": null,
            "align_items": null,
            "align_self": null,
            "border": null,
            "bottom": null,
            "display": null,
            "flex": null,
            "flex_flow": null,
            "grid_area": null,
            "grid_auto_columns": null,
            "grid_auto_flow": null,
            "grid_auto_rows": null,
            "grid_column": null,
            "grid_gap": null,
            "grid_row": null,
            "grid_template_areas": null,
            "grid_template_columns": null,
            "grid_template_rows": null,
            "height": null,
            "justify_content": null,
            "justify_items": null,
            "left": null,
            "margin": null,
            "max_height": null,
            "max_width": null,
            "min_height": null,
            "min_width": null,
            "object_fit": null,
            "object_position": null,
            "order": null,
            "overflow": null,
            "overflow_x": null,
            "overflow_y": null,
            "padding": null,
            "right": null,
            "top": null,
            "visibility": null,
            "width": null
          }
        },
        "1e6e3b1aef4a44f68ccf9f3431822839": {
          "model_module": "@jupyter-widgets/base",
          "model_module_version": "1.2.0",
          "model_name": "LayoutModel",
          "state": {
            "_model_module": "@jupyter-widgets/base",
            "_model_module_version": "1.2.0",
            "_model_name": "LayoutModel",
            "_view_count": null,
            "_view_module": "@jupyter-widgets/base",
            "_view_module_version": "1.2.0",
            "_view_name": "LayoutView",
            "align_content": null,
            "align_items": null,
            "align_self": null,
            "border": null,
            "bottom": null,
            "display": null,
            "flex": null,
            "flex_flow": null,
            "grid_area": null,
            "grid_auto_columns": null,
            "grid_auto_flow": null,
            "grid_auto_rows": null,
            "grid_column": null,
            "grid_gap": null,
            "grid_row": null,
            "grid_template_areas": null,
            "grid_template_columns": null,
            "grid_template_rows": null,
            "height": null,
            "justify_content": null,
            "justify_items": null,
            "left": null,
            "margin": null,
            "max_height": null,
            "max_width": null,
            "min_height": null,
            "min_width": null,
            "object_fit": null,
            "object_position": null,
            "order": null,
            "overflow": null,
            "overflow_x": null,
            "overflow_y": null,
            "padding": null,
            "right": null,
            "top": null,
            "visibility": null,
            "width": null
          }
        },
        "1ea708caf06e4918873de7acf14ce188": {
          "model_module": "@jupyter-widgets/controls",
          "model_module_version": "1.5.0",
          "model_name": "ProgressStyleModel",
          "state": {
            "_model_module": "@jupyter-widgets/controls",
            "_model_module_version": "1.5.0",
            "_model_name": "ProgressStyleModel",
            "_view_count": null,
            "_view_module": "@jupyter-widgets/base",
            "_view_module_version": "1.2.0",
            "_view_name": "StyleView",
            "bar_color": null,
            "description_width": ""
          }
        },
        "1ebc0b7526874eda8a01544394f8e404": {
          "model_module": "@jupyter-widgets/controls",
          "model_module_version": "1.5.0",
          "model_name": "HBoxModel",
          "state": {
            "_dom_classes": [],
            "_model_module": "@jupyter-widgets/controls",
            "_model_module_version": "1.5.0",
            "_model_name": "HBoxModel",
            "_view_count": null,
            "_view_module": "@jupyter-widgets/controls",
            "_view_module_version": "1.5.0",
            "_view_name": "HBoxView",
            "box_style": "",
            "children": [
              "IPY_MODEL_41cdce7158d6492d81aa6ec54a089d44",
              "IPY_MODEL_79847b8abb6a409dbf4656b773be802a",
              "IPY_MODEL_5fccab8a353f4d06a81d00919efcc471"
            ],
            "layout": "IPY_MODEL_a3db563bb65049f49548f91d15927a1b"
          }
        },
        "20d8c697de7d43b79dec3fa2ad5447f4": {
          "model_module": "@jupyter-widgets/controls",
          "model_module_version": "1.5.0",
          "model_name": "FloatProgressModel",
          "state": {
            "_dom_classes": [],
            "_model_module": "@jupyter-widgets/controls",
            "_model_module_version": "1.5.0",
            "_model_name": "FloatProgressModel",
            "_view_count": null,
            "_view_module": "@jupyter-widgets/controls",
            "_view_module_version": "1.5.0",
            "_view_name": "ProgressView",
            "bar_style": "success",
            "description": "",
            "description_tooltip": null,
            "layout": "IPY_MODEL_d46e05c539a840c9b357146135400018",
            "max": 1042301,
            "min": 0,
            "orientation": "horizontal",
            "style": "IPY_MODEL_2551eff4d0a5439a9ddda7ec6a564da1",
            "value": 1042301
          }
        },
        "2551eff4d0a5439a9ddda7ec6a564da1": {
          "model_module": "@jupyter-widgets/controls",
          "model_module_version": "1.5.0",
          "model_name": "ProgressStyleModel",
          "state": {
            "_model_module": "@jupyter-widgets/controls",
            "_model_module_version": "1.5.0",
            "_model_name": "ProgressStyleModel",
            "_view_count": null,
            "_view_module": "@jupyter-widgets/base",
            "_view_module_version": "1.2.0",
            "_view_name": "StyleView",
            "bar_color": null,
            "description_width": ""
          }
        },
        "2e308d06562d4e6fbf98b58bc6854f6b": {
          "model_module": "@jupyter-widgets/controls",
          "model_module_version": "1.5.0",
          "model_name": "HTMLModel",
          "state": {
            "_dom_classes": [],
            "_model_module": "@jupyter-widgets/controls",
            "_model_module_version": "1.5.0",
            "_model_name": "HTMLModel",
            "_view_count": null,
            "_view_module": "@jupyter-widgets/controls",
            "_view_module_version": "1.5.0",
            "_view_name": "HTMLView",
            "description": "",
            "description_tooltip": null,
            "layout": "IPY_MODEL_18e6cedbc5b74c7e91220da5c77090c1",
            "placeholder": "​",
            "style": "IPY_MODEL_6c8c0a2afd6d44458cc22424e67f829e",
            "value": "merges.txt: 100%"
          }
        },
        "2f78f6ed59cb4000bdeed35e61fd823f": {
          "model_module": "@jupyter-widgets/controls",
          "model_module_version": "1.5.0",
          "model_name": "HTMLModel",
          "state": {
            "_dom_classes": [],
            "_model_module": "@jupyter-widgets/controls",
            "_model_module_version": "1.5.0",
            "_model_name": "HTMLModel",
            "_view_count": null,
            "_view_module": "@jupyter-widgets/controls",
            "_view_module_version": "1.5.0",
            "_view_name": "HTMLView",
            "description": "",
            "description_tooltip": null,
            "layout": "IPY_MODEL_1e6e3b1aef4a44f68ccf9f3431822839",
            "placeholder": "​",
            "style": "IPY_MODEL_daabdfbcc8e8438ca4bcbdd9e164ed41",
            "value": " 665/665 [00:00&lt;00:00, 40.5kB/s]"
          }
        },
        "2fc9fe98de4a41ab9b0501f1c0485425": {
          "model_module": "@jupyter-widgets/base",
          "model_module_version": "1.2.0",
          "model_name": "LayoutModel",
          "state": {
            "_model_module": "@jupyter-widgets/base",
            "_model_module_version": "1.2.0",
            "_model_name": "LayoutModel",
            "_view_count": null,
            "_view_module": "@jupyter-widgets/base",
            "_view_module_version": "1.2.0",
            "_view_name": "LayoutView",
            "align_content": null,
            "align_items": null,
            "align_self": null,
            "border": null,
            "bottom": null,
            "display": null,
            "flex": null,
            "flex_flow": null,
            "grid_area": null,
            "grid_auto_columns": null,
            "grid_auto_flow": null,
            "grid_auto_rows": null,
            "grid_column": null,
            "grid_gap": null,
            "grid_row": null,
            "grid_template_areas": null,
            "grid_template_columns": null,
            "grid_template_rows": null,
            "height": null,
            "justify_content": null,
            "justify_items": null,
            "left": null,
            "margin": null,
            "max_height": null,
            "max_width": null,
            "min_height": null,
            "min_width": null,
            "object_fit": null,
            "object_position": null,
            "order": null,
            "overflow": null,
            "overflow_x": null,
            "overflow_y": null,
            "padding": null,
            "right": null,
            "top": null,
            "visibility": null,
            "width": null
          }
        },
        "319c7aacd93440c681c2811b8bdf94dd": {
          "model_module": "@jupyter-widgets/controls",
          "model_module_version": "1.5.0",
          "model_name": "HTMLModel",
          "state": {
            "_dom_classes": [],
            "_model_module": "@jupyter-widgets/controls",
            "_model_module_version": "1.5.0",
            "_model_name": "HTMLModel",
            "_view_count": null,
            "_view_module": "@jupyter-widgets/controls",
            "_view_module_version": "1.5.0",
            "_view_name": "HTMLView",
            "description": "",
            "description_tooltip": null,
            "layout": "IPY_MODEL_41002be6ead14cf9b7824d37607b0369",
            "placeholder": "​",
            "style": "IPY_MODEL_dbdad4f1b74d45e586c350746813a9e5",
            "value": " 48.0/48.0 [00:00&lt;00:00, 2.37kB/s]"
          }
        },
        "3726806a691f4453a129ca435ce20368": {
          "model_module": "@jupyter-widgets/base",
          "model_module_version": "1.2.0",
          "model_name": "LayoutModel",
          "state": {
            "_model_module": "@jupyter-widgets/base",
            "_model_module_version": "1.2.0",
            "_model_name": "LayoutModel",
            "_view_count": null,
            "_view_module": "@jupyter-widgets/base",
            "_view_module_version": "1.2.0",
            "_view_name": "LayoutView",
            "align_content": null,
            "align_items": null,
            "align_self": null,
            "border": null,
            "bottom": null,
            "display": null,
            "flex": null,
            "flex_flow": null,
            "grid_area": null,
            "grid_auto_columns": null,
            "grid_auto_flow": null,
            "grid_auto_rows": null,
            "grid_column": null,
            "grid_gap": null,
            "grid_row": null,
            "grid_template_areas": null,
            "grid_template_columns": null,
            "grid_template_rows": null,
            "height": null,
            "justify_content": null,
            "justify_items": null,
            "left": null,
            "margin": null,
            "max_height": null,
            "max_width": null,
            "min_height": null,
            "min_width": null,
            "object_fit": null,
            "object_position": null,
            "order": null,
            "overflow": null,
            "overflow_x": null,
            "overflow_y": null,
            "padding": null,
            "right": null,
            "top": null,
            "visibility": null,
            "width": null
          }
        },
        "38d6ff2c313e4dcdaf60eb444908597a": {
          "model_module": "@jupyter-widgets/base",
          "model_module_version": "1.2.0",
          "model_name": "LayoutModel",
          "state": {
            "_model_module": "@jupyter-widgets/base",
            "_model_module_version": "1.2.0",
            "_model_name": "LayoutModel",
            "_view_count": null,
            "_view_module": "@jupyter-widgets/base",
            "_view_module_version": "1.2.0",
            "_view_name": "LayoutView",
            "align_content": null,
            "align_items": null,
            "align_self": null,
            "border": null,
            "bottom": null,
            "display": null,
            "flex": null,
            "flex_flow": null,
            "grid_area": null,
            "grid_auto_columns": null,
            "grid_auto_flow": null,
            "grid_auto_rows": null,
            "grid_column": null,
            "grid_gap": null,
            "grid_row": null,
            "grid_template_areas": null,
            "grid_template_columns": null,
            "grid_template_rows": null,
            "height": null,
            "justify_content": null,
            "justify_items": null,
            "left": null,
            "margin": null,
            "max_height": null,
            "max_width": null,
            "min_height": null,
            "min_width": null,
            "object_fit": null,
            "object_position": null,
            "order": null,
            "overflow": null,
            "overflow_x": null,
            "overflow_y": null,
            "padding": null,
            "right": null,
            "top": null,
            "visibility": null,
            "width": null
          }
        },
        "39732814a5104ff2915e9cd2575ab58e": {
          "model_module": "@jupyter-widgets/controls",
          "model_module_version": "1.5.0",
          "model_name": "DescriptionStyleModel",
          "state": {
            "_model_module": "@jupyter-widgets/controls",
            "_model_module_version": "1.5.0",
            "_model_name": "DescriptionStyleModel",
            "_view_count": null,
            "_view_module": "@jupyter-widgets/base",
            "_view_module_version": "1.2.0",
            "_view_name": "StyleView",
            "description_width": ""
          }
        },
        "41002be6ead14cf9b7824d37607b0369": {
          "model_module": "@jupyter-widgets/base",
          "model_module_version": "1.2.0",
          "model_name": "LayoutModel",
          "state": {
            "_model_module": "@jupyter-widgets/base",
            "_model_module_version": "1.2.0",
            "_model_name": "LayoutModel",
            "_view_count": null,
            "_view_module": "@jupyter-widgets/base",
            "_view_module_version": "1.2.0",
            "_view_name": "LayoutView",
            "align_content": null,
            "align_items": null,
            "align_self": null,
            "border": null,
            "bottom": null,
            "display": null,
            "flex": null,
            "flex_flow": null,
            "grid_area": null,
            "grid_auto_columns": null,
            "grid_auto_flow": null,
            "grid_auto_rows": null,
            "grid_column": null,
            "grid_gap": null,
            "grid_row": null,
            "grid_template_areas": null,
            "grid_template_columns": null,
            "grid_template_rows": null,
            "height": null,
            "justify_content": null,
            "justify_items": null,
            "left": null,
            "margin": null,
            "max_height": null,
            "max_width": null,
            "min_height": null,
            "min_width": null,
            "object_fit": null,
            "object_position": null,
            "order": null,
            "overflow": null,
            "overflow_x": null,
            "overflow_y": null,
            "padding": null,
            "right": null,
            "top": null,
            "visibility": null,
            "width": null
          }
        },
        "41cdce7158d6492d81aa6ec54a089d44": {
          "model_module": "@jupyter-widgets/controls",
          "model_module_version": "1.5.0",
          "model_name": "HTMLModel",
          "state": {
            "_dom_classes": [],
            "_model_module": "@jupyter-widgets/controls",
            "_model_module_version": "1.5.0",
            "_model_name": "HTMLModel",
            "_view_count": null,
            "_view_module": "@jupyter-widgets/controls",
            "_view_module_version": "1.5.0",
            "_view_name": "HTMLView",
            "description": "",
            "description_tooltip": null,
            "layout": "IPY_MODEL_8dcb979b06eb42a59dc5da01cd30beca",
            "placeholder": "​",
            "style": "IPY_MODEL_39732814a5104ff2915e9cd2575ab58e",
            "value": "model.safetensors: 100%"
          }
        },
        "42f406b212784f67912ce43edcd451eb": {
          "model_module": "@jupyter-widgets/controls",
          "model_module_version": "1.5.0",
          "model_name": "HTMLModel",
          "state": {
            "_dom_classes": [],
            "_model_module": "@jupyter-widgets/controls",
            "_model_module_version": "1.5.0",
            "_model_name": "HTMLModel",
            "_view_count": null,
            "_view_module": "@jupyter-widgets/controls",
            "_view_module_version": "1.5.0",
            "_view_name": "HTMLView",
            "description": "",
            "description_tooltip": null,
            "layout": "IPY_MODEL_81bf0d39200b472f8611e66de324e6f8",
            "placeholder": "​",
            "style": "IPY_MODEL_8e689b82b3294149bd4bc3cd1f06f1ea",
            "value": " 124/124 [00:00&lt;00:00, 9.92kB/s]"
          }
        },
        "50ba0575415746869110099b9d905133": {
          "model_module": "@jupyter-widgets/controls",
          "model_module_version": "1.5.0",
          "model_name": "HTMLModel",
          "state": {
            "_dom_classes": [],
            "_model_module": "@jupyter-widgets/controls",
            "_model_module_version": "1.5.0",
            "_model_name": "HTMLModel",
            "_view_count": null,
            "_view_module": "@jupyter-widgets/controls",
            "_view_module_version": "1.5.0",
            "_view_name": "HTMLView",
            "description": "",
            "description_tooltip": null,
            "layout": "IPY_MODEL_e54c45dd4403481989dbcd90dfb79c9d",
            "placeholder": "​",
            "style": "IPY_MODEL_7f50ff6e363b4eefa3f77d53a6caab8d",
            "value": "tokenizer_config.json: 100%"
          }
        },
        "532e1d0a1e3e4d93a635e76669a2254c": {
          "model_module": "@jupyter-widgets/controls",
          "model_module_version": "1.5.0",
          "model_name": "HBoxModel",
          "state": {
            "_dom_classes": [],
            "_model_module": "@jupyter-widgets/controls",
            "_model_module_version": "1.5.0",
            "_model_name": "HBoxModel",
            "_view_count": null,
            "_view_module": "@jupyter-widgets/controls",
            "_view_module_version": "1.5.0",
            "_view_name": "HBoxView",
            "box_style": "",
            "children": [
              "IPY_MODEL_9f5f5277848a4ebb9d71f4755f50674f",
              "IPY_MODEL_c8177ab732b84930965018990c066e60",
              "IPY_MODEL_ef0184402efd415c9640b73108372b79"
            ],
            "layout": "IPY_MODEL_86f9221bcc844faba9de15403b1f60a7"
          }
        },
        "53f4871e45a9455aab8ac4f3069cd7d7": {
          "model_module": "@jupyter-widgets/controls",
          "model_module_version": "1.5.0",
          "model_name": "FloatProgressModel",
          "state": {
            "_dom_classes": [],
            "_model_module": "@jupyter-widgets/controls",
            "_model_module_version": "1.5.0",
            "_model_name": "FloatProgressModel",
            "_view_count": null,
            "_view_module": "@jupyter-widgets/controls",
            "_view_module_version": "1.5.0",
            "_view_name": "ProgressView",
            "bar_style": "success",
            "description": "",
            "description_tooltip": null,
            "layout": "IPY_MODEL_5507548a12884ae0ac159f347591d3ec",
            "max": 124,
            "min": 0,
            "orientation": "horizontal",
            "style": "IPY_MODEL_11ae7c8d1f5d4743a724c28e2ba6b5c1",
            "value": 124
          }
        },
        "5507548a12884ae0ac159f347591d3ec": {
          "model_module": "@jupyter-widgets/base",
          "model_module_version": "1.2.0",
          "model_name": "LayoutModel",
          "state": {
            "_model_module": "@jupyter-widgets/base",
            "_model_module_version": "1.2.0",
            "_model_name": "LayoutModel",
            "_view_count": null,
            "_view_module": "@jupyter-widgets/base",
            "_view_module_version": "1.2.0",
            "_view_name": "LayoutView",
            "align_content": null,
            "align_items": null,
            "align_self": null,
            "border": null,
            "bottom": null,
            "display": null,
            "flex": null,
            "flex_flow": null,
            "grid_area": null,
            "grid_auto_columns": null,
            "grid_auto_flow": null,
            "grid_auto_rows": null,
            "grid_column": null,
            "grid_gap": null,
            "grid_row": null,
            "grid_template_areas": null,
            "grid_template_columns": null,
            "grid_template_rows": null,
            "height": null,
            "justify_content": null,
            "justify_items": null,
            "left": null,
            "margin": null,
            "max_height": null,
            "max_width": null,
            "min_height": null,
            "min_width": null,
            "object_fit": null,
            "object_position": null,
            "order": null,
            "overflow": null,
            "overflow_x": null,
            "overflow_y": null,
            "padding": null,
            "right": null,
            "top": null,
            "visibility": null,
            "width": null
          }
        },
        "56510af6e8144d32b70cbb292e670a0c": {
          "model_module": "@jupyter-widgets/controls",
          "model_module_version": "1.5.0",
          "model_name": "DescriptionStyleModel",
          "state": {
            "_model_module": "@jupyter-widgets/controls",
            "_model_module_version": "1.5.0",
            "_model_name": "DescriptionStyleModel",
            "_view_count": null,
            "_view_module": "@jupyter-widgets/base",
            "_view_module_version": "1.2.0",
            "_view_name": "StyleView",
            "description_width": ""
          }
        },
        "56756195983845ab94e2b707e2e3b63d": {
          "model_module": "@jupyter-widgets/controls",
          "model_module_version": "1.5.0",
          "model_name": "HBoxModel",
          "state": {
            "_dom_classes": [],
            "_model_module": "@jupyter-widgets/controls",
            "_model_module_version": "1.5.0",
            "_model_name": "HBoxModel",
            "_view_count": null,
            "_view_module": "@jupyter-widgets/controls",
            "_view_module_version": "1.5.0",
            "_view_name": "HBoxView",
            "box_style": "",
            "children": [
              "IPY_MODEL_50ba0575415746869110099b9d905133",
              "IPY_MODEL_bdbba221a8e74f2db8da73ce1ed37df4",
              "IPY_MODEL_319c7aacd93440c681c2811b8bdf94dd"
            ],
            "layout": "IPY_MODEL_0ea86b8985e24dfb9a7c365bed5f6da9"
          }
        },
        "5dae399436a747d2a09ed26290124dfa": {
          "model_module": "@jupyter-widgets/controls",
          "model_module_version": "1.5.0",
          "model_name": "HTMLModel",
          "state": {
            "_dom_classes": [],
            "_model_module": "@jupyter-widgets/controls",
            "_model_module_version": "1.5.0",
            "_model_name": "HTMLModel",
            "_view_count": null,
            "_view_module": "@jupyter-widgets/controls",
            "_view_module_version": "1.5.0",
            "_view_name": "HTMLView",
            "description": "",
            "description_tooltip": null,
            "layout": "IPY_MODEL_ee3736955d544e84a45acac0beec3d35",
            "placeholder": "​",
            "style": "IPY_MODEL_093d8aa5428a42e0aaa823cdfc17aa83",
            "value": "config.json: 100%"
          }
        },
        "5e5daa428e19455f8f011857a1169c60": {
          "model_module": "@jupyter-widgets/base",
          "model_module_version": "1.2.0",
          "model_name": "LayoutModel",
          "state": {
            "_model_module": "@jupyter-widgets/base",
            "_model_module_version": "1.2.0",
            "_model_name": "LayoutModel",
            "_view_count": null,
            "_view_module": "@jupyter-widgets/base",
            "_view_module_version": "1.2.0",
            "_view_name": "LayoutView",
            "align_content": null,
            "align_items": null,
            "align_self": null,
            "border": null,
            "bottom": null,
            "display": null,
            "flex": null,
            "flex_flow": null,
            "grid_area": null,
            "grid_auto_columns": null,
            "grid_auto_flow": null,
            "grid_auto_rows": null,
            "grid_column": null,
            "grid_gap": null,
            "grid_row": null,
            "grid_template_areas": null,
            "grid_template_columns": null,
            "grid_template_rows": null,
            "height": null,
            "justify_content": null,
            "justify_items": null,
            "left": null,
            "margin": null,
            "max_height": null,
            "max_width": null,
            "min_height": null,
            "min_width": null,
            "object_fit": null,
            "object_position": null,
            "order": null,
            "overflow": null,
            "overflow_x": null,
            "overflow_y": null,
            "padding": null,
            "right": null,
            "top": null,
            "visibility": null,
            "width": null
          }
        },
        "5fccab8a353f4d06a81d00919efcc471": {
          "model_module": "@jupyter-widgets/controls",
          "model_module_version": "1.5.0",
          "model_name": "HTMLModel",
          "state": {
            "_dom_classes": [],
            "_model_module": "@jupyter-widgets/controls",
            "_model_module_version": "1.5.0",
            "_model_name": "HTMLModel",
            "_view_count": null,
            "_view_module": "@jupyter-widgets/controls",
            "_view_module_version": "1.5.0",
            "_view_name": "HTMLView",
            "description": "",
            "description_tooltip": null,
            "layout": "IPY_MODEL_a07ea061239e4f299f26f5c710981353",
            "placeholder": "​",
            "style": "IPY_MODEL_c003f65c801c4cb4aa9b0df58d1e01da",
            "value": " 268M/268M [00:01&lt;00:00, 198MB/s]"
          }
        },
        "638b82cfc6ad451caa589a7a25926fff": {
          "model_module": "@jupyter-widgets/controls",
          "model_module_version": "1.5.0",
          "model_name": "ProgressStyleModel",
          "state": {
            "_model_module": "@jupyter-widgets/controls",
            "_model_module_version": "1.5.0",
            "_model_name": "ProgressStyleModel",
            "_view_count": null,
            "_view_module": "@jupyter-widgets/base",
            "_view_module_version": "1.2.0",
            "_view_name": "StyleView",
            "bar_color": null,
            "description_width": ""
          }
        },
        "642f907cbcb84ac39e1871e624c0dcc9": {
          "model_module": "@jupyter-widgets/controls",
          "model_module_version": "1.5.0",
          "model_name": "ProgressStyleModel",
          "state": {
            "_model_module": "@jupyter-widgets/controls",
            "_model_module_version": "1.5.0",
            "_model_name": "ProgressStyleModel",
            "_view_count": null,
            "_view_module": "@jupyter-widgets/base",
            "_view_module_version": "1.2.0",
            "_view_name": "StyleView",
            "bar_color": null,
            "description_width": ""
          }
        },
        "658fac1e05b44ca5a535dc8e501adda1": {
          "model_module": "@jupyter-widgets/controls",
          "model_module_version": "1.5.0",
          "model_name": "ProgressStyleModel",
          "state": {
            "_model_module": "@jupyter-widgets/controls",
            "_model_module_version": "1.5.0",
            "_model_name": "ProgressStyleModel",
            "_view_count": null,
            "_view_module": "@jupyter-widgets/base",
            "_view_module_version": "1.2.0",
            "_view_name": "StyleView",
            "bar_color": null,
            "description_width": ""
          }
        },
        "67a609a4f37b429995e2cb04992042fc": {
          "model_module": "@jupyter-widgets/controls",
          "model_module_version": "1.5.0",
          "model_name": "FloatProgressModel",
          "state": {
            "_dom_classes": [],
            "_model_module": "@jupyter-widgets/controls",
            "_model_module_version": "1.5.0",
            "_model_name": "FloatProgressModel",
            "_view_count": null,
            "_view_module": "@jupyter-widgets/controls",
            "_view_module_version": "1.5.0",
            "_view_name": "ProgressView",
            "bar_style": "success",
            "description": "",
            "description_tooltip": null,
            "layout": "IPY_MODEL_e8d1c5d93f3149338478bcce6accc69c",
            "max": 548105171,
            "min": 0,
            "orientation": "horizontal",
            "style": "IPY_MODEL_91510357ae864f409f30a544a13702d5",
            "value": 548105171
          }
        },
        "67f39af129b74a8c9d60b82464733d71": {
          "model_module": "@jupyter-widgets/controls",
          "model_module_version": "1.5.0",
          "model_name": "DescriptionStyleModel",
          "state": {
            "_model_module": "@jupyter-widgets/controls",
            "_model_module_version": "1.5.0",
            "_model_name": "DescriptionStyleModel",
            "_view_count": null,
            "_view_module": "@jupyter-widgets/base",
            "_view_module_version": "1.2.0",
            "_view_name": "StyleView",
            "description_width": ""
          }
        },
        "6c235689dd9d49f190d07be16727ab05": {
          "model_module": "@jupyter-widgets/controls",
          "model_module_version": "1.5.0",
          "model_name": "FloatProgressModel",
          "state": {
            "_dom_classes": [],
            "_model_module": "@jupyter-widgets/controls",
            "_model_module_version": "1.5.0",
            "_model_name": "FloatProgressModel",
            "_view_count": null,
            "_view_module": "@jupyter-widgets/controls",
            "_view_module_version": "1.5.0",
            "_view_name": "ProgressView",
            "bar_style": "success",
            "description": "",
            "description_tooltip": null,
            "layout": "IPY_MODEL_ca6e457a9cee4ab7b90fb09819906c1b",
            "max": 231508,
            "min": 0,
            "orientation": "horizontal",
            "style": "IPY_MODEL_777e521306f84c4daebfcb613d92fa93",
            "value": 231508
          }
        },
        "6c8c0a2afd6d44458cc22424e67f829e": {
          "model_module": "@jupyter-widgets/controls",
          "model_module_version": "1.5.0",
          "model_name": "DescriptionStyleModel",
          "state": {
            "_model_module": "@jupyter-widgets/controls",
            "_model_module_version": "1.5.0",
            "_model_name": "DescriptionStyleModel",
            "_view_count": null,
            "_view_module": "@jupyter-widgets/base",
            "_view_module_version": "1.2.0",
            "_view_name": "StyleView",
            "description_width": ""
          }
        },
        "6e4d92297aa149b8a2f1d9be4bb06098": {
          "model_module": "@jupyter-widgets/base",
          "model_module_version": "1.2.0",
          "model_name": "LayoutModel",
          "state": {
            "_model_module": "@jupyter-widgets/base",
            "_model_module_version": "1.2.0",
            "_model_name": "LayoutModel",
            "_view_count": null,
            "_view_module": "@jupyter-widgets/base",
            "_view_module_version": "1.2.0",
            "_view_name": "LayoutView",
            "align_content": null,
            "align_items": null,
            "align_self": null,
            "border": null,
            "bottom": null,
            "display": null,
            "flex": null,
            "flex_flow": null,
            "grid_area": null,
            "grid_auto_columns": null,
            "grid_auto_flow": null,
            "grid_auto_rows": null,
            "grid_column": null,
            "grid_gap": null,
            "grid_row": null,
            "grid_template_areas": null,
            "grid_template_columns": null,
            "grid_template_rows": null,
            "height": null,
            "justify_content": null,
            "justify_items": null,
            "left": null,
            "margin": null,
            "max_height": null,
            "max_width": null,
            "min_height": null,
            "min_width": null,
            "object_fit": null,
            "object_position": null,
            "order": null,
            "overflow": null,
            "overflow_x": null,
            "overflow_y": null,
            "padding": null,
            "right": null,
            "top": null,
            "visibility": null,
            "width": null
          }
        },
        "71f4fc8088cd4b6c809ea2b0dbdd4021": {
          "model_module": "@jupyter-widgets/controls",
          "model_module_version": "1.5.0",
          "model_name": "HTMLModel",
          "state": {
            "_dom_classes": [],
            "_model_module": "@jupyter-widgets/controls",
            "_model_module_version": "1.5.0",
            "_model_name": "HTMLModel",
            "_view_count": null,
            "_view_module": "@jupyter-widgets/controls",
            "_view_module_version": "1.5.0",
            "_view_name": "HTMLView",
            "description": "",
            "description_tooltip": null,
            "layout": "IPY_MODEL_fcfb36cc377a402899beb89d879d5b25",
            "placeholder": "​",
            "style": "IPY_MODEL_67f39af129b74a8c9d60b82464733d71",
            "value": " 456k/456k [00:00&lt;00:00, 3.31MB/s]"
          }
        },
        "777e521306f84c4daebfcb613d92fa93": {
          "model_module": "@jupyter-widgets/controls",
          "model_module_version": "1.5.0",
          "model_name": "ProgressStyleModel",
          "state": {
            "_model_module": "@jupyter-widgets/controls",
            "_model_module_version": "1.5.0",
            "_model_name": "ProgressStyleModel",
            "_view_count": null,
            "_view_module": "@jupyter-widgets/base",
            "_view_module_version": "1.2.0",
            "_view_name": "StyleView",
            "bar_color": null,
            "description_width": ""
          }
        },
        "79847b8abb6a409dbf4656b773be802a": {
          "model_module": "@jupyter-widgets/controls",
          "model_module_version": "1.5.0",
          "model_name": "FloatProgressModel",
          "state": {
            "_dom_classes": [],
            "_model_module": "@jupyter-widgets/controls",
            "_model_module_version": "1.5.0",
            "_model_name": "FloatProgressModel",
            "_view_count": null,
            "_view_module": "@jupyter-widgets/controls",
            "_view_module_version": "1.5.0",
            "_view_name": "ProgressView",
            "bar_style": "success",
            "description": "",
            "description_tooltip": null,
            "layout": "IPY_MODEL_83e14bf4f9624256bc5bf3f565babec7",
            "max": 267832558,
            "min": 0,
            "orientation": "horizontal",
            "style": "IPY_MODEL_638b82cfc6ad451caa589a7a25926fff",
            "value": 267832558
          }
        },
        "7a9ff8bbef8b46f09fb982ca906536a0": {
          "model_module": "@jupyter-widgets/base",
          "model_module_version": "1.2.0",
          "model_name": "LayoutModel",
          "state": {
            "_model_module": "@jupyter-widgets/base",
            "_model_module_version": "1.2.0",
            "_model_name": "LayoutModel",
            "_view_count": null,
            "_view_module": "@jupyter-widgets/base",
            "_view_module_version": "1.2.0",
            "_view_name": "LayoutView",
            "align_content": null,
            "align_items": null,
            "align_self": null,
            "border": null,
            "bottom": null,
            "display": null,
            "flex": null,
            "flex_flow": null,
            "grid_area": null,
            "grid_auto_columns": null,
            "grid_auto_flow": null,
            "grid_auto_rows": null,
            "grid_column": null,
            "grid_gap": null,
            "grid_row": null,
            "grid_template_areas": null,
            "grid_template_columns": null,
            "grid_template_rows": null,
            "height": null,
            "justify_content": null,
            "justify_items": null,
            "left": null,
            "margin": null,
            "max_height": null,
            "max_width": null,
            "min_height": null,
            "min_width": null,
            "object_fit": null,
            "object_position": null,
            "order": null,
            "overflow": null,
            "overflow_x": null,
            "overflow_y": null,
            "padding": null,
            "right": null,
            "top": null,
            "visibility": null,
            "width": null
          }
        },
        "7ac316803b1344728ab938e8c4808b19": {
          "model_module": "@jupyter-widgets/controls",
          "model_module_version": "1.5.0",
          "model_name": "DescriptionStyleModel",
          "state": {
            "_model_module": "@jupyter-widgets/controls",
            "_model_module_version": "1.5.0",
            "_model_name": "DescriptionStyleModel",
            "_view_count": null,
            "_view_module": "@jupyter-widgets/base",
            "_view_module_version": "1.2.0",
            "_view_name": "StyleView",
            "description_width": ""
          }
        },
        "7b3aec79a8574b32a4c543f5182dac17": {
          "model_module": "@jupyter-widgets/controls",
          "model_module_version": "1.5.0",
          "model_name": "HBoxModel",
          "state": {
            "_dom_classes": [],
            "_model_module": "@jupyter-widgets/controls",
            "_model_module_version": "1.5.0",
            "_model_name": "HBoxModel",
            "_view_count": null,
            "_view_module": "@jupyter-widgets/controls",
            "_view_module_version": "1.5.0",
            "_view_name": "HBoxView",
            "box_style": "",
            "children": [
              "IPY_MODEL_8e1130713bae4cd3874e31b969c7396d",
              "IPY_MODEL_0c6a850d7d614cc5b423cde0a46319ab",
              "IPY_MODEL_8331121769aa456aa01155c45a12efd8"
            ],
            "layout": "IPY_MODEL_13928e859fba4ae6b45b67b8afdba3a1"
          }
        },
        "7f50ff6e363b4eefa3f77d53a6caab8d": {
          "model_module": "@jupyter-widgets/controls",
          "model_module_version": "1.5.0",
          "model_name": "DescriptionStyleModel",
          "state": {
            "_model_module": "@jupyter-widgets/controls",
            "_model_module_version": "1.5.0",
            "_model_name": "DescriptionStyleModel",
            "_view_count": null,
            "_view_module": "@jupyter-widgets/base",
            "_view_module_version": "1.2.0",
            "_view_name": "StyleView",
            "description_width": ""
          }
        },
        "81bf0d39200b472f8611e66de324e6f8": {
          "model_module": "@jupyter-widgets/base",
          "model_module_version": "1.2.0",
          "model_name": "LayoutModel",
          "state": {
            "_model_module": "@jupyter-widgets/base",
            "_model_module_version": "1.2.0",
            "_model_name": "LayoutModel",
            "_view_count": null,
            "_view_module": "@jupyter-widgets/base",
            "_view_module_version": "1.2.0",
            "_view_name": "LayoutView",
            "align_content": null,
            "align_items": null,
            "align_self": null,
            "border": null,
            "bottom": null,
            "display": null,
            "flex": null,
            "flex_flow": null,
            "grid_area": null,
            "grid_auto_columns": null,
            "grid_auto_flow": null,
            "grid_auto_rows": null,
            "grid_column": null,
            "grid_gap": null,
            "grid_row": null,
            "grid_template_areas": null,
            "grid_template_columns": null,
            "grid_template_rows": null,
            "height": null,
            "justify_content": null,
            "justify_items": null,
            "left": null,
            "margin": null,
            "max_height": null,
            "max_width": null,
            "min_height": null,
            "min_width": null,
            "object_fit": null,
            "object_position": null,
            "order": null,
            "overflow": null,
            "overflow_x": null,
            "overflow_y": null,
            "padding": null,
            "right": null,
            "top": null,
            "visibility": null,
            "width": null
          }
        },
        "8236bb087a864a868d7f6f21f36c94a3": {
          "model_module": "@jupyter-widgets/controls",
          "model_module_version": "1.5.0",
          "model_name": "HTMLModel",
          "state": {
            "_dom_classes": [],
            "_model_module": "@jupyter-widgets/controls",
            "_model_module_version": "1.5.0",
            "_model_name": "HTMLModel",
            "_view_count": null,
            "_view_module": "@jupyter-widgets/controls",
            "_view_module_version": "1.5.0",
            "_view_name": "HTMLView",
            "description": "",
            "description_tooltip": null,
            "layout": "IPY_MODEL_8f98ce79fac74c00822e48bddd103899",
            "placeholder": "​",
            "style": "IPY_MODEL_b880afa631014eeaa6748411ffc52c58",
            "value": "vocab.json: 100%"
          }
        },
        "8331121769aa456aa01155c45a12efd8": {
          "model_module": "@jupyter-widgets/controls",
          "model_module_version": "1.5.0",
          "model_name": "HTMLModel",
          "state": {
            "_dom_classes": [],
            "_model_module": "@jupyter-widgets/controls",
            "_model_module_version": "1.5.0",
            "_model_name": "HTMLModel",
            "_view_count": null,
            "_view_module": "@jupyter-widgets/controls",
            "_view_module_version": "1.5.0",
            "_view_name": "HTMLView",
            "description": "",
            "description_tooltip": null,
            "layout": "IPY_MODEL_1a6796fec6054b62a92466ba88b3584c",
            "placeholder": "​",
            "style": "IPY_MODEL_1b4d40a482ee4f75943e2dbc1a849b30",
            "value": " 1.36M/1.36M [00:00&lt;00:00, 25.9MB/s]"
          }
        },
        "83e14bf4f9624256bc5bf3f565babec7": {
          "model_module": "@jupyter-widgets/base",
          "model_module_version": "1.2.0",
          "model_name": "LayoutModel",
          "state": {
            "_model_module": "@jupyter-widgets/base",
            "_model_module_version": "1.2.0",
            "_model_name": "LayoutModel",
            "_view_count": null,
            "_view_module": "@jupyter-widgets/base",
            "_view_module_version": "1.2.0",
            "_view_name": "LayoutView",
            "align_content": null,
            "align_items": null,
            "align_self": null,
            "border": null,
            "bottom": null,
            "display": null,
            "flex": null,
            "flex_flow": null,
            "grid_area": null,
            "grid_auto_columns": null,
            "grid_auto_flow": null,
            "grid_auto_rows": null,
            "grid_column": null,
            "grid_gap": null,
            "grid_row": null,
            "grid_template_areas": null,
            "grid_template_columns": null,
            "grid_template_rows": null,
            "height": null,
            "justify_content": null,
            "justify_items": null,
            "left": null,
            "margin": null,
            "max_height": null,
            "max_width": null,
            "min_height": null,
            "min_width": null,
            "object_fit": null,
            "object_position": null,
            "order": null,
            "overflow": null,
            "overflow_x": null,
            "overflow_y": null,
            "padding": null,
            "right": null,
            "top": null,
            "visibility": null,
            "width": null
          }
        },
        "86f9221bcc844faba9de15403b1f60a7": {
          "model_module": "@jupyter-widgets/base",
          "model_module_version": "1.2.0",
          "model_name": "LayoutModel",
          "state": {
            "_model_module": "@jupyter-widgets/base",
            "_model_module_version": "1.2.0",
            "_model_name": "LayoutModel",
            "_view_count": null,
            "_view_module": "@jupyter-widgets/base",
            "_view_module_version": "1.2.0",
            "_view_name": "LayoutView",
            "align_content": null,
            "align_items": null,
            "align_self": null,
            "border": null,
            "bottom": null,
            "display": null,
            "flex": null,
            "flex_flow": null,
            "grid_area": null,
            "grid_auto_columns": null,
            "grid_auto_flow": null,
            "grid_auto_rows": null,
            "grid_column": null,
            "grid_gap": null,
            "grid_row": null,
            "grid_template_areas": null,
            "grid_template_columns": null,
            "grid_template_rows": null,
            "height": null,
            "justify_content": null,
            "justify_items": null,
            "left": null,
            "margin": null,
            "max_height": null,
            "max_width": null,
            "min_height": null,
            "min_width": null,
            "object_fit": null,
            "object_position": null,
            "order": null,
            "overflow": null,
            "overflow_x": null,
            "overflow_y": null,
            "padding": null,
            "right": null,
            "top": null,
            "visibility": null,
            "width": null
          }
        },
        "88f57c94b5f049fa81c519093c64de3c": {
          "model_module": "@jupyter-widgets/controls",
          "model_module_version": "1.5.0",
          "model_name": "DescriptionStyleModel",
          "state": {
            "_model_module": "@jupyter-widgets/controls",
            "_model_module_version": "1.5.0",
            "_model_name": "DescriptionStyleModel",
            "_view_count": null,
            "_view_module": "@jupyter-widgets/base",
            "_view_module_version": "1.2.0",
            "_view_name": "StyleView",
            "description_width": ""
          }
        },
        "8dcb979b06eb42a59dc5da01cd30beca": {
          "model_module": "@jupyter-widgets/base",
          "model_module_version": "1.2.0",
          "model_name": "LayoutModel",
          "state": {
            "_model_module": "@jupyter-widgets/base",
            "_model_module_version": "1.2.0",
            "_model_name": "LayoutModel",
            "_view_count": null,
            "_view_module": "@jupyter-widgets/base",
            "_view_module_version": "1.2.0",
            "_view_name": "LayoutView",
            "align_content": null,
            "align_items": null,
            "align_self": null,
            "border": null,
            "bottom": null,
            "display": null,
            "flex": null,
            "flex_flow": null,
            "grid_area": null,
            "grid_auto_columns": null,
            "grid_auto_flow": null,
            "grid_auto_rows": null,
            "grid_column": null,
            "grid_gap": null,
            "grid_row": null,
            "grid_template_areas": null,
            "grid_template_columns": null,
            "grid_template_rows": null,
            "height": null,
            "justify_content": null,
            "justify_items": null,
            "left": null,
            "margin": null,
            "max_height": null,
            "max_width": null,
            "min_height": null,
            "min_width": null,
            "object_fit": null,
            "object_position": null,
            "order": null,
            "overflow": null,
            "overflow_x": null,
            "overflow_y": null,
            "padding": null,
            "right": null,
            "top": null,
            "visibility": null,
            "width": null
          }
        },
        "8e1130713bae4cd3874e31b969c7396d": {
          "model_module": "@jupyter-widgets/controls",
          "model_module_version": "1.5.0",
          "model_name": "HTMLModel",
          "state": {
            "_dom_classes": [],
            "_model_module": "@jupyter-widgets/controls",
            "_model_module_version": "1.5.0",
            "_model_name": "HTMLModel",
            "_view_count": null,
            "_view_module": "@jupyter-widgets/controls",
            "_view_module_version": "1.5.0",
            "_view_name": "HTMLView",
            "description": "",
            "description_tooltip": null,
            "layout": "IPY_MODEL_7a9ff8bbef8b46f09fb982ca906536a0",
            "placeholder": "​",
            "style": "IPY_MODEL_56510af6e8144d32b70cbb292e670a0c",
            "value": "tokenizer.json: 100%"
          }
        },
        "8e689b82b3294149bd4bc3cd1f06f1ea": {
          "model_module": "@jupyter-widgets/controls",
          "model_module_version": "1.5.0",
          "model_name": "DescriptionStyleModel",
          "state": {
            "_model_module": "@jupyter-widgets/controls",
            "_model_module_version": "1.5.0",
            "_model_name": "DescriptionStyleModel",
            "_view_count": null,
            "_view_module": "@jupyter-widgets/base",
            "_view_module_version": "1.2.0",
            "_view_name": "StyleView",
            "description_width": ""
          }
        },
        "8f98ce79fac74c00822e48bddd103899": {
          "model_module": "@jupyter-widgets/base",
          "model_module_version": "1.2.0",
          "model_name": "LayoutModel",
          "state": {
            "_model_module": "@jupyter-widgets/base",
            "_model_module_version": "1.2.0",
            "_model_name": "LayoutModel",
            "_view_count": null,
            "_view_module": "@jupyter-widgets/base",
            "_view_module_version": "1.2.0",
            "_view_name": "LayoutView",
            "align_content": null,
            "align_items": null,
            "align_self": null,
            "border": null,
            "bottom": null,
            "display": null,
            "flex": null,
            "flex_flow": null,
            "grid_area": null,
            "grid_auto_columns": null,
            "grid_auto_flow": null,
            "grid_auto_rows": null,
            "grid_column": null,
            "grid_gap": null,
            "grid_row": null,
            "grid_template_areas": null,
            "grid_template_columns": null,
            "grid_template_rows": null,
            "height": null,
            "justify_content": null,
            "justify_items": null,
            "left": null,
            "margin": null,
            "max_height": null,
            "max_width": null,
            "min_height": null,
            "min_width": null,
            "object_fit": null,
            "object_position": null,
            "order": null,
            "overflow": null,
            "overflow_x": null,
            "overflow_y": null,
            "padding": null,
            "right": null,
            "top": null,
            "visibility": null,
            "width": null
          }
        },
        "8ffbad783f4b437a93b06668e141936f": {
          "model_module": "@jupyter-widgets/base",
          "model_module_version": "1.2.0",
          "model_name": "LayoutModel",
          "state": {
            "_model_module": "@jupyter-widgets/base",
            "_model_module_version": "1.2.0",
            "_model_name": "LayoutModel",
            "_view_count": null,
            "_view_module": "@jupyter-widgets/base",
            "_view_module_version": "1.2.0",
            "_view_name": "LayoutView",
            "align_content": null,
            "align_items": null,
            "align_self": null,
            "border": null,
            "bottom": null,
            "display": null,
            "flex": null,
            "flex_flow": null,
            "grid_area": null,
            "grid_auto_columns": null,
            "grid_auto_flow": null,
            "grid_auto_rows": null,
            "grid_column": null,
            "grid_gap": null,
            "grid_row": null,
            "grid_template_areas": null,
            "grid_template_columns": null,
            "grid_template_rows": null,
            "height": null,
            "justify_content": null,
            "justify_items": null,
            "left": null,
            "margin": null,
            "max_height": null,
            "max_width": null,
            "min_height": null,
            "min_width": null,
            "object_fit": null,
            "object_position": null,
            "order": null,
            "overflow": null,
            "overflow_x": null,
            "overflow_y": null,
            "padding": null,
            "right": null,
            "top": null,
            "visibility": null,
            "width": null
          }
        },
        "91510357ae864f409f30a544a13702d5": {
          "model_module": "@jupyter-widgets/controls",
          "model_module_version": "1.5.0",
          "model_name": "ProgressStyleModel",
          "state": {
            "_model_module": "@jupyter-widgets/controls",
            "_model_module_version": "1.5.0",
            "_model_name": "ProgressStyleModel",
            "_view_count": null,
            "_view_module": "@jupyter-widgets/base",
            "_view_module_version": "1.2.0",
            "_view_name": "StyleView",
            "bar_color": null,
            "description_width": ""
          }
        },
        "9264f83055444fc8841be7a68227b9ac": {
          "model_module": "@jupyter-widgets/controls",
          "model_module_version": "1.5.0",
          "model_name": "HBoxModel",
          "state": {
            "_dom_classes": [],
            "_model_module": "@jupyter-widgets/controls",
            "_model_module_version": "1.5.0",
            "_model_name": "HBoxModel",
            "_view_count": null,
            "_view_module": "@jupyter-widgets/controls",
            "_view_module_version": "1.5.0",
            "_view_name": "HBoxView",
            "box_style": "",
            "children": [
              "IPY_MODEL_a60cd31024f046159447025de54e9f8a",
              "IPY_MODEL_53f4871e45a9455aab8ac4f3069cd7d7",
              "IPY_MODEL_42f406b212784f67912ce43edcd451eb"
            ],
            "layout": "IPY_MODEL_3726806a691f4453a129ca435ce20368"
          }
        },
        "9694555c6aa64399abd2d8dc8e4e456e": {
          "model_module": "@jupyter-widgets/base",
          "model_module_version": "1.2.0",
          "model_name": "LayoutModel",
          "state": {
            "_model_module": "@jupyter-widgets/base",
            "_model_module_version": "1.2.0",
            "_model_name": "LayoutModel",
            "_view_count": null,
            "_view_module": "@jupyter-widgets/base",
            "_view_module_version": "1.2.0",
            "_view_name": "LayoutView",
            "align_content": null,
            "align_items": null,
            "align_self": null,
            "border": null,
            "bottom": null,
            "display": null,
            "flex": null,
            "flex_flow": null,
            "grid_area": null,
            "grid_auto_columns": null,
            "grid_auto_flow": null,
            "grid_auto_rows": null,
            "grid_column": null,
            "grid_gap": null,
            "grid_row": null,
            "grid_template_areas": null,
            "grid_template_columns": null,
            "grid_template_rows": null,
            "height": null,
            "justify_content": null,
            "justify_items": null,
            "left": null,
            "margin": null,
            "max_height": null,
            "max_width": null,
            "min_height": null,
            "min_width": null,
            "object_fit": null,
            "object_position": null,
            "order": null,
            "overflow": null,
            "overflow_x": null,
            "overflow_y": null,
            "padding": null,
            "right": null,
            "top": null,
            "visibility": null,
            "width": null
          }
        },
        "9f5f5277848a4ebb9d71f4755f50674f": {
          "model_module": "@jupyter-widgets/controls",
          "model_module_version": "1.5.0",
          "model_name": "HTMLModel",
          "state": {
            "_dom_classes": [],
            "_model_module": "@jupyter-widgets/controls",
            "_model_module_version": "1.5.0",
            "_model_name": "HTMLModel",
            "_view_count": null,
            "_view_module": "@jupyter-widgets/controls",
            "_view_module_version": "1.5.0",
            "_view_name": "HTMLView",
            "description": "",
            "description_tooltip": null,
            "layout": "IPY_MODEL_02d655aaa7304265b651d0d6112fa59e",
            "placeholder": "​",
            "style": "IPY_MODEL_b301304ce7b54b4f8e012e7f86e72a44",
            "value": "config.json: 100%"
          }
        },
        "a07ea061239e4f299f26f5c710981353": {
          "model_module": "@jupyter-widgets/base",
          "model_module_version": "1.2.0",
          "model_name": "LayoutModel",
          "state": {
            "_model_module": "@jupyter-widgets/base",
            "_model_module_version": "1.2.0",
            "_model_name": "LayoutModel",
            "_view_count": null,
            "_view_module": "@jupyter-widgets/base",
            "_view_module_version": "1.2.0",
            "_view_name": "LayoutView",
            "align_content": null,
            "align_items": null,
            "align_self": null,
            "border": null,
            "bottom": null,
            "display": null,
            "flex": null,
            "flex_flow": null,
            "grid_area": null,
            "grid_auto_columns": null,
            "grid_auto_flow": null,
            "grid_auto_rows": null,
            "grid_column": null,
            "grid_gap": null,
            "grid_row": null,
            "grid_template_areas": null,
            "grid_template_columns": null,
            "grid_template_rows": null,
            "height": null,
            "justify_content": null,
            "justify_items": null,
            "left": null,
            "margin": null,
            "max_height": null,
            "max_width": null,
            "min_height": null,
            "min_width": null,
            "object_fit": null,
            "object_position": null,
            "order": null,
            "overflow": null,
            "overflow_x": null,
            "overflow_y": null,
            "padding": null,
            "right": null,
            "top": null,
            "visibility": null,
            "width": null
          }
        },
        "a3db563bb65049f49548f91d15927a1b": {
          "model_module": "@jupyter-widgets/base",
          "model_module_version": "1.2.0",
          "model_name": "LayoutModel",
          "state": {
            "_model_module": "@jupyter-widgets/base",
            "_model_module_version": "1.2.0",
            "_model_name": "LayoutModel",
            "_view_count": null,
            "_view_module": "@jupyter-widgets/base",
            "_view_module_version": "1.2.0",
            "_view_name": "LayoutView",
            "align_content": null,
            "align_items": null,
            "align_self": null,
            "border": null,
            "bottom": null,
            "display": null,
            "flex": null,
            "flex_flow": null,
            "grid_area": null,
            "grid_auto_columns": null,
            "grid_auto_flow": null,
            "grid_auto_rows": null,
            "grid_column": null,
            "grid_gap": null,
            "grid_row": null,
            "grid_template_areas": null,
            "grid_template_columns": null,
            "grid_template_rows": null,
            "height": null,
            "justify_content": null,
            "justify_items": null,
            "left": null,
            "margin": null,
            "max_height": null,
            "max_width": null,
            "min_height": null,
            "min_width": null,
            "object_fit": null,
            "object_position": null,
            "order": null,
            "overflow": null,
            "overflow_x": null,
            "overflow_y": null,
            "padding": null,
            "right": null,
            "top": null,
            "visibility": null,
            "width": null
          }
        },
        "a4b2b24f76f840358d23d3fb208eb567": {
          "model_module": "@jupyter-widgets/controls",
          "model_module_version": "1.5.0",
          "model_name": "HBoxModel",
          "state": {
            "_dom_classes": [],
            "_model_module": "@jupyter-widgets/controls",
            "_model_module_version": "1.5.0",
            "_model_name": "HBoxModel",
            "_view_count": null,
            "_view_module": "@jupyter-widgets/controls",
            "_view_module_version": "1.5.0",
            "_view_name": "HBoxView",
            "box_style": "",
            "children": [
              "IPY_MODEL_8236bb087a864a868d7f6f21f36c94a3",
              "IPY_MODEL_20d8c697de7d43b79dec3fa2ad5447f4",
              "IPY_MODEL_a7150012361840deb42e8e9aa1ed3318"
            ],
            "layout": "IPY_MODEL_cd502ce677994ba4a8eace9bdab0db08"
          }
        },
        "a60cd31024f046159447025de54e9f8a": {
          "model_module": "@jupyter-widgets/controls",
          "model_module_version": "1.5.0",
          "model_name": "HTMLModel",
          "state": {
            "_dom_classes": [],
            "_model_module": "@jupyter-widgets/controls",
            "_model_module_version": "1.5.0",
            "_model_name": "HTMLModel",
            "_view_count": null,
            "_view_module": "@jupyter-widgets/controls",
            "_view_module_version": "1.5.0",
            "_view_name": "HTMLView",
            "description": "",
            "description_tooltip": null,
            "layout": "IPY_MODEL_f258b9cbe49440e987466d5bf051c67e",
            "placeholder": "​",
            "style": "IPY_MODEL_88f57c94b5f049fa81c519093c64de3c",
            "value": "generation_config.json: 100%"
          }
        },
        "a7150012361840deb42e8e9aa1ed3318": {
          "model_module": "@jupyter-widgets/controls",
          "model_module_version": "1.5.0",
          "model_name": "HTMLModel",
          "state": {
            "_dom_classes": [],
            "_model_module": "@jupyter-widgets/controls",
            "_model_module_version": "1.5.0",
            "_model_name": "HTMLModel",
            "_view_count": null,
            "_view_module": "@jupyter-widgets/controls",
            "_view_module_version": "1.5.0",
            "_view_name": "HTMLView",
            "description": "",
            "description_tooltip": null,
            "layout": "IPY_MODEL_b3564890d6c0424c90500e262069debf",
            "placeholder": "​",
            "style": "IPY_MODEL_ad56826c8ec04a1fb777a331987409b2",
            "value": " 1.04M/1.04M [00:00&lt;00:00, 4.27MB/s]"
          }
        },
        "a99c43fbbc5a407186bb509ee6518ec1": {
          "model_module": "@jupyter-widgets/controls",
          "model_module_version": "1.5.0",
          "model_name": "ProgressStyleModel",
          "state": {
            "_model_module": "@jupyter-widgets/controls",
            "_model_module_version": "1.5.0",
            "_model_name": "ProgressStyleModel",
            "_view_count": null,
            "_view_module": "@jupyter-widgets/base",
            "_view_module_version": "1.2.0",
            "_view_name": "StyleView",
            "bar_color": null,
            "description_width": ""
          }
        },
        "ad56826c8ec04a1fb777a331987409b2": {
          "model_module": "@jupyter-widgets/controls",
          "model_module_version": "1.5.0",
          "model_name": "DescriptionStyleModel",
          "state": {
            "_model_module": "@jupyter-widgets/controls",
            "_model_module_version": "1.5.0",
            "_model_name": "DescriptionStyleModel",
            "_view_count": null,
            "_view_module": "@jupyter-widgets/base",
            "_view_module_version": "1.2.0",
            "_view_name": "StyleView",
            "description_width": ""
          }
        },
        "b301304ce7b54b4f8e012e7f86e72a44": {
          "model_module": "@jupyter-widgets/controls",
          "model_module_version": "1.5.0",
          "model_name": "DescriptionStyleModel",
          "state": {
            "_model_module": "@jupyter-widgets/controls",
            "_model_module_version": "1.5.0",
            "_model_name": "DescriptionStyleModel",
            "_view_count": null,
            "_view_module": "@jupyter-widgets/base",
            "_view_module_version": "1.2.0",
            "_view_name": "StyleView",
            "description_width": ""
          }
        },
        "b3564890d6c0424c90500e262069debf": {
          "model_module": "@jupyter-widgets/base",
          "model_module_version": "1.2.0",
          "model_name": "LayoutModel",
          "state": {
            "_model_module": "@jupyter-widgets/base",
            "_model_module_version": "1.2.0",
            "_model_name": "LayoutModel",
            "_view_count": null,
            "_view_module": "@jupyter-widgets/base",
            "_view_module_version": "1.2.0",
            "_view_name": "LayoutView",
            "align_content": null,
            "align_items": null,
            "align_self": null,
            "border": null,
            "bottom": null,
            "display": null,
            "flex": null,
            "flex_flow": null,
            "grid_area": null,
            "grid_auto_columns": null,
            "grid_auto_flow": null,
            "grid_auto_rows": null,
            "grid_column": null,
            "grid_gap": null,
            "grid_row": null,
            "grid_template_areas": null,
            "grid_template_columns": null,
            "grid_template_rows": null,
            "height": null,
            "justify_content": null,
            "justify_items": null,
            "left": null,
            "margin": null,
            "max_height": null,
            "max_width": null,
            "min_height": null,
            "min_width": null,
            "object_fit": null,
            "object_position": null,
            "order": null,
            "overflow": null,
            "overflow_x": null,
            "overflow_y": null,
            "padding": null,
            "right": null,
            "top": null,
            "visibility": null,
            "width": null
          }
        },
        "b85c8dcc0b85479595ae5e9ea20326ff": {
          "model_module": "@jupyter-widgets/controls",
          "model_module_version": "1.5.0",
          "model_name": "HTMLModel",
          "state": {
            "_dom_classes": [],
            "_model_module": "@jupyter-widgets/controls",
            "_model_module_version": "1.5.0",
            "_model_name": "HTMLModel",
            "_view_count": null,
            "_view_module": "@jupyter-widgets/controls",
            "_view_module_version": "1.5.0",
            "_view_name": "HTMLView",
            "description": "",
            "description_tooltip": null,
            "layout": "IPY_MODEL_8ffbad783f4b437a93b06668e141936f",
            "placeholder": "​",
            "style": "IPY_MODEL_7ac316803b1344728ab938e8c4808b19",
            "value": "model.safetensors: 100%"
          }
        },
        "b880afa631014eeaa6748411ffc52c58": {
          "model_module": "@jupyter-widgets/controls",
          "model_module_version": "1.5.0",
          "model_name": "DescriptionStyleModel",
          "state": {
            "_model_module": "@jupyter-widgets/controls",
            "_model_module_version": "1.5.0",
            "_model_name": "DescriptionStyleModel",
            "_view_count": null,
            "_view_module": "@jupyter-widgets/base",
            "_view_module_version": "1.2.0",
            "_view_name": "StyleView",
            "description_width": ""
          }
        },
        "bdbba221a8e74f2db8da73ce1ed37df4": {
          "model_module": "@jupyter-widgets/controls",
          "model_module_version": "1.5.0",
          "model_name": "FloatProgressModel",
          "state": {
            "_dom_classes": [],
            "_model_module": "@jupyter-widgets/controls",
            "_model_module_version": "1.5.0",
            "_model_name": "FloatProgressModel",
            "_view_count": null,
            "_view_module": "@jupyter-widgets/controls",
            "_view_module_version": "1.5.0",
            "_view_name": "ProgressView",
            "bar_style": "success",
            "description": "",
            "description_tooltip": null,
            "layout": "IPY_MODEL_d8fddd4f685b47d29f1ad5811654341a",
            "max": 48,
            "min": 0,
            "orientation": "horizontal",
            "style": "IPY_MODEL_658fac1e05b44ca5a535dc8e501adda1",
            "value": 48
          }
        },
        "bf22245922d448fb839dfe98d567d507": {
          "model_module": "@jupyter-widgets/controls",
          "model_module_version": "1.5.0",
          "model_name": "HBoxModel",
          "state": {
            "_dom_classes": [],
            "_model_module": "@jupyter-widgets/controls",
            "_model_module_version": "1.5.0",
            "_model_name": "HBoxModel",
            "_view_count": null,
            "_view_module": "@jupyter-widgets/controls",
            "_view_module_version": "1.5.0",
            "_view_name": "HBoxView",
            "box_style": "",
            "children": [
              "IPY_MODEL_2e308d06562d4e6fbf98b58bc6854f6b",
              "IPY_MODEL_c18c193899844df7b1f677325c47231c",
              "IPY_MODEL_71f4fc8088cd4b6c809ea2b0dbdd4021"
            ],
            "layout": "IPY_MODEL_14cb47dd98784d91902d33bac56df43b"
          }
        },
        "c003f65c801c4cb4aa9b0df58d1e01da": {
          "model_module": "@jupyter-widgets/controls",
          "model_module_version": "1.5.0",
          "model_name": "DescriptionStyleModel",
          "state": {
            "_model_module": "@jupyter-widgets/controls",
            "_model_module_version": "1.5.0",
            "_model_name": "DescriptionStyleModel",
            "_view_count": null,
            "_view_module": "@jupyter-widgets/base",
            "_view_module_version": "1.2.0",
            "_view_name": "StyleView",
            "description_width": ""
          }
        },
        "c18c193899844df7b1f677325c47231c": {
          "model_module": "@jupyter-widgets/controls",
          "model_module_version": "1.5.0",
          "model_name": "FloatProgressModel",
          "state": {
            "_dom_classes": [],
            "_model_module": "@jupyter-widgets/controls",
            "_model_module_version": "1.5.0",
            "_model_name": "FloatProgressModel",
            "_view_count": null,
            "_view_module": "@jupyter-widgets/controls",
            "_view_module_version": "1.5.0",
            "_view_name": "ProgressView",
            "bar_style": "success",
            "description": "",
            "description_tooltip": null,
            "layout": "IPY_MODEL_5e5daa428e19455f8f011857a1169c60",
            "max": 456318,
            "min": 0,
            "orientation": "horizontal",
            "style": "IPY_MODEL_d2be684b54c14dae96a2d88f07c315c3",
            "value": 456318
          }
        },
        "c8177ab732b84930965018990c066e60": {
          "model_module": "@jupyter-widgets/controls",
          "model_module_version": "1.5.0",
          "model_name": "FloatProgressModel",
          "state": {
            "_dom_classes": [],
            "_model_module": "@jupyter-widgets/controls",
            "_model_module_version": "1.5.0",
            "_model_name": "FloatProgressModel",
            "_view_count": null,
            "_view_module": "@jupyter-widgets/controls",
            "_view_module_version": "1.5.0",
            "_view_name": "ProgressView",
            "bar_style": "success",
            "description": "",
            "description_tooltip": null,
            "layout": "IPY_MODEL_02c27c882b264d8e9949336b829e855f",
            "max": 629,
            "min": 0,
            "orientation": "horizontal",
            "style": "IPY_MODEL_a99c43fbbc5a407186bb509ee6518ec1",
            "value": 629
          }
        },
        "ca6e457a9cee4ab7b90fb09819906c1b": {
          "model_module": "@jupyter-widgets/base",
          "model_module_version": "1.2.0",
          "model_name": "LayoutModel",
          "state": {
            "_model_module": "@jupyter-widgets/base",
            "_model_module_version": "1.2.0",
            "_model_name": "LayoutModel",
            "_view_count": null,
            "_view_module": "@jupyter-widgets/base",
            "_view_module_version": "1.2.0",
            "_view_name": "LayoutView",
            "align_content": null,
            "align_items": null,
            "align_self": null,
            "border": null,
            "bottom": null,
            "display": null,
            "flex": null,
            "flex_flow": null,
            "grid_area": null,
            "grid_auto_columns": null,
            "grid_auto_flow": null,
            "grid_auto_rows": null,
            "grid_column": null,
            "grid_gap": null,
            "grid_row": null,
            "grid_template_areas": null,
            "grid_template_columns": null,
            "grid_template_rows": null,
            "height": null,
            "justify_content": null,
            "justify_items": null,
            "left": null,
            "margin": null,
            "max_height": null,
            "max_width": null,
            "min_height": null,
            "min_width": null,
            "object_fit": null,
            "object_position": null,
            "order": null,
            "overflow": null,
            "overflow_x": null,
            "overflow_y": null,
            "padding": null,
            "right": null,
            "top": null,
            "visibility": null,
            "width": null
          }
        },
        "cc10b384e06045d69223f20af5cf365e": {
          "model_module": "@jupyter-widgets/controls",
          "model_module_version": "1.5.0",
          "model_name": "FloatProgressModel",
          "state": {
            "_dom_classes": [],
            "_model_module": "@jupyter-widgets/controls",
            "_model_module_version": "1.5.0",
            "_model_name": "FloatProgressModel",
            "_view_count": null,
            "_view_module": "@jupyter-widgets/controls",
            "_view_module_version": "1.5.0",
            "_view_name": "ProgressView",
            "bar_style": "success",
            "description": "",
            "description_tooltip": null,
            "layout": "IPY_MODEL_1b600d6ee5584250bba0294ff91725f6",
            "max": 665,
            "min": 0,
            "orientation": "horizontal",
            "style": "IPY_MODEL_642f907cbcb84ac39e1871e624c0dcc9",
            "value": 665
          }
        },
        "cd502ce677994ba4a8eace9bdab0db08": {
          "model_module": "@jupyter-widgets/base",
          "model_module_version": "1.2.0",
          "model_name": "LayoutModel",
          "state": {
            "_model_module": "@jupyter-widgets/base",
            "_model_module_version": "1.2.0",
            "_model_name": "LayoutModel",
            "_view_count": null,
            "_view_module": "@jupyter-widgets/base",
            "_view_module_version": "1.2.0",
            "_view_name": "LayoutView",
            "align_content": null,
            "align_items": null,
            "align_self": null,
            "border": null,
            "bottom": null,
            "display": null,
            "flex": null,
            "flex_flow": null,
            "grid_area": null,
            "grid_auto_columns": null,
            "grid_auto_flow": null,
            "grid_auto_rows": null,
            "grid_column": null,
            "grid_gap": null,
            "grid_row": null,
            "grid_template_areas": null,
            "grid_template_columns": null,
            "grid_template_rows": null,
            "height": null,
            "justify_content": null,
            "justify_items": null,
            "left": null,
            "margin": null,
            "max_height": null,
            "max_width": null,
            "min_height": null,
            "min_width": null,
            "object_fit": null,
            "object_position": null,
            "order": null,
            "overflow": null,
            "overflow_x": null,
            "overflow_y": null,
            "padding": null,
            "right": null,
            "top": null,
            "visibility": null,
            "width": null
          }
        },
        "d2be684b54c14dae96a2d88f07c315c3": {
          "model_module": "@jupyter-widgets/controls",
          "model_module_version": "1.5.0",
          "model_name": "ProgressStyleModel",
          "state": {
            "_model_module": "@jupyter-widgets/controls",
            "_model_module_version": "1.5.0",
            "_model_name": "ProgressStyleModel",
            "_view_count": null,
            "_view_module": "@jupyter-widgets/base",
            "_view_module_version": "1.2.0",
            "_view_name": "StyleView",
            "bar_color": null,
            "description_width": ""
          }
        },
        "d46e05c539a840c9b357146135400018": {
          "model_module": "@jupyter-widgets/base",
          "model_module_version": "1.2.0",
          "model_name": "LayoutModel",
          "state": {
            "_model_module": "@jupyter-widgets/base",
            "_model_module_version": "1.2.0",
            "_model_name": "LayoutModel",
            "_view_count": null,
            "_view_module": "@jupyter-widgets/base",
            "_view_module_version": "1.2.0",
            "_view_name": "LayoutView",
            "align_content": null,
            "align_items": null,
            "align_self": null,
            "border": null,
            "bottom": null,
            "display": null,
            "flex": null,
            "flex_flow": null,
            "grid_area": null,
            "grid_auto_columns": null,
            "grid_auto_flow": null,
            "grid_auto_rows": null,
            "grid_column": null,
            "grid_gap": null,
            "grid_row": null,
            "grid_template_areas": null,
            "grid_template_columns": null,
            "grid_template_rows": null,
            "height": null,
            "justify_content": null,
            "justify_items": null,
            "left": null,
            "margin": null,
            "max_height": null,
            "max_width": null,
            "min_height": null,
            "min_width": null,
            "object_fit": null,
            "object_position": null,
            "order": null,
            "overflow": null,
            "overflow_x": null,
            "overflow_y": null,
            "padding": null,
            "right": null,
            "top": null,
            "visibility": null,
            "width": null
          }
        },
        "d5a990bdf3924069b60827fbdaac788b": {
          "model_module": "@jupyter-widgets/controls",
          "model_module_version": "1.5.0",
          "model_name": "DescriptionStyleModel",
          "state": {
            "_model_module": "@jupyter-widgets/controls",
            "_model_module_version": "1.5.0",
            "_model_name": "DescriptionStyleModel",
            "_view_count": null,
            "_view_module": "@jupyter-widgets/base",
            "_view_module_version": "1.2.0",
            "_view_name": "StyleView",
            "description_width": ""
          }
        },
        "d8fddd4f685b47d29f1ad5811654341a": {
          "model_module": "@jupyter-widgets/base",
          "model_module_version": "1.2.0",
          "model_name": "LayoutModel",
          "state": {
            "_model_module": "@jupyter-widgets/base",
            "_model_module_version": "1.2.0",
            "_model_name": "LayoutModel",
            "_view_count": null,
            "_view_module": "@jupyter-widgets/base",
            "_view_module_version": "1.2.0",
            "_view_name": "LayoutView",
            "align_content": null,
            "align_items": null,
            "align_self": null,
            "border": null,
            "bottom": null,
            "display": null,
            "flex": null,
            "flex_flow": null,
            "grid_area": null,
            "grid_auto_columns": null,
            "grid_auto_flow": null,
            "grid_auto_rows": null,
            "grid_column": null,
            "grid_gap": null,
            "grid_row": null,
            "grid_template_areas": null,
            "grid_template_columns": null,
            "grid_template_rows": null,
            "height": null,
            "justify_content": null,
            "justify_items": null,
            "left": null,
            "margin": null,
            "max_height": null,
            "max_width": null,
            "min_height": null,
            "min_width": null,
            "object_fit": null,
            "object_position": null,
            "order": null,
            "overflow": null,
            "overflow_x": null,
            "overflow_y": null,
            "padding": null,
            "right": null,
            "top": null,
            "visibility": null,
            "width": null
          }
        },
        "d9b4862fa31948edb0a474aabe9ea6a2": {
          "model_module": "@jupyter-widgets/controls",
          "model_module_version": "1.5.0",
          "model_name": "HTMLModel",
          "state": {
            "_dom_classes": [],
            "_model_module": "@jupyter-widgets/controls",
            "_model_module_version": "1.5.0",
            "_model_name": "HTMLModel",
            "_view_count": null,
            "_view_module": "@jupyter-widgets/controls",
            "_view_module_version": "1.5.0",
            "_view_name": "HTMLView",
            "description": "",
            "description_tooltip": null,
            "layout": "IPY_MODEL_9694555c6aa64399abd2d8dc8e4e456e",
            "placeholder": "​",
            "style": "IPY_MODEL_d5a990bdf3924069b60827fbdaac788b",
            "value": "vocab.txt: 100%"
          }
        },
        "daabdfbcc8e8438ca4bcbdd9e164ed41": {
          "model_module": "@jupyter-widgets/controls",
          "model_module_version": "1.5.0",
          "model_name": "DescriptionStyleModel",
          "state": {
            "_model_module": "@jupyter-widgets/controls",
            "_model_module_version": "1.5.0",
            "_model_name": "DescriptionStyleModel",
            "_view_count": null,
            "_view_module": "@jupyter-widgets/base",
            "_view_module_version": "1.2.0",
            "_view_name": "StyleView",
            "description_width": ""
          }
        },
        "dbdad4f1b74d45e586c350746813a9e5": {
          "model_module": "@jupyter-widgets/controls",
          "model_module_version": "1.5.0",
          "model_name": "DescriptionStyleModel",
          "state": {
            "_model_module": "@jupyter-widgets/controls",
            "_model_module_version": "1.5.0",
            "_model_name": "DescriptionStyleModel",
            "_view_count": null,
            "_view_module": "@jupyter-widgets/base",
            "_view_module_version": "1.2.0",
            "_view_name": "StyleView",
            "description_width": ""
          }
        },
        "dc5bedd8514f47d1941f75ab5abf6ff8": {
          "model_module": "@jupyter-widgets/base",
          "model_module_version": "1.2.0",
          "model_name": "LayoutModel",
          "state": {
            "_model_module": "@jupyter-widgets/base",
            "_model_module_version": "1.2.0",
            "_model_name": "LayoutModel",
            "_view_count": null,
            "_view_module": "@jupyter-widgets/base",
            "_view_module_version": "1.2.0",
            "_view_name": "LayoutView",
            "align_content": null,
            "align_items": null,
            "align_self": null,
            "border": null,
            "bottom": null,
            "display": null,
            "flex": null,
            "flex_flow": null,
            "grid_area": null,
            "grid_auto_columns": null,
            "grid_auto_flow": null,
            "grid_auto_rows": null,
            "grid_column": null,
            "grid_gap": null,
            "grid_row": null,
            "grid_template_areas": null,
            "grid_template_columns": null,
            "grid_template_rows": null,
            "height": null,
            "justify_content": null,
            "justify_items": null,
            "left": null,
            "margin": null,
            "max_height": null,
            "max_width": null,
            "min_height": null,
            "min_width": null,
            "object_fit": null,
            "object_position": null,
            "order": null,
            "overflow": null,
            "overflow_x": null,
            "overflow_y": null,
            "padding": null,
            "right": null,
            "top": null,
            "visibility": null,
            "width": null
          }
        },
        "dde3a80316f54258ba7cf0f1ccb39a3c": {
          "model_module": "@jupyter-widgets/controls",
          "model_module_version": "1.5.0",
          "model_name": "HTMLModel",
          "state": {
            "_dom_classes": [],
            "_model_module": "@jupyter-widgets/controls",
            "_model_module_version": "1.5.0",
            "_model_name": "HTMLModel",
            "_view_count": null,
            "_view_module": "@jupyter-widgets/controls",
            "_view_module_version": "1.5.0",
            "_view_name": "HTMLView",
            "description": "",
            "description_tooltip": null,
            "layout": "IPY_MODEL_38d6ff2c313e4dcdaf60eb444908597a",
            "placeholder": "​",
            "style": "IPY_MODEL_022fc99871b84a8c9e35d906399b6b60",
            "value": " 548M/548M [00:02&lt;00:00, 260MB/s]"
          }
        },
        "e54c45dd4403481989dbcd90dfb79c9d": {
          "model_module": "@jupyter-widgets/base",
          "model_module_version": "1.2.0",
          "model_name": "LayoutModel",
          "state": {
            "_model_module": "@jupyter-widgets/base",
            "_model_module_version": "1.2.0",
            "_model_name": "LayoutModel",
            "_view_count": null,
            "_view_module": "@jupyter-widgets/base",
            "_view_module_version": "1.2.0",
            "_view_name": "LayoutView",
            "align_content": null,
            "align_items": null,
            "align_self": null,
            "border": null,
            "bottom": null,
            "display": null,
            "flex": null,
            "flex_flow": null,
            "grid_area": null,
            "grid_auto_columns": null,
            "grid_auto_flow": null,
            "grid_auto_rows": null,
            "grid_column": null,
            "grid_gap": null,
            "grid_row": null,
            "grid_template_areas": null,
            "grid_template_columns": null,
            "grid_template_rows": null,
            "height": null,
            "justify_content": null,
            "justify_items": null,
            "left": null,
            "margin": null,
            "max_height": null,
            "max_width": null,
            "min_height": null,
            "min_width": null,
            "object_fit": null,
            "object_position": null,
            "order": null,
            "overflow": null,
            "overflow_x": null,
            "overflow_y": null,
            "padding": null,
            "right": null,
            "top": null,
            "visibility": null,
            "width": null
          }
        },
        "e8d1c5d93f3149338478bcce6accc69c": {
          "model_module": "@jupyter-widgets/base",
          "model_module_version": "1.2.0",
          "model_name": "LayoutModel",
          "state": {
            "_model_module": "@jupyter-widgets/base",
            "_model_module_version": "1.2.0",
            "_model_name": "LayoutModel",
            "_view_count": null,
            "_view_module": "@jupyter-widgets/base",
            "_view_module_version": "1.2.0",
            "_view_name": "LayoutView",
            "align_content": null,
            "align_items": null,
            "align_self": null,
            "border": null,
            "bottom": null,
            "display": null,
            "flex": null,
            "flex_flow": null,
            "grid_area": null,
            "grid_auto_columns": null,
            "grid_auto_flow": null,
            "grid_auto_rows": null,
            "grid_column": null,
            "grid_gap": null,
            "grid_row": null,
            "grid_template_areas": null,
            "grid_template_columns": null,
            "grid_template_rows": null,
            "height": null,
            "justify_content": null,
            "justify_items": null,
            "left": null,
            "margin": null,
            "max_height": null,
            "max_width": null,
            "min_height": null,
            "min_width": null,
            "object_fit": null,
            "object_position": null,
            "order": null,
            "overflow": null,
            "overflow_x": null,
            "overflow_y": null,
            "padding": null,
            "right": null,
            "top": null,
            "visibility": null,
            "width": null
          }
        },
        "e94f24ad944b44f5af57e8908aa7371b": {
          "model_module": "@jupyter-widgets/controls",
          "model_module_version": "1.5.0",
          "model_name": "DescriptionStyleModel",
          "state": {
            "_model_module": "@jupyter-widgets/controls",
            "_model_module_version": "1.5.0",
            "_model_name": "DescriptionStyleModel",
            "_view_count": null,
            "_view_module": "@jupyter-widgets/base",
            "_view_module_version": "1.2.0",
            "_view_name": "StyleView",
            "description_width": ""
          }
        },
        "eae7b29b1ef14383ba5cb646485d5ddb": {
          "model_module": "@jupyter-widgets/controls",
          "model_module_version": "1.5.0",
          "model_name": "HBoxModel",
          "state": {
            "_dom_classes": [],
            "_model_module": "@jupyter-widgets/controls",
            "_model_module_version": "1.5.0",
            "_model_name": "HBoxModel",
            "_view_count": null,
            "_view_module": "@jupyter-widgets/controls",
            "_view_module_version": "1.5.0",
            "_view_name": "HBoxView",
            "box_style": "",
            "children": [
              "IPY_MODEL_d9b4862fa31948edb0a474aabe9ea6a2",
              "IPY_MODEL_6c235689dd9d49f190d07be16727ab05",
              "IPY_MODEL_f18d6f67ca4b41bbb41ca1b1ee64e422"
            ],
            "layout": "IPY_MODEL_fbd9471fdab74134a09028773e4021ad"
          }
        },
        "ee3736955d544e84a45acac0beec3d35": {
          "model_module": "@jupyter-widgets/base",
          "model_module_version": "1.2.0",
          "model_name": "LayoutModel",
          "state": {
            "_model_module": "@jupyter-widgets/base",
            "_model_module_version": "1.2.0",
            "_model_name": "LayoutModel",
            "_view_count": null,
            "_view_module": "@jupyter-widgets/base",
            "_view_module_version": "1.2.0",
            "_view_name": "LayoutView",
            "align_content": null,
            "align_items": null,
            "align_self": null,
            "border": null,
            "bottom": null,
            "display": null,
            "flex": null,
            "flex_flow": null,
            "grid_area": null,
            "grid_auto_columns": null,
            "grid_auto_flow": null,
            "grid_auto_rows": null,
            "grid_column": null,
            "grid_gap": null,
            "grid_row": null,
            "grid_template_areas": null,
            "grid_template_columns": null,
            "grid_template_rows": null,
            "height": null,
            "justify_content": null,
            "justify_items": null,
            "left": null,
            "margin": null,
            "max_height": null,
            "max_width": null,
            "min_height": null,
            "min_width": null,
            "object_fit": null,
            "object_position": null,
            "order": null,
            "overflow": null,
            "overflow_x": null,
            "overflow_y": null,
            "padding": null,
            "right": null,
            "top": null,
            "visibility": null,
            "width": null
          }
        },
        "ef0184402efd415c9640b73108372b79": {
          "model_module": "@jupyter-widgets/controls",
          "model_module_version": "1.5.0",
          "model_name": "HTMLModel",
          "state": {
            "_dom_classes": [],
            "_model_module": "@jupyter-widgets/controls",
            "_model_module_version": "1.5.0",
            "_model_name": "HTMLModel",
            "_view_count": null,
            "_view_module": "@jupyter-widgets/controls",
            "_view_module_version": "1.5.0",
            "_view_name": "HTMLView",
            "description": "",
            "description_tooltip": null,
            "layout": "IPY_MODEL_6e4d92297aa149b8a2f1d9be4bb06098",
            "placeholder": "​",
            "style": "IPY_MODEL_172ebb72fb954958b0a97b0d41dd2037",
            "value": " 629/629 [00:00&lt;00:00, 27.4kB/s]"
          }
        },
        "ef7aedb321ea4cf9b7cf5db1af4ec3ad": {
          "model_module": "@jupyter-widgets/base",
          "model_module_version": "1.2.0",
          "model_name": "LayoutModel",
          "state": {
            "_model_module": "@jupyter-widgets/base",
            "_model_module_version": "1.2.0",
            "_model_name": "LayoutModel",
            "_view_count": null,
            "_view_module": "@jupyter-widgets/base",
            "_view_module_version": "1.2.0",
            "_view_name": "LayoutView",
            "align_content": null,
            "align_items": null,
            "align_self": null,
            "border": null,
            "bottom": null,
            "display": null,
            "flex": null,
            "flex_flow": null,
            "grid_area": null,
            "grid_auto_columns": null,
            "grid_auto_flow": null,
            "grid_auto_rows": null,
            "grid_column": null,
            "grid_gap": null,
            "grid_row": null,
            "grid_template_areas": null,
            "grid_template_columns": null,
            "grid_template_rows": null,
            "height": null,
            "justify_content": null,
            "justify_items": null,
            "left": null,
            "margin": null,
            "max_height": null,
            "max_width": null,
            "min_height": null,
            "min_width": null,
            "object_fit": null,
            "object_position": null,
            "order": null,
            "overflow": null,
            "overflow_x": null,
            "overflow_y": null,
            "padding": null,
            "right": null,
            "top": null,
            "visibility": null,
            "width": null
          }
        },
        "f18d6f67ca4b41bbb41ca1b1ee64e422": {
          "model_module": "@jupyter-widgets/controls",
          "model_module_version": "1.5.0",
          "model_name": "HTMLModel",
          "state": {
            "_dom_classes": [],
            "_model_module": "@jupyter-widgets/controls",
            "_model_module_version": "1.5.0",
            "_model_name": "HTMLModel",
            "_view_count": null,
            "_view_module": "@jupyter-widgets/controls",
            "_view_module_version": "1.5.0",
            "_view_name": "HTMLView",
            "description": "",
            "description_tooltip": null,
            "layout": "IPY_MODEL_2fc9fe98de4a41ab9b0501f1c0485425",
            "placeholder": "​",
            "style": "IPY_MODEL_e94f24ad944b44f5af57e8908aa7371b",
            "value": " 232k/232k [00:00&lt;00:00, 2.86MB/s]"
          }
        },
        "f258b9cbe49440e987466d5bf051c67e": {
          "model_module": "@jupyter-widgets/base",
          "model_module_version": "1.2.0",
          "model_name": "LayoutModel",
          "state": {
            "_model_module": "@jupyter-widgets/base",
            "_model_module_version": "1.2.0",
            "_model_name": "LayoutModel",
            "_view_count": null,
            "_view_module": "@jupyter-widgets/base",
            "_view_module_version": "1.2.0",
            "_view_name": "LayoutView",
            "align_content": null,
            "align_items": null,
            "align_self": null,
            "border": null,
            "bottom": null,
            "display": null,
            "flex": null,
            "flex_flow": null,
            "grid_area": null,
            "grid_auto_columns": null,
            "grid_auto_flow": null,
            "grid_auto_rows": null,
            "grid_column": null,
            "grid_gap": null,
            "grid_row": null,
            "grid_template_areas": null,
            "grid_template_columns": null,
            "grid_template_rows": null,
            "height": null,
            "justify_content": null,
            "justify_items": null,
            "left": null,
            "margin": null,
            "max_height": null,
            "max_width": null,
            "min_height": null,
            "min_width": null,
            "object_fit": null,
            "object_position": null,
            "order": null,
            "overflow": null,
            "overflow_x": null,
            "overflow_y": null,
            "padding": null,
            "right": null,
            "top": null,
            "visibility": null,
            "width": null
          }
        },
        "f726555cfc874089826e034ea7c27998": {
          "model_module": "@jupyter-widgets/controls",
          "model_module_version": "1.5.0",
          "model_name": "HBoxModel",
          "state": {
            "_dom_classes": [],
            "_model_module": "@jupyter-widgets/controls",
            "_model_module_version": "1.5.0",
            "_model_name": "HBoxModel",
            "_view_count": null,
            "_view_module": "@jupyter-widgets/controls",
            "_view_module_version": "1.5.0",
            "_view_name": "HBoxView",
            "box_style": "",
            "children": [
              "IPY_MODEL_b85c8dcc0b85479595ae5e9ea20326ff",
              "IPY_MODEL_67a609a4f37b429995e2cb04992042fc",
              "IPY_MODEL_dde3a80316f54258ba7cf0f1ccb39a3c"
            ],
            "layout": "IPY_MODEL_ef7aedb321ea4cf9b7cf5db1af4ec3ad"
          }
        },
        "fbd9471fdab74134a09028773e4021ad": {
          "model_module": "@jupyter-widgets/base",
          "model_module_version": "1.2.0",
          "model_name": "LayoutModel",
          "state": {
            "_model_module": "@jupyter-widgets/base",
            "_model_module_version": "1.2.0",
            "_model_name": "LayoutModel",
            "_view_count": null,
            "_view_module": "@jupyter-widgets/base",
            "_view_module_version": "1.2.0",
            "_view_name": "LayoutView",
            "align_content": null,
            "align_items": null,
            "align_self": null,
            "border": null,
            "bottom": null,
            "display": null,
            "flex": null,
            "flex_flow": null,
            "grid_area": null,
            "grid_auto_columns": null,
            "grid_auto_flow": null,
            "grid_auto_rows": null,
            "grid_column": null,
            "grid_gap": null,
            "grid_row": null,
            "grid_template_areas": null,
            "grid_template_columns": null,
            "grid_template_rows": null,
            "height": null,
            "justify_content": null,
            "justify_items": null,
            "left": null,
            "margin": null,
            "max_height": null,
            "max_width": null,
            "min_height": null,
            "min_width": null,
            "object_fit": null,
            "object_position": null,
            "order": null,
            "overflow": null,
            "overflow_x": null,
            "overflow_y": null,
            "padding": null,
            "right": null,
            "top": null,
            "visibility": null,
            "width": null
          }
        },
        "fcfb36cc377a402899beb89d879d5b25": {
          "model_module": "@jupyter-widgets/base",
          "model_module_version": "1.2.0",
          "model_name": "LayoutModel",
          "state": {
            "_model_module": "@jupyter-widgets/base",
            "_model_module_version": "1.2.0",
            "_model_name": "LayoutModel",
            "_view_count": null,
            "_view_module": "@jupyter-widgets/base",
            "_view_module_version": "1.2.0",
            "_view_name": "LayoutView",
            "align_content": null,
            "align_items": null,
            "align_self": null,
            "border": null,
            "bottom": null,
            "display": null,
            "flex": null,
            "flex_flow": null,
            "grid_area": null,
            "grid_auto_columns": null,
            "grid_auto_flow": null,
            "grid_auto_rows": null,
            "grid_column": null,
            "grid_gap": null,
            "grid_row": null,
            "grid_template_areas": null,
            "grid_template_columns": null,
            "grid_template_rows": null,
            "height": null,
            "justify_content": null,
            "justify_items": null,
            "left": null,
            "margin": null,
            "max_height": null,
            "max_width": null,
            "min_height": null,
            "min_width": null,
            "object_fit": null,
            "object_position": null,
            "order": null,
            "overflow": null,
            "overflow_x": null,
            "overflow_y": null,
            "padding": null,
            "right": null,
            "top": null,
            "visibility": null,
            "width": null
          }
        }
      }
    }
  },
  "nbformat": 4,
  "nbformat_minor": 0
}
